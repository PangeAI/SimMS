{
 "cells": [
  {
   "cell_type": "code",
   "execution_count": 1,
   "metadata": {},
   "outputs": [],
   "source": [
    "import numba\n",
    "import numpy as np\n",
    "from numba import cuda\n",
    "import cupy as cp\n"
   ]
  },
  {
   "cell_type": "code",
   "execution_count": 2,
   "metadata": {},
   "outputs": [
    {
     "data": {
      "text/plain": [
       "True"
      ]
     },
     "execution_count": 2,
     "metadata": {},
     "output_type": "execute_result"
    }
   ],
   "source": [
    "cuda.is_available()"
   ]
  },
  {
   "cell_type": "code",
   "execution_count": 12,
   "metadata": {},
   "outputs": [
    {
     "data": {
      "text/plain": [
       "array([[  1.,   2.,   3.,   4.,   5.,   6.,   7.,   8.,   9.,  10.],\n",
       "       [ 11.,  12.,  13.,  14.,  15.,  16.,  17.,  18.,  19.,  20.],\n",
       "       [ 21.,  22.,  23.,  24.,  25.,  26.,  27.,  28.,  29.,  30.],\n",
       "       [ 31.,  32.,  33.,  34.,  35.,  36.,  37.,  38.,  39.,  40.],\n",
       "       [ 41.,  42.,  43.,  44.,  45.,  46.,  47.,  48.,  49.,  50.],\n",
       "       [ 51.,  52.,  53.,  54.,  55.,  56.,  57.,  58.,  59.,  60.],\n",
       "       [ 61.,  62.,  63.,  64.,  65.,  66.,  67.,  68.,  69.,  70.],\n",
       "       [ 71.,  72.,  73.,  74.,  75.,  76.,  77.,  78.,  79.,  80.],\n",
       "       [ 81.,  82.,  83.,  84.,  85.,  86.,  87.,  88.,  89.,  90.],\n",
       "       [ 91.,  92.,  93.,  94.,  95.,  96.,  97.,  98.,  99., 100.]],\n",
       "      dtype=float32)"
      ]
     },
     "execution_count": 12,
     "metadata": {},
     "output_type": "execute_result"
    }
   ],
   "source": [
    "module = cp.RawModule(code=f\"\"\"\n",
    "\n",
    "\"\"\"+\"\"\"\n",
    "extern \"C\"\n",
    "__global__ void test_sum(const float* x1, const float* x2, float* y, unsigned int N)\n",
    "{\n",
    "    unsigned int tid = blockDim.x * blockIdx.x + threadIdx.x;\n",
    "\n",
    "    if (tid < N)\n",
    "\n",
    "    {\n",
    "\n",
    "        y[tid] = x1[tid] + x2[tid];\n",
    "\n",
    "    }\n",
    "\n",
    "}\n",
    "\"\"\")\n",
    "kernel_sum = module.get_function('test_sum')\n",
    "N = 10\n",
    "x1 = cp.arange(N**2, dtype=cp.float32).reshape(N, N)\n",
    "x2 = cp.ones((N, N), dtype=cp.float32)\n",
    "y = cp.zeros((N, N), dtype=cp.float32)\n",
    "kernel_sum((N,), (N,), (x1, x2, y, N**2))   # y = x1 + x2\n",
    "y.get()"
   ]
  },
  {
   "cell_type": "code",
   "execution_count": 7,
   "metadata": {},
   "outputs": [
    {
     "data": {
      "text/plain": [
       "(array([[ 0.16551658,  0.25574659, -0.47751305, ...,  0.40922934,\n",
       "         -0.13280426, -0.43356575],\n",
       "        [ 0.40044034, -1.70343825,  1.3609507 , ..., -0.84812372,\n",
       "         -1.33284189, -1.47541299],\n",
       "        [ 1.11451323,  0.52897825,  1.77555674, ..., -0.63917   ,\n",
       "         -0.64851516, -0.07238644],\n",
       "        ...,\n",
       "        [ 1.26165929,  0.03992979, -0.58289172, ..., -0.53114831,\n",
       "         -0.47163122,  0.272213  ],\n",
       "        [ 1.73230222,  0.25573774, -1.34528846, ...,  1.24223258,\n",
       "         -0.0868253 , -0.42396386],\n",
       "        [ 0.61169302, -0.3758317 , -0.59765444, ..., -1.5066226 ,\n",
       "          0.96138023,  0.59594076]]),\n",
       " array([[ 1.16551658,  1.25574659,  0.52248695, ...,  1.40922934,\n",
       "          0.86719574,  0.56643425],\n",
       "        [ 1.40044034, -0.70343825,  2.3609507 , ...,  0.15187628,\n",
       "         -0.33284189, -0.47541299],\n",
       "        [ 2.11451323,  1.52897825,  2.77555674, ...,  0.36083   ,\n",
       "          0.35148484,  0.92761356],\n",
       "        ...,\n",
       "        [ 2.26165929,  1.03992979,  0.41710828, ...,  0.46885169,\n",
       "          0.52836878,  1.272213  ],\n",
       "        [ 2.73230222,  1.25573774, -0.34528846, ...,  2.24223258,\n",
       "          0.9131747 ,  0.57603614],\n",
       "        [ 1.61169302,  0.6241683 ,  0.40234556, ..., -0.5066226 ,\n",
       "          1.96138023,  1.59594076]]))"
      ]
     },
     "execution_count": 7,
     "metadata": {},
     "output_type": "execute_result"
    }
   ],
   "source": [
    "\n",
    "R, Q, D = 100, 100, 10\n",
    "HEAP_SIZE = \n",
    "\n",
    "arr = np.random.randn(R, Q, D)\n",
    "arr_cu = cuda.to_device(arr)\n",
    "\n",
    "@cuda.jit(device=True)\n",
    "def heap_insert(heap, value):\n",
    "    heap\n",
    "\n",
    "@cuda.jit\n",
    "def heap_kernel(arr, out):\n",
    "    i, j = cuda.grid(2)\n",
    "    if i < R and j < Q:\n",
    "        out[i,j, 0] = arr[i,j,0] + 1\n",
    "    \n",
    "TX, TY = 32,32\n",
    "BX, BY = (R + TX - 1) // TX, (Q + TY - 1) // TY\n",
    "out_cu = cuda.device_array_like(arr)\n",
    "\n",
    "heap_kernel[(BX, BY), (TX, TY)](\n",
    "    arr_cu, out_cu\n",
    ")\n",
    "\n",
    "out = out_cu.copy_to_host()\n",
    "arr, out"
   ]
  }
 ],
 "metadata": {
  "kernelspec": {
   "display_name": "Python 3",
   "language": "python",
   "name": "python3"
  },
  "language_info": {
   "codemirror_mode": {
    "name": "ipython",
    "version": 3
   },
   "file_extension": ".py",
   "mimetype": "text/x-python",
   "name": "python",
   "nbconvert_exporter": "python",
   "pygments_lexer": "ipython3",
   "version": "3.11.8"
  }
 },
 "nbformat": 4,
 "nbformat_minor": 2
}
