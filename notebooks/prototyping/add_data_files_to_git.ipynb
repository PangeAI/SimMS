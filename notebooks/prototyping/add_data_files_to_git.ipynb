{
 "cells": [
  {
   "cell_type": "code",
   "execution_count": 1,
   "metadata": {},
   "outputs": [],
   "source": [
    "import matchms\n",
    "from matchms.importing import load_from_mgf\n",
    "from cudams.utils import download\n",
    "\n",
    "spectra = list(load_from_mgf(download('pesticides.mgf')))"
   ]
  },
  {
   "cell_type": "code",
   "execution_count": 18,
   "metadata": {},
   "outputs": [
    {
     "name": "stderr",
     "output_type": "stream",
     "text": [
      "Downloading data from 'https://github.com/tornikeo/cudams/releases/download/samples-0.1/GNPS-LIBRARY.mgf' to file '/root/.cache/pooch/2760208952fe938bca39dc357d066434-GNPS-LIBRARY.mgf'.\n",
      "100%|███████████████████████████████████████| 128M/128M [00:00<00:00, 61.1GB/s]\n"
     ]
    }
   ],
   "source": [
    "large_file = download('GNPS_LIBRARY.mgf')"
   ]
  },
  {
   "cell_type": "code",
   "execution_count": 19,
   "metadata": {},
   "outputs": [
    {
     "name": "stderr",
     "output_type": "stream",
     "text": [
      "14244it [00:12, 1154.52it/s]\n"
     ]
    }
   ],
   "source": [
    "from typing import Generator, TextIO, Union\n",
    "from pyteomics.mgf import MGF\n",
    "from joblib import Parallel, delayed\n",
    "from matchms.importing.parsing_utils import parse_spectrum_dict\n",
    "from matchms.Spectrum import Spectrum\n",
    "from tqdm import tqdm\n",
    "\n",
    "jobs = []\n",
    "metadata_harmonization = True\n",
    "with MGF(large_file, convert_arrays=1) as reader:\n",
    "    reader = zip(reader, range(100_000))\n",
    "    spectra = Parallel(-1)(\n",
    "        delayed(parse_spectrum_dict)(spectrum=pyteomics_spectrum, metadata_harmonization=metadata_harmonization) \n",
    "        for pyteomics_spectrum,_ in tqdm(reader)\n",
    "    )"
   ]
  },
  {
   "cell_type": "code",
   "execution_count": 28,
   "metadata": {},
   "outputs": [
    {
     "name": "stdout",
     "output_type": "stream",
     "text": [
      "2024-03-25 15:27:03,295:WARNING:matchms:correct_charge:Changed sign of given charge: -1 to match positive ionmode\n",
      "2024-03-25 15:27:03,301:WARNING:matchms:correct_charge:Changed sign of given charge: -1 to match positive ionmode\n",
      "2024-03-25 15:27:03,394:WARNING:matchms:correct_charge:Changed sign of given charge: -1 to match positive ionmode\n",
      "2024-03-25 15:27:03,768:WARNING:matchms:interpret_unknown_adduct:Charge was found 0 times in adduct [M+Fe-2H]\n",
      "2024-03-25 15:27:03,771:WARNING:matchms:interpret_unknown_adduct:Charge was found 0 times in adduct [M+Fe-2H]\n",
      "2024-03-25 15:27:03,778:WARNING:matchms:interpret_unknown_adduct:Charge was found 0 times in adduct [M+Fe-2H]\n",
      "2024-03-25 15:27:03,785:WARNING:matchms:interpret_unknown_adduct:Charge was found 0 times in adduct [M+Fe-2H]\n",
      "2024-03-25 15:27:03,812:WARNING:matchms:interpret_unknown_adduct:Charge was found 0 times in adduct [M+Fe-2H]\n",
      "2024-03-25 15:27:03,827:WARNING:matchms:interpret_unknown_adduct:Charge was found 0 times in adduct [M+Fe-2H]\n",
      "2024-03-25 15:27:03,836:WARNING:matchms:interpret_unknown_adduct:Charge was found 0 times in adduct [M+Fe-2H]\n",
      "2024-03-25 15:27:03,840:WARNING:matchms:interpret_unknown_adduct:Charge was found 0 times in adduct [M+Cr-2H]\n",
      "2024-03-25 15:27:03,844:WARNING:matchms:interpret_unknown_adduct:Charge was found 0 times in adduct [M+Al-2H]\n",
      "2024-03-25 15:27:03,845:WARNING:matchms:interpret_unknown_adduct:Charge was found 0 times in adduct [M+Fe-2H]\n",
      "2024-03-25 15:27:03,847:WARNING:matchms:interpret_unknown_adduct:Charge was found 0 times in adduct [M+Al-2H]\n",
      "2024-03-25 15:27:03,851:WARNING:matchms:interpret_unknown_adduct:Charge was found 0 times in adduct [M+Al-2H]\n",
      "2024-03-25 15:27:03,852:WARNING:matchms:interpret_unknown_adduct:Charge was found 0 times in adduct [M+Fe-2H]\n",
      "2024-03-25 15:27:03,859:WARNING:matchms:interpret_unknown_adduct:Charge was found 0 times in adduct [M+Fe-2H]\n",
      "2024-03-25 15:27:03,861:WARNING:matchms:interpret_unknown_adduct:Charge was found 0 times in adduct [M+Al-2H]\n",
      "2024-03-25 15:27:03,876:WARNING:matchms:interpret_unknown_adduct:Charge was found 0 times in adduct [M+Fe-2H]\n",
      "2024-03-25 15:27:03,889:WARNING:matchms:derive_adduct_from_name:Two potential adducts were found in the compound name that are both valid adducts. The first adduct is used. The adducts found are: ['[2M+H]+', '[M+H]+']\n",
      "2024-03-25 15:27:03,986:WARNING:matchms:interpret_unknown_adduct:Charge was found 0 times in adduct [M+Na+]\n",
      "2024-03-25 15:27:04,157:WARNING:matchms:interpret_unknown_adduct:Charge was found 0 times in adduct [M+H+]\n",
      "2024-03-25 15:27:04,161:WARNING:matchms:interpret_unknown_adduct:Charge was found 0 times in adduct [M+Na+]\n",
      "2024-03-25 15:27:04,184:WARNING:matchms:interpret_unknown_adduct:Charge was found 0 times in adduct [M+H+]\n",
      "2024-03-25 15:27:04,215:WARNING:matchms:interpret_unknown_adduct:Charge was found 0 times in adduct [M+Na+]\n",
      "2024-03-25 15:27:04,248:WARNING:matchms:interpret_unknown_adduct:Charge was found 0 times in adduct [M+NH4;]\n",
      "2024-03-25 15:27:04,279:WARNING:matchms:interpret_unknown_adduct:Charge was found 0 times in adduct [M+H-CO]\n",
      "2024-03-25 15:27:04,282:WARNING:matchms:interpret_unknown_adduct:Charge was found 0 times in adduct [M-CO+Hputative]\n",
      "2024-03-25 15:27:04,320:WARNING:matchms:interpret_unknown_adduct:Charge was found 0 times in adduct [M-CO+H]\n",
      "2024-03-25 15:27:04,321:WARNING:matchms:interpret_unknown_adduct:Charge was found 0 times in adduct [M-H2\n",
      "2024-03-25 15:27:04,337:WARNING:matchms:interpret_unknown_adduct:Charge was found 0 times in adduct [M-H2+Fe]\n",
      "2024-03-25 15:27:04,344:WARNING:matchms:interpret_unknown_adduct:Charge was found 0 times in adduct [M-H2+Fe]\n",
      "2024-03-25 15:27:04,350:WARNING:matchms:interpret_unknown_adduct:Charge was found 0 times in adduct [M-H2+Fe]\n",
      "2024-03-25 15:27:04,354:WARNING:matchms:interpret_unknown_adduct:Charge was found 0 times in adduct [M-H2+Fe]\n",
      "2024-03-25 15:27:04,357:WARNING:matchms:interpret_unknown_adduct:Charge was found 0 times in adduct [M-H2+Fe]\n",
      "2024-03-25 15:27:04,361:WARNING:matchms:interpret_unknown_adduct:Charge was found 0 times in adduct [M-H2+Fe]\n",
      "2024-03-25 15:27:04,436:WARNING:matchms:interpret_unknown_adduct:Charge was found 0 times in adduct [M-3H+Fe+Na]\n",
      "2024-03-25 15:27:04,440:WARNING:matchms:interpret_unknown_adduct:Charge was found 0 times in adduct [M-3H+Fe+Na]\n",
      "2024-03-25 15:27:04,647:WARNING:matchms:correct_charge:Changed sign of given charge: -1 to match positive ionmode\n",
      "2024-03-25 15:27:04,651:WARNING:matchms:correct_charge:Changed sign of given charge: -1 to match positive ionmode\n",
      "2024-03-25 15:27:05,601:WARNING:matchms:derive_adduct_from_name:Two potential adducts were found in the compound name that are both valid adducts. The first adduct is used. The adducts found are: ['[M+Al]+', '[M+H]+']\n",
      "2024-03-25 15:27:06,768:WARNING:matchms:derive_adduct_from_name:Two potential adducts were found in the compound name that are both valid adducts. The first adduct is used. The adducts found are: ['[M+H]+', '[M+Na]+']\n",
      "2024-03-25 15:27:06,772:WARNING:matchms:derive_adduct_from_name:Two potential adducts were found in the compound name that are both valid adducts. The first adduct is used. The adducts found are: ['[M+H]+', '[M+Na]+']\n",
      "2024-03-25 15:27:06,779:WARNING:matchms:interpret_unknown_adduct:Charge was found 0 times in adduct [M+2H+]\n",
      "2024-03-25 15:27:06,780:WARNING:matchms:correct_charge:Changed sign of given charge: -1 to match positive ionmode\n",
      "2024-03-25 15:27:06,791:WARNING:matchms:correct_charge:Changed sign of given charge: -1 to match positive ionmode\n",
      "2024-03-25 15:27:07,223:WARNING:matchms:correct_charge:Changed sign of given charge: -1 to match positive ionmode\n"
     ]
    }
   ],
   "source": [
    "from matchms.filtering import default_filters, normalize_intensities, reduce_to_number_of_peaks\n",
    "\n",
    "def parse_spectrum(spectrum):\n",
    "    spectrum = default_filters(spectrum)\n",
    "    spectrum = normalize_intensities(spectrum)\n",
    "    spectrum = reduce_to_number_of_peaks(spectrum, n_max=1024) # NOTICE! We cut off smaller peaks, after the largest `max_peaks` - this is required for the GPU\n",
    "    return spectrum\n",
    "\n",
    "spectra_proc = Parallel(-1)(\n",
    "    delayed(parse_spectrum)(spe) for spe in spectra\n",
    ")\n",
    "spectra_proc = [sp for sp in spectra_proc if sp is not None]"
   ]
  },
  {
   "cell_type": "code",
   "execution_count": 32,
   "metadata": {},
   "outputs": [],
   "source": [
    "import pickle\n",
    "from pathlib import Path\n",
    "\n",
    "Path('data').mkdir(exist_ok=True)\n",
    "file = Path('data/GNPS-LIBRARY-default-filter-nmax-1024.pickle')\n",
    "file.write_bytes(pickle.dumps(spectra_proc))\n",
    "spectra_load = pickle.loads(file.read_bytes())"
   ]
  },
  {
   "cell_type": "code",
   "execution_count": 33,
   "metadata": {},
   "outputs": [
    {
     "name": "stdout",
     "output_type": "stream",
     "text": [
      "\u001b[KSuccessfully uploaded 1 asset to \u001b[0;1;39msamples-0.1\u001b[0m\n"
     ]
    }
   ],
   "source": [
    "!gh release upload --clobber samples-0.1 {file}"
   ]
  },
  {
   "cell_type": "code",
   "execution_count": null,
   "metadata": {},
   "outputs": [],
   "source": []
  }
 ],
 "metadata": {
  "kernelspec": {
   "display_name": "base",
   "language": "python",
   "name": "python3"
  },
  "language_info": {
   "codemirror_mode": {
    "name": "ipython",
    "version": 3
   },
   "file_extension": ".py",
   "mimetype": "text/x-python",
   "name": "python",
   "nbconvert_exporter": "python",
   "pygments_lexer": "ipython3",
   "version": "3.10.13"
  }
 },
 "nbformat": 4,
 "nbformat_minor": 2
}
