{
 "cells": [
  {
   "cell_type": "code",
   "execution_count": 20,
   "metadata": {},
   "outputs": [
    {
     "name": "stdout",
     "output_type": "stream",
     "text": [
      "Number of CPU cores 128\n"
     ]
    }
   ],
   "source": [
    "# We compare pairwise similarity performance on `spectra_file`\n",
    "# We can use pickled version for much faster loading times\n",
    "spectra_file = 'GNPS-random-10k.mgf'\n",
    "\n",
    "# We take a random sample of spectra from said file\n",
    "\n",
    "# Minimum size:\n",
    "chunk_sizes_min = 32\n",
    "\n",
    "# Maximum size\n",
    "chunk_sizes_max = 2048\n",
    "\n",
    "# how many points to evaluate (in logspace) between min and max\n",
    "num_evals = 15\n",
    "\n",
    "! echo Number of CPU cores $(nproc)"
   ]
  },
  {
   "cell_type": "code",
   "execution_count": 21,
   "metadata": {},
   "outputs": [],
   "source": [
    "from cudams.utils import Timer\n",
    "from tqdm import tqdm\n",
    "import numpy as np\n",
    "import sys\n",
    "import pandas as pd\n",
    "import pickle\n",
    "from cudams.utils import download\n",
    "from joblib import Parallel, delayed\n",
    "from matchms.similarity import CosineGreedy, ModifiedCosine\n",
    "from matchms.importing import load_from_mgf\n",
    "from matchms.filtering import require_precursor_mz\n",
    "from cudams.utils import Timer\n",
    "\n",
    "np.random.seed(42)\n",
    "\n",
    "raw_spectra = list(load_from_mgf(download(spectra_file)))"
   ]
  },
  {
   "cell_type": "code",
   "execution_count": 22,
   "metadata": {},
   "outputs": [],
   "source": [
    "spectra = []\n",
    "for s in raw_spectra:\n",
    "    s = require_precursor_mz(s)\n",
    "    if s is not None:\n",
    "        spectra.append(s)"
   ]
  },
  {
   "cell_type": "code",
   "execution_count": 23,
   "metadata": {},
   "outputs": [
    {
     "data": {
      "text/plain": [
       "9997"
      ]
     },
     "execution_count": 23,
     "metadata": {},
     "output_type": "execute_result"
    }
   ],
   "source": [
    "len(spectra)"
   ]
  },
  {
   "cell_type": "code",
   "execution_count": 24,
   "metadata": {},
   "outputs": [
    {
     "name": "stderr",
     "output_type": "stream",
     "text": [
      "\n",
      "\n",
      "\n",
      "\n",
      "\n",
      "  0%|          | 0/15 [00:00<?, ?it/s]\u001b[A\u001b[A\u001b[A\u001b[A\u001b[A\n",
      "\n",
      "\n",
      "\n",
      "\n",
      " 13%|█▎        | 2/15 [00:00<00:02,  4.86it/s]\u001b[A\u001b[A\u001b[A\u001b[A\u001b[A\n",
      "\n",
      "\n",
      "\n",
      "\n",
      " 27%|██▋       | 4/15 [00:07<00:23,  2.12s/it]\u001b[A\u001b[A\u001b[A\u001b[A\u001b[A\n",
      "\n",
      "\n",
      "\n",
      "\n",
      " 40%|████      | 6/15 [00:09<00:15,  1.73s/it]\u001b[A\u001b[A\u001b[A\u001b[A\u001b[A\n",
      "\n",
      "\n",
      "\n",
      "\n",
      " 47%|████▋     | 7/15 [00:10<00:10,  1.34s/it]\u001b[A\u001b[A\u001b[A\u001b[A\u001b[A\n",
      "\n",
      "\n",
      "\n",
      "\n",
      " 53%|█████▎    | 8/15 [00:11<00:09,  1.30s/it]\u001b[A\u001b[A\u001b[A\u001b[A\u001b[A\n",
      "\n",
      "\n",
      "\n",
      "\n",
      " 67%|██████▋   | 10/15 [00:16<00:09,  1.83s/it]\u001b[A\u001b[A\u001b[A\u001b[A\u001b[A\n",
      "\n",
      "\n",
      "\n",
      "\n",
      " 80%|████████  | 12/15 [00:26<00:09,  3.05s/it]\u001b[A\u001b[A\u001b[A\u001b[A\u001b[A\n",
      "\n",
      "\n",
      "\n",
      "\n",
      "100%|██████████| 15/15 [00:57<00:00,  3.84s/it]\u001b[A\u001b[A\u001b[A\u001b[A\u001b[A\n"
     ]
    }
   ],
   "source": [
    "chunk_sizes = np.round(np.logspace(\n",
    "    np.log2(chunk_sizes_min), \n",
    "    np.log2(chunk_sizes_max), \n",
    "    num=num_evals, \n",
    "    base=2, \n",
    "    endpoint=True)\n",
    ").astype(int)\n",
    "\n",
    "def loop(chunk_size, kernel):\n",
    "    references = np.random.choice(spectra, size=chunk_size)\n",
    "    queries = np.random.choice(spectra, size=chunk_size)\n",
    "\n",
    "    # Allow warm-up\n",
    "    kernel.matrix(references[:4], queries[:4])\n",
    "\n",
    "    with Timer() as timer:\n",
    "        kernel.matrix(references, queries)\n",
    "    return kernel.__class__.__name__, \\\n",
    "        timer.duration,\\\n",
    "        len(references) * len(queries) # All samples\n",
    "\n",
    "# We have enough CPUs, right?\n",
    "data = Parallel(4)(delayed(loop)(chunk_size, kernel) for chunk_size in tqdm(chunk_sizes) for kernel in [CosineGreedy(), ModifiedCosine()])\n",
    "data = pd.DataFrame(data, columns=['kernel','time','pairs'])\n",
    "data['label'] = 'MatchMS'"
   ]
  },
  {
   "cell_type": "code",
   "execution_count": 25,
   "metadata": {},
   "outputs": [
    {
     "name": "stdout",
     "output_type": "stream",
     "text": [
      "{\"kernel\":{\"0\":\"CosineGreedy\",\"1\":\"ModifiedCosine\",\"2\":\"CosineGreedy\",\"3\":\"ModifiedCosine\",\"4\":\"CosineGreedy\",\"5\":\"ModifiedCosine\",\"6\":\"CosineGreedy\",\"7\":\"ModifiedCosine\",\"8\":\"CosineGreedy\",\"9\":\"ModifiedCosine\",\"10\":\"CosineGreedy\",\"11\":\"ModifiedCosine\",\"12\":\"CosineGreedy\",\"13\":\"ModifiedCosine\",\"14\":\"CosineGreedy\",\"15\":\"ModifiedCosine\",\"16\":\"CosineGreedy\",\"17\":\"ModifiedCosine\",\"18\":\"CosineGreedy\",\"19\":\"ModifiedCosine\",\"20\":\"CosineGreedy\",\"21\":\"ModifiedCosine\",\"22\":\"CosineGreedy\",\"23\":\"ModifiedCosine\",\"24\":\"CosineGreedy\",\"25\":\"ModifiedCosine\",\"26\":\"CosineGreedy\",\"27\":\"ModifiedCosine\",\"28\":\"CosineGreedy\",\"29\":\"ModifiedCosine\"},\"time\":{\"0\":3.3452200247,\"1\":3.4825263112,\"2\":1.4242219273,\"3\":3.6208217419,\"4\":1.5034325663,\"5\":1.3939296789,\"6\":0.3249981231,\"7\":0.9768814989,\"8\":0.5354183698,\"9\":2.4722801382,\"10\":1.0703489119,\"11\":4.0897979671,\"12\":2.5273353779,\"13\":5.94818806,\"14\":3.3287949921,\"15\":10.5887021492,\"16\":6.0714132083,\"17\":19.0591123402,\"18\":11.0056099179,\"19\":34.3604118112,\"20\":19.3705989621,\"21\":61.8403621889,\"22\":35.506147386,\"23\":113.446559309,\"24\":62.9478777447,\"25\":203.1393390088,\"26\":113.896706122,\"27\":363.0460352018,\"28\":202.0810533469,\"29\":663.3559955712},\"pairs\":{\"0\":1024,\"1\":1024,\"2\":1849,\"3\":1849,\"4\":3364,\"5\":3364,\"6\":6084,\"7\":6084,\"8\":11025,\"9\":11025,\"10\":19881,\"11\":19881,\"12\":36100,\"13\":36100,\"14\":65536,\"15\":65536,\"16\":119025,\"17\":119025,\"18\":215296,\"19\":215296,\"20\":389376,\"21\":389376,\"22\":705600,\"23\":705600,\"24\":1279161,\"25\":1279161,\"26\":2316484,\"27\":2316484,\"28\":4194304,\"29\":4194304},\"label\":{\"0\":\"MatchMS\",\"1\":\"MatchMS\",\"2\":\"MatchMS\",\"3\":\"MatchMS\",\"4\":\"MatchMS\",\"5\":\"MatchMS\",\"6\":\"MatchMS\",\"7\":\"MatchMS\",\"8\":\"MatchMS\",\"9\":\"MatchMS\",\"10\":\"MatchMS\",\"11\":\"MatchMS\",\"12\":\"MatchMS\",\"13\":\"MatchMS\",\"14\":\"MatchMS\",\"15\":\"MatchMS\",\"16\":\"MatchMS\",\"17\":\"MatchMS\",\"18\":\"MatchMS\",\"19\":\"MatchMS\",\"20\":\"MatchMS\",\"21\":\"MatchMS\",\"22\":\"MatchMS\",\"23\":\"MatchMS\",\"24\":\"MatchMS\",\"25\":\"MatchMS\",\"26\":\"MatchMS\",\"27\":\"MatchMS\",\"28\":\"MatchMS\",\"29\":\"MatchMS\"}}"
     ]
    }
   ],
   "source": [
    "data.to_json(sys.stdout)"
   ]
  }
 ],
 "metadata": {
  "kernelspec": {
   "display_name": "Python 3 (ipykernel)",
   "language": "python",
   "name": "python3"
  },
  "language_info": {
   "codemirror_mode": {
    "name": "ipython",
    "version": 3
   },
   "file_extension": ".py",
   "mimetype": "text/x-python",
   "name": "python",
   "nbconvert_exporter": "python",
   "pygments_lexer": "ipython3",
   "version": "3.10.13"
  }
 },
 "nbformat": 4,
 "nbformat_minor": 4
}
