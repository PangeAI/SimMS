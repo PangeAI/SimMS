{
  "cells": [
    {
      "cell_type": "markdown",
      "metadata": {
        "id": "e8-M9w-uUJuK"
      },
      "source": [
        "This notebook evaluates performance gains of `CudaCosineGreedy` against `matchms`.\n",
        "\n",
        "Performance depends heavily on used hardware, as well as how correlated the spectra are with each other, (i.e. on average, how many common pairs of peaks do spectra have).\n",
        "\n",
        "This specific notebook evaluates the performance given the following below arguments (feel free to change these):"
      ]
    },
    {
      "cell_type": "code",
      "execution_count": 1,
      "metadata": {
        "colab": {
          "base_uri": "https://localhost:8080/"
        },
        "id": "DWZO44x6UJuM",
        "outputId": "8c8163ae-9788-4f93-f1ae-dbc177d9f226"
      },
      "outputs": [
        {
          "output_type": "stream",
          "name": "stdout",
          "text": [
            "GPU 0: Tesla T4 (UUID: GPU-910df82c-0fd1-816b-c967-a08a64d0cda4)\n",
            "Number of CPU cores 2\n"
          ]
        }
      ],
      "source": [
        "# We can use pickled version for much faster loading times\n",
        "spectra_file = 'GNPS-LIBRARY-default-filter-nmax-2048.pickle'\n",
        "\n",
        "# We take a random sample of spectra from said file\n",
        "\n",
        "# Minimum size:\n",
        "chunk_sizes_min = 32\n",
        "\n",
        "# Maximum size\n",
        "chunk_sizes_max = 5_000\n",
        "\n",
        "# how many points to evaluate (in logspace) between min and max\n",
        "num_evals = 15\n",
        "\n",
        "# max number of peaks to retain in any spectra - larger numbers are marginally more accurate, but much slower\n",
        "n_max_peaks = 1024\n",
        "\n",
        "# Match limit\n",
        "match_limit = 2048\n",
        "\n",
        "# tolerance\n",
        "tolerance = 0.1\n",
        "\n",
        "# optimal batch size is hardware-dependent, but usually the best number is the largest the hardware can handle (without an OOM error)\n",
        "batch_size = 2048\n",
        "\n",
        "# Hardware matters! These results are only repeatable using this GPU (shown as an output)\n",
        "! nvidia-smi -L\n",
        "! echo Number of CPU cores $(nproc)"
      ]
    },
    {
      "cell_type": "code",
      "execution_count": 2,
      "metadata": {
        "colab": {
          "base_uri": "https://localhost:8080/"
        },
        "id": "u0_rMyjkUJuN",
        "outputId": "227181f6-8e5f-4838-9bfc-9d32a35a04e8"
      },
      "outputs": [
        {
          "output_type": "stream",
          "name": "stdout",
          "text": [
            "\u001b[2K     \u001b[90m━━━━━━━━━━━━━━━━━━━━━━━━━━━━━━━━━━━━━━━━\u001b[0m \u001b[32m17.3/17.3 MB\u001b[0m \u001b[31m56.5 MB/s\u001b[0m eta \u001b[36m0:00:00\u001b[0m\n",
            "\u001b[?25h\u001b[31mERROR: pip's dependency resolver does not currently take into account all the packages that are installed. This behaviour is the source of the following dependency conflicts.\n",
            "chex 0.1.86 requires numpy>=1.24.1, but you have numpy 1.24.0 which is incompatible.\n",
            "imageio 2.31.6 requires pillow<10.1.0,>=8.3.2, but you have pillow 10.2.0 which is incompatible.\n",
            "numba 0.58.1 requires llvmlite<0.42,>=0.41.0dev0, but you have llvmlite 0.40.1 which is incompatible.\n",
            "seaborn 0.13.1 requires numpy!=1.24.0,>=1.20, but you have numpy 1.24.0 which is incompatible.\u001b[0m\u001b[31m\n",
            "\u001b[0m\u001b[33mWARNING: Skipping cudams as it is not installed.\u001b[0m\u001b[33m\n",
            "\u001b[0m  Installing build dependencies ... \u001b[?25l\u001b[?25hdone\n",
            "  Getting requirements to build wheel ... \u001b[?25l\u001b[?25hdone\n",
            "  Preparing metadata (pyproject.toml) ... \u001b[?25l\u001b[?25hdone\n",
            "  Building wheel for cudams (pyproject.toml) ... \u001b[?25l\u001b[?25hdone\n",
            "\u001b[31mERROR: pip's dependency resolver does not currently take into account all the packages that are installed. This behaviour is the source of the following dependency conflicts.\n",
            "bigframes 0.26.0 requires pandas<2.1.4,>=1.5.0, but you have pandas 2.2.1 which is incompatible.\n",
            "imageio 2.31.6 requires pillow<10.1.0,>=8.3.2, but you have pillow 10.2.0 which is incompatible.\u001b[0m\u001b[31m\n",
            "\u001b[0m"
          ]
        }
      ],
      "source": [
        "! pip install -q numpy==1.24\n",
        "! pip uninstall cudams -q -y\n",
        "! pip install -q --upgrade git+https://github.com/tornikeo/cudams@main"
      ]
    },
    {
      "cell_type": "code",
      "execution_count": 3,
      "metadata": {
        "colab": {
          "base_uri": "https://localhost:8080/"
        },
        "id": "4QgYZyUHUJuO",
        "outputId": "3d252645-a401-43ed-823e-488137b608d7"
      },
      "outputs": [
        {
          "output_type": "stream",
          "name": "stderr",
          "text": [
            "<frozen importlib._bootstrap>:914: ImportWarning: _PyDrive2ImportHook.find_spec() not found; falling back to find_module()\n",
            "<frozen importlib._bootstrap>:914: ImportWarning: _PyDriveImportHook.find_spec() not found; falling back to find_module()\n",
            "<frozen importlib._bootstrap>:914: ImportWarning: _GenerativeAIImportHook.find_spec() not found; falling back to find_module()\n",
            "<frozen importlib._bootstrap>:914: ImportWarning: _OpenCVImportHook.find_spec() not found; falling back to find_module()\n",
            "<frozen importlib._bootstrap>:914: ImportWarning: APICoreClientInfoImportHook.find_spec() not found; falling back to find_module()\n",
            "<frozen importlib._bootstrap>:914: ImportWarning: _BokehImportHook.find_spec() not found; falling back to find_module()\n",
            "<frozen importlib._bootstrap>:914: ImportWarning: _AltairImportHook.find_spec() not found; falling back to find_module()\n",
            "<frozen importlib._bootstrap>:914: ImportWarning: _PyDrive2ImportHook.find_spec() not found; falling back to find_module()\n",
            "<frozen importlib._bootstrap>:914: ImportWarning: _PyDriveImportHook.find_spec() not found; falling back to find_module()\n",
            "<frozen importlib._bootstrap>:914: ImportWarning: _GenerativeAIImportHook.find_spec() not found; falling back to find_module()\n",
            "<frozen importlib._bootstrap>:914: ImportWarning: _OpenCVImportHook.find_spec() not found; falling back to find_module()\n",
            "<frozen importlib._bootstrap>:914: ImportWarning: APICoreClientInfoImportHook.find_spec() not found; falling back to find_module()\n",
            "<frozen importlib._bootstrap>:914: ImportWarning: _BokehImportHook.find_spec() not found; falling back to find_module()\n",
            "<frozen importlib._bootstrap>:914: ImportWarning: _AltairImportHook.find_spec() not found; falling back to find_module()\n",
            "<frozen importlib._bootstrap>:914: ImportWarning: _PyDrive2ImportHook.find_spec() not found; falling back to find_module()\n",
            "<frozen importlib._bootstrap>:914: ImportWarning: _PyDriveImportHook.find_spec() not found; falling back to find_module()\n",
            "<frozen importlib._bootstrap>:914: ImportWarning: _GenerativeAIImportHook.find_spec() not found; falling back to find_module()\n",
            "<frozen importlib._bootstrap>:914: ImportWarning: _OpenCVImportHook.find_spec() not found; falling back to find_module()\n",
            "<frozen importlib._bootstrap>:914: ImportWarning: APICoreClientInfoImportHook.find_spec() not found; falling back to find_module()\n",
            "<frozen importlib._bootstrap>:914: ImportWarning: _BokehImportHook.find_spec() not found; falling back to find_module()\n",
            "<frozen importlib._bootstrap>:914: ImportWarning: _AltairImportHook.find_spec() not found; falling back to find_module()\n",
            "<frozen importlib._bootstrap>:914: ImportWarning: _PyDrive2ImportHook.find_spec() not found; falling back to find_module()\n",
            "<frozen importlib._bootstrap>:914: ImportWarning: _PyDriveImportHook.find_spec() not found; falling back to find_module()\n",
            "<frozen importlib._bootstrap>:914: ImportWarning: _GenerativeAIImportHook.find_spec() not found; falling back to find_module()\n",
            "<frozen importlib._bootstrap>:914: ImportWarning: _OpenCVImportHook.find_spec() not found; falling back to find_module()\n",
            "<frozen importlib._bootstrap>:914: ImportWarning: APICoreClientInfoImportHook.find_spec() not found; falling back to find_module()\n",
            "<frozen importlib._bootstrap>:914: ImportWarning: _BokehImportHook.find_spec() not found; falling back to find_module()\n",
            "<frozen importlib._bootstrap>:914: ImportWarning: _AltairImportHook.find_spec() not found; falling back to find_module()\n",
            "<frozen importlib._bootstrap>:914: ImportWarning: _PyDrive2ImportHook.find_spec() not found; falling back to find_module()\n",
            "<frozen importlib._bootstrap>:914: ImportWarning: _PyDriveImportHook.find_spec() not found; falling back to find_module()\n",
            "<frozen importlib._bootstrap>:914: ImportWarning: _GenerativeAIImportHook.find_spec() not found; falling back to find_module()\n",
            "<frozen importlib._bootstrap>:914: ImportWarning: _OpenCVImportHook.find_spec() not found; falling back to find_module()\n",
            "<frozen importlib._bootstrap>:914: ImportWarning: APICoreClientInfoImportHook.find_spec() not found; falling back to find_module()\n",
            "<frozen importlib._bootstrap>:914: ImportWarning: _BokehImportHook.find_spec() not found; falling back to find_module()\n",
            "<frozen importlib._bootstrap>:914: ImportWarning: _AltairImportHook.find_spec() not found; falling back to find_module()\n",
            "<frozen importlib._bootstrap>:914: ImportWarning: _PyDrive2ImportHook.find_spec() not found; falling back to find_module()\n",
            "<frozen importlib._bootstrap>:914: ImportWarning: _PyDriveImportHook.find_spec() not found; falling back to find_module()\n",
            "<frozen importlib._bootstrap>:914: ImportWarning: _GenerativeAIImportHook.find_spec() not found; falling back to find_module()\n",
            "<frozen importlib._bootstrap>:914: ImportWarning: _OpenCVImportHook.find_spec() not found; falling back to find_module()\n",
            "<frozen importlib._bootstrap>:914: ImportWarning: APICoreClientInfoImportHook.find_spec() not found; falling back to find_module()\n",
            "<frozen importlib._bootstrap>:914: ImportWarning: _BokehImportHook.find_spec() not found; falling back to find_module()\n",
            "<frozen importlib._bootstrap>:914: ImportWarning: _AltairImportHook.find_spec() not found; falling back to find_module()\n",
            "<frozen importlib._bootstrap>:914: ImportWarning: _PyDrive2ImportHook.find_spec() not found; falling back to find_module()\n",
            "<frozen importlib._bootstrap>:914: ImportWarning: _PyDriveImportHook.find_spec() not found; falling back to find_module()\n",
            "<frozen importlib._bootstrap>:914: ImportWarning: _GenerativeAIImportHook.find_spec() not found; falling back to find_module()\n",
            "<frozen importlib._bootstrap>:914: ImportWarning: _OpenCVImportHook.find_spec() not found; falling back to find_module()\n",
            "<frozen importlib._bootstrap>:914: ImportWarning: APICoreClientInfoImportHook.find_spec() not found; falling back to find_module()\n",
            "<frozen importlib._bootstrap>:914: ImportWarning: _BokehImportHook.find_spec() not found; falling back to find_module()\n",
            "<frozen importlib._bootstrap>:914: ImportWarning: _AltairImportHook.find_spec() not found; falling back to find_module()\n",
            "/usr/local/lib/python3.10/dist-packages/sparsestack/StackedSparseArray.py:4: DeprecationWarning: Please use `get_index_dtype` from the `scipy.sparse` namespace, the `scipy.sparse.sputils` namespace is deprecated.\n",
            "  from scipy.sparse.sputils import get_index_dtype\n",
            "<frozen importlib._bootstrap>:914: ImportWarning: _PyDrive2ImportHook.find_spec() not found; falling back to find_module()\n",
            "<frozen importlib._bootstrap>:914: ImportWarning: _PyDriveImportHook.find_spec() not found; falling back to find_module()\n",
            "<frozen importlib._bootstrap>:914: ImportWarning: _GenerativeAIImportHook.find_spec() not found; falling back to find_module()\n",
            "<frozen importlib._bootstrap>:914: ImportWarning: _OpenCVImportHook.find_spec() not found; falling back to find_module()\n",
            "<frozen importlib._bootstrap>:914: ImportWarning: APICoreClientInfoImportHook.find_spec() not found; falling back to find_module()\n",
            "<frozen importlib._bootstrap>:914: ImportWarning: _BokehImportHook.find_spec() not found; falling back to find_module()\n",
            "<frozen importlib._bootstrap>:914: ImportWarning: _AltairImportHook.find_spec() not found; falling back to find_module()\n",
            "<frozen importlib._bootstrap>:914: ImportWarning: _PyDrive2ImportHook.find_spec() not found; falling back to find_module()\n",
            "<frozen importlib._bootstrap>:914: ImportWarning: _PyDriveImportHook.find_spec() not found; falling back to find_module()\n",
            "<frozen importlib._bootstrap>:914: ImportWarning: _GenerativeAIImportHook.find_spec() not found; falling back to find_module()\n",
            "<frozen importlib._bootstrap>:914: ImportWarning: _OpenCVImportHook.find_spec() not found; falling back to find_module()\n",
            "<frozen importlib._bootstrap>:914: ImportWarning: APICoreClientInfoImportHook.find_spec() not found; falling back to find_module()\n",
            "<frozen importlib._bootstrap>:914: ImportWarning: _BokehImportHook.find_spec() not found; falling back to find_module()\n",
            "<frozen importlib._bootstrap>:914: ImportWarning: _AltairImportHook.find_spec() not found; falling back to find_module()\n",
            "Downloading data from 'https://github.com/tornikeo/cudams/releases/download/samples-0.1/GNPS-LIBRARY-default-filter-nmax-2048.pickle' to file '/root/.cache/pooch/2243cebc54a3035914aa78c57585f0d1-GNPS-LIBRARY-default-filter-nmax-2048.pickle'.\n",
            "100%|█████████████████████████████████████| 86.7M/86.7M [00:00<00:00, 12.8GB/s]\n",
            "SHA256 hash of downloaded file: 9797fa1068f59c6e2a2e005c44d7322f07b6cb08e125c9d5c2cc60bdfe3771e6\n",
            "Use this value as the 'known_hash' argument of 'pooch.retrieve' to ensure that the file hasn't changed if it is downloaded again in the future.\n",
            "<ipython-input-3-6a1bf173c84b>:16: ResourceWarning: unclosed file <_io.BufferedReader name='/root/.cache/pooch/2243cebc54a3035914aa78c57585f0d1-GNPS-LIBRARY-default-filter-nmax-2048.pickle'>\n",
            "  spectra = pickle.load(open(download(spectra_file),'rb'))\n",
            "ResourceWarning: Enable tracemalloc to get the object allocation traceback\n"
          ]
        }
      ],
      "source": [
        "from cudams.utils import argbatch, Timer\n",
        "from cudams.similarity.spectrum_similarity_functions import cosine_greedy_kernel\n",
        "from pathlib import Path\n",
        "from tqdm import tqdm\n",
        "from numba import cuda\n",
        "import numpy as np\n",
        "import torch\n",
        "import matplotlib.pyplot as plt\n",
        "import pickle\n",
        "from cudams.utils import download\n",
        "from joblib import Parallel, delayed\n",
        "from matchms.filtering import default_filters, normalize_intensities, reduce_to_number_of_peaks\n",
        "from matchms.importing import load_from_mgf\n",
        "from cudams.utils import mute_stdout\n",
        "\n",
        "spectra = pickle.load(open(download(spectra_file),'rb'))"
      ]
    },
    {
      "cell_type": "code",
      "execution_count": 4,
      "metadata": {
        "colab": {
          "base_uri": "https://localhost:8080/"
        },
        "id": "JFg1ggj-UJuO",
        "outputId": "fce733de-e617-40b8-83a0-78abbbc639b4"
      },
      "outputs": [
        {
          "output_type": "stream",
          "name": "stderr",
          "text": [
            "/usr/local/lib/python3.10/dist-packages/ipykernel/ipkernel.py:283: DeprecationWarning: `should_run_async` will not call `transform_cell` automatically in the future. Please pass the result to `transformed_cell` argument and any exception that happen during thetransform in `preprocessing_exc_tuple` in IPython 7.17 and above.\n",
            "  and should_run_async(code)\n",
            "100%|██████████| 15/15 [01:25<00:00,  5.67s/it]\n"
          ]
        }
      ],
      "source": [
        "from cudams.similarity import CudaCosineGreedy\n",
        "\n",
        "np.random.seed(42)\n",
        "chunk_sizes_cu = np.round(np.logspace(\n",
        "    np.log2(chunk_sizes_min),\n",
        "    np.log2(chunk_sizes_max),\n",
        "    num=num_evals,\n",
        "    base=2,\n",
        "    endpoint=True)\n",
        ").astype(int)\n",
        "\n",
        "times_cu = []\n",
        "pairs_cu = []\n",
        "\n",
        "# Kernel compilation might take a bit of time initially\n",
        "kernel = CudaCosineGreedy(batch_size=batch_size,\n",
        "                          n_max_peaks=n_max_peaks)\n",
        "\n",
        "# To force CUDA to load code to GPU, we need to do warmup\n",
        "kernel.matrix(spectra[:64], spectra[:64])\n",
        "\n",
        "# We avoid parallel here, since we only have one GPU, after all.\n",
        "for chunk_size in tqdm(chunk_sizes_cu):\n",
        "    chunk_size = min(len(spectra), chunk_size) # We might run out of spectra\n",
        "    references = spectra[:chunk_size]\n",
        "    queries = references # Pairwise\n",
        "    with Timer() as timer:\n",
        "        kernel.matrix(references, queries)\n",
        "    times_cu.append(timer.duration)\n",
        "    pairs_cu.append(len(references) * len(queries)) # We've processed all pairs"
      ]
    },
    {
      "cell_type": "code",
      "execution_count": 9,
      "metadata": {
        "colab": {
          "base_uri": "https://localhost:8080/"
        },
        "id": "xEBm1fuhUJuS",
        "outputId": "4ecd5e4c-02d0-48e5-ac46-18d8afa59dd9"
      },
      "outputs": [
        {
          "output_type": "stream",
          "name": "stdout",
          "text": [
            "{\n",
            " \"pairs_cu\": [\n",
            "  1024,\n",
            "  2116,\n",
            "  4356,\n",
            "  8836,\n",
            "  18496,\n",
            "  37636,\n",
            "  77841,\n",
            "  160000,\n",
            "  329476,\n",
            "  677329,\n",
            "  1394761,\n",
            "  2869636,\n",
            "  5904900,\n",
            "  12152196,\n",
            "  25000000\n",
            " ],\n",
            " \"times_cu\": [\n",
            "  0.8951638820000198,\n",
            "  0.887718360000008,\n",
            "  0.8959380680000777,\n",
            "  0.9086294239999688,\n",
            "  0.9281062210000073,\n",
            "  0.9271748569999545,\n",
            "  0.9635137029999896,\n",
            "  1.0036216500000137,\n",
            "  1.2886957990000383,\n",
            "  1.5533741749999308,\n",
            "  2.4807445960000223,\n",
            "  3.2844729860000825,\n",
            "  9.68464170499999,\n",
            "  19.980734250999944,\n",
            "  39.32723661600005\n",
            " ],\n",
            " \"device\": \"Tesla T4\",\n",
            " \"nproc\": 2\n",
            "}\n"
          ]
        }
      ],
      "source": [
        "import json, os\n",
        "\n",
        "benchmark_summary = dict(\n",
        "        pairs_cu=pairs_cu,\n",
        "        times_cu=times_cu,\n",
        "        device=torch.cuda.get_device_name(),\n",
        "        nproc=os.cpu_count(),\n",
        "    )\n",
        "print(json.dumps(benchmark_summary,indent=1))"
      ]
    }
  ],
  "metadata": {
    "kernelspec": {
      "display_name": "Python 3",
      "name": "python3"
    },
    "language_info": {
      "codemirror_mode": {
        "name": "ipython",
        "version": 3
      },
      "file_extension": ".py",
      "mimetype": "text/x-python",
      "name": "python",
      "nbconvert_exporter": "python",
      "pygments_lexer": "ipython3",
      "version": "3.10.13"
    },
    "colab": {
      "provenance": [],
      "gpuType": "T4"
    },
    "accelerator": "GPU"
  },
  "nbformat": 4,
  "nbformat_minor": 0
}