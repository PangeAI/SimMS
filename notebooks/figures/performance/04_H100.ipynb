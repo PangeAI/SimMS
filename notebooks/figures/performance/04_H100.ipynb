{
 "cells": [
  {
   "cell_type": "code",
   "execution_count": 1,
   "metadata": {},
   "outputs": [
    {
     "name": "stdout",
     "output_type": "stream",
     "text": [
      "GPU 0: NVIDIA H100 80GB HBM3 (UUID: GPU-82e22c7f-c6cf-939e-452a-865e05037f0e)\n",
      "Number of CPU cores 224\n"
     ]
    }
   ],
   "source": [
    "# We compare pairwise similarity performance on `spectra_file`\n",
    "# We can use pickled version for much faster loading times\n",
    "spectra_file = \"GNPS-random-10k.mgf\"\n",
    "\n",
    "# We take a random sample of spectra from said file\n",
    "\n",
    "# Minimum size:\n",
    "chunk_sizes_min = 32\n",
    "\n",
    "# Maximum size\n",
    "chunk_sizes_max = 20_000\n",
    "\n",
    "# how many points to evaluate (in logspace) between min and max\n",
    "num_evals = 15\n",
    "\n",
    "! nvidia-smi -L\n",
    "! echo Number of CPU cores $(nproc)"
   ]
  },
  {
   "cell_type": "code",
   "execution_count": 2,
   "metadata": {},
   "outputs": [],
   "source": [
    "import pickle\n",
    "import sys\n",
    "import numpy as np\n",
    "import pandas as pd\n",
    "from joblib import Parallel, delayed\n",
    "import matchms\n",
    "from matchms.filtering import require_precursor_mz\n",
    "from matchms.importing import load_from_mgf\n",
    "from tqdm import tqdm\n",
    "from simms.similarity import CudaCosineGreedy, CudaModifiedCosine\n",
    "from simms.utils import Timer, download\n",
    "\n",
    "\n",
    "np.random.seed(42)\n",
    "\n",
    "raw_spectra = list(load_from_mgf(download(spectra_file)))"
   ]
  },
  {
   "cell_type": "code",
   "execution_count": 3,
   "metadata": {},
   "outputs": [],
   "source": [
    "spectra = []\n",
    "for s in raw_spectra:\n",
    "    s = require_precursor_mz(s)\n",
    "    if s is not None:\n",
    "        spectra.append(s)"
   ]
  },
  {
   "cell_type": "code",
   "execution_count": 4,
   "metadata": {},
   "outputs": [
    {
     "data": {
      "text/plain": [
       "9997"
      ]
     },
     "execution_count": 4,
     "metadata": {},
     "output_type": "execute_result"
    }
   ],
   "source": [
    "len(spectra)"
   ]
  },
  {
   "cell_type": "code",
   "execution_count": 5,
   "metadata": {},
   "outputs": [
    {
     "name": "stderr",
     "output_type": "stream",
     "text": [
      "100%|██████████| 15/15 [02:23<00:00,  9.57s/it]\n"
     ]
    }
   ],
   "source": [
    "chunk_sizes = np.round(\n",
    "    np.logspace(\n",
    "        np.log2(chunk_sizes_min),\n",
    "        np.log2(chunk_sizes_max),\n",
    "        num=num_evals,\n",
    "        base=2,\n",
    "        endpoint=True,\n",
    "    )\n",
    ").astype(int)\n",
    "\n",
    "\n",
    "def loop(chunk_size, kernel):\n",
    "    references = np.random.choice(spectra, size=chunk_size)\n",
    "    queries = np.random.choice(spectra, size=chunk_size)\n",
    "\n",
    "    # Allow warm-up\n",
    "    kernel = kernel(batch_size=4096)\n",
    "    kernel.matrix(references[:4], queries[:4])\n",
    "    with Timer() as timer:\n",
    "        kernel.matrix(references, queries)\n",
    "    return (\n",
    "        kernel.__class__.__name__,\n",
    "        timer.duration,\n",
    "        len(references) * len(queries),\n",
    "    )  # All samples\n",
    "\n",
    "\n",
    "# We only have 1 GPU, so no parallel here\n",
    "data = Parallel(1)(\n",
    "    delayed(loop)(chunk_size, kernel)\n",
    "    for chunk_size in tqdm(chunk_sizes)\n",
    "    for kernel in [CudaCosineGreedy, CudaModifiedCosine]\n",
    ")\n",
    "data = pd.DataFrame(data, columns=[\"kernel\", \"time\", \"pairs\"])\n",
    "data[\"label\"] = \"H100SXM\""
   ]
  },
  {
   "cell_type": "code",
   "execution_count": 6,
   "metadata": {},
   "outputs": [
    {
     "name": "stdout",
     "output_type": "stream",
     "text": [
      "{\"kernel\":{\"0\":\"CudaCosineGreedy\",\"1\":\"CudaModifiedCosine\",\"2\":\"CudaCosineGreedy\",\"3\":\"CudaModifiedCosine\",\"4\":\"CudaCosineGreedy\",\"5\":\"CudaModifiedCosine\",\"6\":\"CudaCosineGreedy\",\"7\":\"CudaModifiedCosine\",\"8\":\"CudaCosineGreedy\",\"9\":\"CudaModifiedCosine\",\"10\":\"CudaCosineGreedy\",\"11\":\"CudaModifiedCosine\",\"12\":\"CudaCosineGreedy\",\"13\":\"CudaModifiedCosine\",\"14\":\"CudaCosineGreedy\",\"15\":\"CudaModifiedCosine\",\"16\":\"CudaCosineGreedy\",\"17\":\"CudaModifiedCosine\",\"18\":\"CudaCosineGreedy\",\"19\":\"CudaModifiedCosine\",\"20\":\"CudaCosineGreedy\",\"21\":\"CudaModifiedCosine\",\"22\":\"CudaCosineGreedy\",\"23\":\"CudaModifiedCosine\",\"24\":\"CudaCosineGreedy\",\"25\":\"CudaModifiedCosine\",\"26\":\"CudaCosineGreedy\",\"27\":\"CudaModifiedCosine\",\"28\":\"CudaCosineGreedy\",\"29\":\"CudaModifiedCosine\"},\"time\":{\"0\":0.225115539,\"1\":0.3089680099,\"2\":0.2298015929,\"3\":0.3129809238,\"4\":0.2310005929,\"5\":0.3145695087,\"6\":0.246092089,\"7\":0.3252622313,\"8\":0.2404935337,\"9\":0.3393995343,\"10\":0.2415750679,\"11\":0.3423717562,\"12\":0.259517163,\"13\":0.3594537596,\"14\":0.2804992623,\"15\":0.4075458972,\"16\":0.3474366697,\"17\":0.4818132687,\"18\":0.599841496,\"19\":0.750641861,\"20\":0.8661534791,\"21\":1.336186233,\"22\":2.2553615789,\"23\":3.3912946279,\"24\":3.9846942332,\"25\":6.2045018366,\"26\":10.1321199052,\"27\":16.2486773878,\"28\":21.7864734828,\"29\":35.9203544017},\"pairs\":{\"0\":1024,\"1\":1024,\"2\":2601,\"3\":2601,\"4\":6400,\"5\":6400,\"6\":16129,\"7\":16129,\"8\":40401,\"9\":40401,\"10\":101761,\"11\":101761,\"12\":255025,\"13\":255025,\"14\":640000,\"15\":640000,\"16\":1605289,\"17\":1605289,\"18\":4028049,\"19\":4028049,\"20\":10099684,\"21\":10099684,\"22\":25341156,\"23\":25341156,\"24\":63568729,\"25\":63568729,\"26\":159466384,\"27\":159466384,\"28\":400000000,\"29\":400000000},\"label\":{\"0\":\"H100SXM\",\"1\":\"H100SXM\",\"2\":\"H100SXM\",\"3\":\"H100SXM\",\"4\":\"H100SXM\",\"5\":\"H100SXM\",\"6\":\"H100SXM\",\"7\":\"H100SXM\",\"8\":\"H100SXM\",\"9\":\"H100SXM\",\"10\":\"H100SXM\",\"11\":\"H100SXM\",\"12\":\"H100SXM\",\"13\":\"H100SXM\",\"14\":\"H100SXM\",\"15\":\"H100SXM\",\"16\":\"H100SXM\",\"17\":\"H100SXM\",\"18\":\"H100SXM\",\"19\":\"H100SXM\",\"20\":\"H100SXM\",\"21\":\"H100SXM\",\"22\":\"H100SXM\",\"23\":\"H100SXM\",\"24\":\"H100SXM\",\"25\":\"H100SXM\",\"26\":\"H100SXM\",\"27\":\"H100SXM\",\"28\":\"H100SXM\",\"29\":\"H100SXM\"}}"
     ]
    }
   ],
   "source": [
    "data.to_json(sys.stdout)"
   ]
  }
 ],
 "metadata": {
  "kernelspec": {
   "display_name": "Python 3 (ipykernel)",
   "language": "python",
   "name": "python3"
  },
  "language_info": {
   "codemirror_mode": {
    "name": "ipython",
    "version": 3
   },
   "file_extension": ".py",
   "mimetype": "text/x-python",
   "name": "python",
   "nbconvert_exporter": "python",
   "pygments_lexer": "ipython3",
   "version": "3.10.13"
  }
 },
 "nbformat": 4,
 "nbformat_minor": 4
}
