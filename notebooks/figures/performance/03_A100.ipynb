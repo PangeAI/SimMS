{
 "cells": [
  {
   "cell_type": "code",
   "execution_count": 1,
   "metadata": {},
   "outputs": [
    {
     "name": "stdout",
     "output_type": "stream",
     "text": [
      "GPU 0: NVIDIA A100-SXM4-80GB (UUID: GPU-126bc18a-a726-87db-7651-0a6ea83a3a14)\n",
      "Number of CPU cores 128\n"
     ]
    }
   ],
   "source": [
    "# We compare pairwise similarity performance on `spectra_file`\n",
    "# We can use pickled version for much faster loading times\n",
    "spectra_file = 'GNPS-random-10k.mgf'\n",
    "\n",
    "# We take a random sample of spectra from said file\n",
    "\n",
    "# Minimum size:\n",
    "chunk_sizes_min = 32\n",
    "\n",
    "# Maximum size\n",
    "chunk_sizes_max = 20_000\n",
    "\n",
    "# how many points to evaluate (in logspace) between min and max\n",
    "num_evals = 15\n",
    "\n",
    "! nvidia-smi -L\n",
    "! echo Number of CPU cores $(nproc)"
   ]
  },
  {
   "cell_type": "code",
   "execution_count": 2,
   "metadata": {},
   "outputs": [],
   "source": [
    "from cudams.utils import Timer\n",
    "from tqdm import tqdm\n",
    "import numpy as np\n",
    "import sys\n",
    "import pandas as pd\n",
    "import pickle\n",
    "from cudams.utils import download\n",
    "from joblib import Parallel, delayed\n",
    "from cudams.similarity import CudaCosineGreedy, CudaModifiedCosine\n",
    "from matchms.importing import load_from_mgf\n",
    "from matchms.filtering import require_precursor_mz\n",
    "from cudams.utils import Timer\n",
    "\n",
    "np.random.seed(42)\n",
    "\n",
    "raw_spectra = list(load_from_mgf(download(spectra_file)))"
   ]
  },
  {
   "cell_type": "code",
   "execution_count": 3,
   "metadata": {},
   "outputs": [],
   "source": [
    "spectra = []\n",
    "for s in raw_spectra:\n",
    "    s = require_precursor_mz(s)\n",
    "    if s is not None:\n",
    "        spectra.append(s)"
   ]
  },
  {
   "cell_type": "code",
   "execution_count": 4,
   "metadata": {},
   "outputs": [
    {
     "data": {
      "text/plain": [
       "9997"
      ]
     },
     "execution_count": 4,
     "metadata": {},
     "output_type": "execute_result"
    }
   ],
   "source": [
    "len(spectra)"
   ]
  },
  {
   "cell_type": "code",
   "execution_count": 5,
   "metadata": {},
   "outputs": [
    {
     "name": "stderr",
     "output_type": "stream",
     "text": [
      "100%|██████████| 15/15 [03:44<00:00, 14.94s/it]\n"
     ]
    }
   ],
   "source": [
    "chunk_sizes = np.round(np.logspace(\n",
    "    np.log2(chunk_sizes_min), \n",
    "    np.log2(chunk_sizes_max), \n",
    "    num=num_evals, \n",
    "    base=2, \n",
    "    endpoint=True)\n",
    ").astype(int)\n",
    "\n",
    "def loop(chunk_size, kernel):\n",
    "    references = np.random.choice(spectra, size=chunk_size)\n",
    "    queries = np.random.choice(spectra, size=chunk_size)\n",
    "\n",
    "    # Allow warm-up\n",
    "    kernel.matrix(references[:4], queries[:4])\n",
    "\n",
    "    with Timer() as timer:\n",
    "        kernel.matrix(references, queries)\n",
    "    return kernel.__class__.__name__, \\\n",
    "        timer.duration,\\\n",
    "        len(references) * len(queries) # All samples\n",
    "\n",
    "# We only have 1 GPU, so no parallel here\n",
    "data = Parallel(1)(delayed(loop)(chunk_size, kernel) for chunk_size in tqdm(chunk_sizes) for kernel in [CudaCosineGreedy(), CudaModifiedCosine()])\n",
    "data = pd.DataFrame(data, columns=['kernel','time','pairs'])\n",
    "data['label'] = 'A100PCIE'"
   ]
  },
  {
   "cell_type": "code",
   "execution_count": 6,
   "metadata": {},
   "outputs": [
    {
     "name": "stdout",
     "output_type": "stream",
     "text": [
      "{\"kernel\":{\"0\":\"CudaCosineGreedy\",\"1\":\"CudaModifiedCosine\",\"2\":\"CudaCosineGreedy\",\"3\":\"CudaModifiedCosine\",\"4\":\"CudaCosineGreedy\",\"5\":\"CudaModifiedCosine\",\"6\":\"CudaCosineGreedy\",\"7\":\"CudaModifiedCosine\",\"8\":\"CudaCosineGreedy\",\"9\":\"CudaModifiedCosine\",\"10\":\"CudaCosineGreedy\",\"11\":\"CudaModifiedCosine\",\"12\":\"CudaCosineGreedy\",\"13\":\"CudaModifiedCosine\",\"14\":\"CudaCosineGreedy\",\"15\":\"CudaModifiedCosine\",\"16\":\"CudaCosineGreedy\",\"17\":\"CudaModifiedCosine\",\"18\":\"CudaCosineGreedy\",\"19\":\"CudaModifiedCosine\",\"20\":\"CudaCosineGreedy\",\"21\":\"CudaModifiedCosine\",\"22\":\"CudaCosineGreedy\",\"23\":\"CudaModifiedCosine\",\"24\":\"CudaCosineGreedy\",\"25\":\"CudaModifiedCosine\",\"26\":\"CudaCosineGreedy\",\"27\":\"CudaModifiedCosine\",\"28\":\"CudaCosineGreedy\",\"29\":\"CudaModifiedCosine\"},\"time\":{\"0\":0.0738126673,\"1\":0.1525308359,\"2\":0.0747916,\"3\":0.1592826028,\"4\":0.0859280429,\"5\":0.1662708828,\"6\":0.100283213,\"7\":0.1907903682,\"8\":0.0998169198,\"9\":0.2176625938,\"10\":0.1071973029,\"11\":0.2428804752,\"12\":0.1336740609,\"13\":0.2889647833,\"14\":0.170169591,\"15\":0.4014074737,\"16\":0.2409091461,\"17\":0.593263445,\"18\":0.3972669742,\"19\":0.9933225452,\"20\":1.068980074,\"21\":2.510714381,\"22\":2.421412542,\"23\":5.626588128,\"24\":5.1604050589,\"25\":12.2491187658,\"26\":13.0865253196,\"27\":31.0898632081,\"28\":30.329247369,\"29\":71.998244849},\"pairs\":{\"0\":1024,\"1\":1024,\"2\":2601,\"3\":2601,\"4\":6400,\"5\":6400,\"6\":16129,\"7\":16129,\"8\":40401,\"9\":40401,\"10\":101761,\"11\":101761,\"12\":255025,\"13\":255025,\"14\":640000,\"15\":640000,\"16\":1605289,\"17\":1605289,\"18\":4028049,\"19\":4028049,\"20\":10099684,\"21\":10099684,\"22\":25341156,\"23\":25341156,\"24\":63568729,\"25\":63568729,\"26\":159466384,\"27\":159466384,\"28\":400000000,\"29\":400000000},\"label\":{\"0\":\"A100PCIE\",\"1\":\"A100PCIE\",\"2\":\"A100PCIE\",\"3\":\"A100PCIE\",\"4\":\"A100PCIE\",\"5\":\"A100PCIE\",\"6\":\"A100PCIE\",\"7\":\"A100PCIE\",\"8\":\"A100PCIE\",\"9\":\"A100PCIE\",\"10\":\"A100PCIE\",\"11\":\"A100PCIE\",\"12\":\"A100PCIE\",\"13\":\"A100PCIE\",\"14\":\"A100PCIE\",\"15\":\"A100PCIE\",\"16\":\"A100PCIE\",\"17\":\"A100PCIE\",\"18\":\"A100PCIE\",\"19\":\"A100PCIE\",\"20\":\"A100PCIE\",\"21\":\"A100PCIE\",\"22\":\"A100PCIE\",\"23\":\"A100PCIE\",\"24\":\"A100PCIE\",\"25\":\"A100PCIE\",\"26\":\"A100PCIE\",\"27\":\"A100PCIE\",\"28\":\"A100PCIE\",\"29\":\"A100PCIE\"}}"
     ]
    }
   ],
   "source": [
    "data.to_json(sys.stdout)"
   ]
  }
 ],
 "metadata": {
  "kernelspec": {
   "display_name": "Python 3 (ipykernel)",
   "language": "python",
   "name": "python3"
  },
  "language_info": {
   "codemirror_mode": {
    "name": "ipython",
    "version": 3
   },
   "file_extension": ".py",
   "mimetype": "text/x-python",
   "name": "python",
   "nbconvert_exporter": "python",
   "pygments_lexer": "ipython3",
   "version": "3.10.13"
  }
 },
 "nbformat": 4,
 "nbformat_minor": 4
}
