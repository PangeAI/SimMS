{
 "cells": [
  {
   "cell_type": "code",
   "execution_count": 1,
   "metadata": {},
   "outputs": [
    {
     "name": "stdout",
     "output_type": "stream",
     "text": [
      "GPU 0: NVIDIA GeForce RTX 4090 (UUID: GPU-22a456d4-1683-b2f7-77b8-3b3ae6eabb63)\n",
      "Number of CPU cores 192\n"
     ]
    }
   ],
   "source": [
    "# We compare pairwise similarity performance on `spectra_file`\n",
    "# We can use pickled version for much faster loading times\n",
    "spectra_file = 'GNPS-random-10k.mgf'\n",
    "\n",
    "# We take a random sample of spectra from said file\n",
    "\n",
    "# Minimum size:\n",
    "chunk_sizes_min = 32\n",
    "\n",
    "# Maximum size\n",
    "chunk_sizes_max = 20_000\n",
    "\n",
    "# how many points to evaluate (in logspace) between min and max\n",
    "num_evals = 15\n",
    "\n",
    "! nvidia-smi -L\n",
    "! echo Number of CPU cores $(nproc)"
   ]
  },
  {
   "cell_type": "code",
   "execution_count": 2,
   "metadata": {},
   "outputs": [],
   "source": [
    "from cudams.utils import Timer\n",
    "from tqdm import tqdm\n",
    "import numpy as np\n",
    "import sys\n",
    "import pandas as pd\n",
    "import pickle\n",
    "from cudams.utils import download\n",
    "from joblib import Parallel, delayed\n",
    "from cudams.similarity import CudaCosineGreedy, CudaModifiedCosine\n",
    "from matchms.importing import load_from_mgf\n",
    "from matchms.filtering import require_precursor_mz\n",
    "from cudams.utils import Timer\n",
    "\n",
    "np.random.seed(42)\n",
    "\n",
    "raw_spectra = list(load_from_mgf(download(spectra_file)))"
   ]
  },
  {
   "cell_type": "code",
   "execution_count": 3,
   "metadata": {},
   "outputs": [],
   "source": [
    "spectra = []\n",
    "for s in raw_spectra:\n",
    "    s = require_precursor_mz(s)\n",
    "    if s is not None:\n",
    "        spectra.append(s)"
   ]
  },
  {
   "cell_type": "code",
   "execution_count": 4,
   "metadata": {},
   "outputs": [
    {
     "data": {
      "text/plain": [
       "9997"
      ]
     },
     "execution_count": 4,
     "metadata": {},
     "output_type": "execute_result"
    }
   ],
   "source": [
    "len(spectra)"
   ]
  },
  {
   "cell_type": "code",
   "execution_count": 5,
   "metadata": {},
   "outputs": [
    {
     "name": "stderr",
     "output_type": "stream",
     "text": [
      "100%|██████████| 15/15 [04:39<00:00, 18.64s/it]\n"
     ]
    }
   ],
   "source": [
    "chunk_sizes = np.round(np.logspace(\n",
    "    np.log2(chunk_sizes_min), \n",
    "    np.log2(chunk_sizes_max), \n",
    "    num=num_evals, \n",
    "    base=2, \n",
    "    endpoint=True)\n",
    ").astype(int)\n",
    "\n",
    "def loop(chunk_size, kernel):\n",
    "    references = np.random.choice(spectra, size=chunk_size)\n",
    "    queries = np.random.choice(spectra, size=chunk_size)\n",
    "\n",
    "    # Allow warm-up\n",
    "    kernel.matrix(references[:4], queries[:4])\n",
    "\n",
    "    with Timer() as timer:\n",
    "        kernel.matrix(references, queries)\n",
    "    return kernel.__class__.__name__, \\\n",
    "        timer.duration,\\\n",
    "        len(references) * len(queries) # All samples\n",
    "\n",
    "# We only have 1 GPU, so no parallel here\n",
    "data = Parallel(1)(delayed(loop)(chunk_size, kernel) for chunk_size in tqdm(chunk_sizes) for kernel in [CudaCosineGreedy(), CudaModifiedCosine()])\n",
    "data = pd.DataFrame(data, columns=['kernel','time','pairs'])\n",
    "data['label'] = 'RTX4090'"
   ]
  },
  {
   "cell_type": "code",
   "execution_count": 6,
   "metadata": {},
   "outputs": [
    {
     "name": "stdout",
     "output_type": "stream",
     "text": [
      "{\"kernel\":{\"0\":\"CudaCosineGreedy\",\"1\":\"CudaModifiedCosine\",\"2\":\"CudaCosineGreedy\",\"3\":\"CudaModifiedCosine\",\"4\":\"CudaCosineGreedy\",\"5\":\"CudaModifiedCosine\",\"6\":\"CudaCosineGreedy\",\"7\":\"CudaModifiedCosine\",\"8\":\"CudaCosineGreedy\",\"9\":\"CudaModifiedCosine\",\"10\":\"CudaCosineGreedy\",\"11\":\"CudaModifiedCosine\",\"12\":\"CudaCosineGreedy\",\"13\":\"CudaModifiedCosine\",\"14\":\"CudaCosineGreedy\",\"15\":\"CudaModifiedCosine\",\"16\":\"CudaCosineGreedy\",\"17\":\"CudaModifiedCosine\",\"18\":\"CudaCosineGreedy\",\"19\":\"CudaModifiedCosine\",\"20\":\"CudaCosineGreedy\",\"21\":\"CudaModifiedCosine\",\"22\":\"CudaCosineGreedy\",\"23\":\"CudaModifiedCosine\",\"24\":\"CudaCosineGreedy\",\"25\":\"CudaModifiedCosine\",\"26\":\"CudaCosineGreedy\",\"27\":\"CudaModifiedCosine\",\"28\":\"CudaCosineGreedy\",\"29\":\"CudaModifiedCosine\"},\"time\":{\"0\":0.116838787,\"1\":0.288407699,\"2\":0.11716113,\"3\":0.290607731,\"4\":0.123106576,\"5\":0.295652899,\"6\":0.158863593,\"7\":0.324127188,\"8\":0.14879448,\"9\":0.349230335,\"10\":0.159278728,\"11\":0.381819613,\"12\":0.179009665,\"13\":0.425479235,\"14\":0.216034994,\"15\":0.530195983,\"16\":0.29828466,\"17\":0.729858525,\"18\":0.517050713,\"19\":1.197455376,\"20\":1.327066364,\"21\":3.164457736,\"22\":3.036998259,\"23\":7.098975082,\"24\":6.613489692,\"25\":15.189897461,\"26\":17.110951375,\"27\":39.067652656,\"28\":38.135619218,\"29\":89.919953104},\"pairs\":{\"0\":1024,\"1\":1024,\"2\":2601,\"3\":2601,\"4\":6400,\"5\":6400,\"6\":16129,\"7\":16129,\"8\":40401,\"9\":40401,\"10\":101761,\"11\":101761,\"12\":255025,\"13\":255025,\"14\":640000,\"15\":640000,\"16\":1605289,\"17\":1605289,\"18\":4028049,\"19\":4028049,\"20\":10099684,\"21\":10099684,\"22\":25341156,\"23\":25341156,\"24\":63568729,\"25\":63568729,\"26\":159466384,\"27\":159466384,\"28\":400000000,\"29\":400000000},\"label\":{\"0\":\"RTX4090\",\"1\":\"RTX4090\",\"2\":\"RTX4090\",\"3\":\"RTX4090\",\"4\":\"RTX4090\",\"5\":\"RTX4090\",\"6\":\"RTX4090\",\"7\":\"RTX4090\",\"8\":\"RTX4090\",\"9\":\"RTX4090\",\"10\":\"RTX4090\",\"11\":\"RTX4090\",\"12\":\"RTX4090\",\"13\":\"RTX4090\",\"14\":\"RTX4090\",\"15\":\"RTX4090\",\"16\":\"RTX4090\",\"17\":\"RTX4090\",\"18\":\"RTX4090\",\"19\":\"RTX4090\",\"20\":\"RTX4090\",\"21\":\"RTX4090\",\"22\":\"RTX4090\",\"23\":\"RTX4090\",\"24\":\"RTX4090\",\"25\":\"RTX4090\",\"26\":\"RTX4090\",\"27\":\"RTX4090\",\"28\":\"RTX4090\",\"29\":\"RTX4090\"}}"
     ]
    }
   ],
   "source": [
    "data.to_json(sys.stdout)"
   ]
  }
 ],
 "metadata": {
  "kernelspec": {
   "display_name": "Python 3 (ipykernel)",
   "language": "python",
   "name": "python3"
  },
  "language_info": {
   "codemirror_mode": {
    "name": "ipython",
    "version": 3
   },
   "file_extension": ".py",
   "mimetype": "text/x-python",
   "name": "python",
   "nbconvert_exporter": "python",
   "pygments_lexer": "ipython3",
   "version": "3.10.13"
  }
 },
 "nbformat": 4,
 "nbformat_minor": 4
}
