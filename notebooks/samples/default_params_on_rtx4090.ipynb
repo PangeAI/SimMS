{
 "cells": [
  {
   "cell_type": "markdown",
   "metadata": {},
   "source": [
    "This notebook evaluates performance gains of `CudaCosineGreedy` against `matchms`.\n",
    "\n",
    "Performance depends heavily on used hardware, as well as how correlated the spectra are with each other, (i.e. on average, how many common pairs of peaks do spectra have). \n",
    "\n",
    "This specific notebook evaluates the performance given the following below arguments (feel free to change these):"
   ]
  },
  {
   "cell_type": "code",
   "execution_count": 1,
   "metadata": {},
   "outputs": [
    {
     "name": "stdout",
     "output_type": "stream",
     "text": [
      "GPU 0: NVIDIA GeForce RTX 4090 (UUID: GPU-89eb76f5-a36a-4464-ffa1-4881d7238b57)\n",
      "Number of CPU cores 64\n"
     ]
    }
   ],
   "source": [
    "# We compare pairwise similarity performance on `spectra_file`\n",
    "# We can use pickled version for much faster loading times\n",
    "spectra_file = 'ALL_GNPS.pickle'\n",
    "\n",
    "# We take a random sample of spectra from said file\n",
    "\n",
    "# Minimum size:\n",
    "chunk_sizes_min = 32\n",
    "\n",
    "# Maximum size\n",
    "chunk_sizes_max = 5_000\n",
    "\n",
    "# Minimum size\n",
    "chunk_sizes_min_cu = 32\n",
    "\n",
    "# Maximum size\n",
    "chunk_sizes_max_cu = 5_000\n",
    "\n",
    "# how many points to evaluate (in logspace) between min and max\n",
    "num_evals = 15\n",
    "\n",
    "# max number of peaks to retain in any spectra - larger numbers are marginally more accurate, but much slower\n",
    "max_peaks = 1024\n",
    "\n",
    "# optimal batch size is hardware-dependent, but usually the best number is the largest the hardware can handle (without an OOM error)\n",
    "batch_size = 2048\n",
    "\n",
    "# Hardware matters! These results are only repeatable using this GPU (shown as an output)\n",
    "! nvidia-smi -L\n",
    "! echo Number of CPU cores $(nproc)"
   ]
  },
  {
   "cell_type": "code",
   "execution_count": 2,
   "metadata": {},
   "outputs": [
    {
     "name": "stdout",
     "output_type": "stream",
     "text": [
      "\u001b[33mWARNING: Running pip as the 'root' user can result in broken permissions and conflicting behaviour with the system package manager. It is recommended to use a virtual environment instead: https://pip.pypa.io/warnings/venv\u001b[0m\u001b[33m\n",
      "\u001b[0m\u001b[33mWARNING: Running pip as the 'root' user can result in broken permissions and conflicting behaviour with the system package manager. It is recommended to use a virtual environment instead: https://pip.pypa.io/warnings/venv\u001b[0m\u001b[33m\n",
      "\u001b[0m"
     ]
    }
   ],
   "source": [
    "! pip uninstall simms -q -y\n",
    "! pip install -q --upgrade git+https://github.com/PangeAI/simms@main"
   ]
  },
  {
   "cell_type": "code",
   "execution_count": 3,
   "metadata": {},
   "outputs": [],
   "source": [
    "from simms.utils import argbatch, Timer\n",
    "from simms.similarity.spectrum_similarity_functions import cosine_greedy_kernel\n",
    "from pathlib import Path\n",
    "from tqdm import tqdm\n",
    "from numba import cuda\n",
    "import numpy as np\n",
    "import torch\n",
    "import matplotlib.pyplot as plt\n",
    "\n",
    "assert cuda.is_available()"
   ]
  },
  {
   "cell_type": "code",
   "execution_count": 4,
   "metadata": {},
   "outputs": [
    {
     "name": "stderr",
     "output_type": "stream",
     "text": [
      "/opt/conda/lib/python3.10/site-packages/simms/utils.py:243: UserWarning: As of 2024, ALL_GNPS.pickle is a large file (1.76GB) make sure the machine can handle this\n",
      "  warnings.warn(f\"As of 2024, {name} is a large file (1.76GB) make sure the machine can handle this\")\n"
     ]
    }
   ],
   "source": [
    "import pickle\n",
    "from simms.utils import download\n",
    "from joblib import Parallel, delayed\n",
    "from matchms.filtering import default_filters, normalize_intensities, reduce_to_number_of_peaks\n",
    "from matchms.importing import load_from_mgf\n",
    "from simms.utils import mute_stdout\n",
    "\n",
    "# with mute_stdout():\n",
    "#     fpath = download(spectra_file)\n",
    "#     def parse_spectrum(spectrum):\n",
    "#         spectrum = default_filters(spectrum)\n",
    "#         spectrum = reduce_to_number_of_peaks(spectrum, n_max=max_peaks)\n",
    "#         spectrum = normalize_intensities(spectrum)\n",
    "#         return spectrum\n",
    "#     spectra = tuple(spe for _, spe in zip(range(chunk_sizes_max_cu), load_from_mgf(fpath)) )\n",
    "#     spectra = Parallel(-1)(delayed(parse_spectrum)(spec) for spec in tqdm(spectra))\n",
    "#     spectra = [spe for spe in spectra if spe is not None]\n",
    "spectra = pickle.load(open(download(spectra_file),'rb'))\n",
    "# Cut off unneeded spectra, save memory\n",
    "spectra = spectra[:max(chunk_sizes_max, chunk_sizes_max_cu)]"
   ]
  },
  {
   "cell_type": "code",
   "execution_count": 5,
   "metadata": {},
   "outputs": [
    {
     "name": "stderr",
     "output_type": "stream",
     "text": [
      "100%|██████████| 15/15 [00:00<00:00, 342.60it/s]\n"
     ]
    }
   ],
   "source": [
    "from matchms.similarity import CosineGreedy\n",
    "from matchms import calculate_scores\n",
    "from simms.utils import Timer\n",
    "\n",
    "np.random.seed(42)\n",
    "chunk_sizes = np.round(np.logspace(\n",
    "    np.log2(chunk_sizes_min), \n",
    "    np.log2(chunk_sizes_max), \n",
    "    num=num_evals, \n",
    "    base=2, \n",
    "    endpoint=True)\n",
    ").astype(int)\n",
    "\n",
    "times = []\n",
    "pairs = []\n",
    "kernel = CosineGreedy()\n",
    "\n",
    "def loop(chunk_size):\n",
    "    references = np.random.choice(spectra, size=chunk_size, replace=False)\n",
    "    queries = references\n",
    "    with Timer() as timer:\n",
    "        kernel.matrix(references, queries, is_symmetric=True)\n",
    "    return timer.duration, len(references) * len(queries) / 2 # Div by 2 because it's symmetric\n",
    "\n",
    "# Do it in parallel, each experiment gets own CPU, so comparison is still fair.\n",
    "data = Parallel(-1)(delayed(loop)(chunk_size) for chunk_size in tqdm(chunk_sizes))\n",
    "times, pairs = zip(*data)"
   ]
  },
  {
   "cell_type": "code",
   "execution_count": 6,
   "metadata": {},
   "outputs": [
    {
     "name": "stderr",
     "output_type": "stream",
     "text": [
      "100%|██████████| 1/1 [00:01<00:00,  1.27s/it]\n",
      "  0%|          | 0/15 [00:00<?, ?it/s]\n",
      "  0%|          | 0/1 [00:00<?, ?it/s]\u001b[A\n",
      "100%|██████████| 1/1 [00:00<00:00,  2.67it/s]\u001b[A\n",
      "  7%|▋         | 1/15 [00:00<00:05,  2.52it/s]\n",
      "  0%|          | 0/1 [00:00<?, ?it/s]\u001b[A\n",
      "100%|██████████| 1/1 [00:00<00:00,  2.02it/s]\u001b[A\n",
      " 13%|█▎        | 2/15 [00:00<00:06,  2.14it/s]\n",
      "  0%|          | 0/1 [00:00<?, ?it/s]\u001b[A\n",
      "100%|██████████| 1/1 [00:00<00:00,  2.77it/s]\u001b[A\n",
      " 20%|██        | 3/15 [00:01<00:05,  2.33it/s]\n",
      "  0%|          | 0/1 [00:00<?, ?it/s]\u001b[A\n",
      "100%|██████████| 1/1 [00:00<00:00,  1.92it/s]\u001b[A\n",
      " 27%|██▋       | 4/15 [00:01<00:05,  2.11it/s]\n",
      "  0%|          | 0/1 [00:00<?, ?it/s]\u001b[A\n",
      "100%|██████████| 1/1 [00:00<00:00,  1.44it/s]\u001b[A\n",
      " 33%|███▎      | 5/15 [00:02<00:05,  1.78it/s]\n",
      "  0%|          | 0/1 [00:00<?, ?it/s]\u001b[A\n",
      "100%|██████████| 1/1 [00:01<00:00,  1.43s/it]\u001b[A\n",
      " 40%|████      | 6/15 [00:04<00:07,  1.15it/s]\n",
      "  0%|          | 0/1 [00:00<?, ?it/s]\u001b[A\n",
      "100%|██████████| 1/1 [00:01<00:00,  1.23s/it]\u001b[A\n",
      " 47%|████▋     | 7/15 [00:05<00:07,  1.00it/s]\n",
      "  0%|          | 0/1 [00:00<?, ?it/s]\u001b[A\n",
      "100%|██████████| 1/1 [00:02<00:00,  2.23s/it]\u001b[A\n",
      " 53%|█████▎    | 8/15 [00:07<00:09,  1.40s/it]\n",
      "  0%|          | 0/1 [00:00<?, ?it/s]\u001b[A\n",
      "100%|██████████| 1/1 [00:03<00:00,  3.01s/it]\u001b[A\n",
      " 60%|██████    | 9/15 [00:10<00:11,  1.92s/it]\n",
      "  0%|          | 0/1 [00:00<?, ?it/s]\u001b[A\n",
      "100%|██████████| 1/1 [00:05<00:00,  5.19s/it]\u001b[A\n",
      " 67%|██████▋   | 10/15 [00:15<00:14,  2.94s/it]\n",
      "  0%|          | 0/1 [00:00<?, ?it/s]\u001b[A\n",
      "100%|██████████| 1/1 [00:07<00:00,  7.71s/it]\u001b[A\n",
      " 73%|███████▎  | 11/15 [00:23<00:17,  4.42s/it]\n",
      "  0%|          | 0/1 [00:00<?, ?it/s]\u001b[A\n",
      "100%|██████████| 1/1 [00:13<00:00, 13.39s/it]\u001b[A\n",
      " 80%|████████  | 12/15 [00:37<00:21,  7.18s/it]\n",
      "  0%|          | 0/4 [00:00<?, ?it/s]\u001b[A\n",
      " 25%|██▌       | 1/4 [00:19<00:58, 19.52s/it]\u001b[A\n",
      " 50%|█████     | 2/4 [00:23<00:21, 10.60s/it]\u001b[A\n",
      " 75%|███████▌  | 3/4 [00:28<00:07,  7.99s/it]\u001b[A\n",
      "100%|██████████| 4/4 [00:30<00:00,  7.64s/it]\u001b[A\n",
      " 87%|████████▋ | 13/15 [01:07<00:28, 14.30s/it]\n",
      "  0%|          | 0/4 [00:00<?, ?it/s]\u001b[A\n",
      " 25%|██▌       | 1/4 [00:18<00:55, 18.52s/it]\u001b[A\n",
      " 50%|█████     | 2/4 [00:33<00:32, 16.46s/it]\u001b[A\n",
      " 75%|███████▌  | 3/4 [00:47<00:15, 15.21s/it]\u001b[A\n",
      " 67%|██████▋   | 6/9 [01:35<00:44, 14.76s/it]\u001b[A\n",
      " 78%|███████▊  | 7/9 [01:44<00:26, 13.08s/it]\u001b[A\n",
      " 89%|████████▉ | 8/9 [01:53<00:11, 11.74s/it]\u001b[A\n",
      "100%|██████████| 9/9 [01:58<00:00, 13.16s/it]\u001b[A\n",
      "100%|██████████| 15/15 [04:05<00:00, 16.39s/it]\n"
     ]
    }
   ],
   "source": [
    "from simms.similarity import CudaCosineGreedy\n",
    "\n",
    "np.random.seed(42)\n",
    "chunk_sizes_cu = np.round(np.logspace(\n",
    "    np.log2(chunk_sizes_min_cu), \n",
    "    np.log2(chunk_sizes_max_cu), \n",
    "    num=num_evals, \n",
    "    base=2, \n",
    "    endpoint=True)\n",
    ").astype(int)\n",
    "\n",
    "times_cu = []\n",
    "pairs_cu = []\n",
    "\n",
    "# Kernel compilation might take a bit of time initially\n",
    "kernel = CudaCosineGreedy(batch_size=batch_size)\n",
    "\n",
    "# To force CUDA to load code to GPU, we need to do warmup\n",
    "kernel.matrix(spectra[:64], spectra[:64])\n",
    "\n",
    "# We avoid parallel here, since we only have one GPU, after all.\n",
    "for chunk_size in tqdm(chunk_sizes_cu):\n",
    "    chunk_size = min(len(spectra), chunk_size) # We might run out of spectra\n",
    "    # Don't do symmetric, as it's not implemented (or necessary)\n",
    "    references = np.random.choice(spectra, size=chunk_size, replace=False)\n",
    "    queries = np.random.choice(spectra, size=chunk_size, replace=False)\n",
    "    with Timer() as timer:\n",
    "        kernel.matrix(references, queries)\n",
    "    times_cu.append(timer.duration)\n",
    "    pairs_cu.append(len(references) * len(queries)) # We've processed all pairs"
   ]
  },
  {
   "cell_type": "code",
   "execution_count": 19,
   "metadata": {},
   "outputs": [
    {
     "data": {
      "image/png": "[encoded data removed]",
      "text/plain": [
       "<Figure size 640x480 with 1 Axes>"
      ]
     },
     "metadata": {},
     "output_type": "display_data"
    }
   ],
   "source": [
    "\n",
    "plt.semilogx(pairs_cu, times_cu, label='gpu')\n",
    "plt.semilogx(pairs, times, label='cpu')\n",
    "plt.title(f\"Performance comparison of CosineGreedy ({torch.cuda.get_device_name()})\")\n",
    "plt.xlabel(\"# pairs\")\n",
    "plt.ylabel(\"time (s)\")\n",
    "plt.legend()\n",
    "plt.show()"
   ]
  }
 ],
 "metadata": {
  "kernelspec": {
   "display_name": "Python 3 (ipykernel)",
   "language": "python",
   "name": "python3"
  },
  "language_info": {
   "codemirror_mode": {
    "name": "ipython",
    "version": 3
   },
   "file_extension": ".py",
   "mimetype": "text/x-python",
   "name": "python",
   "nbconvert_exporter": "python",
   "pygments_lexer": "ipython3",
   "version": "3.10.13"
  }
 },
 "nbformat": 4,
 "nbformat_minor": 4
}
