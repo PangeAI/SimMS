{
 "cells": [
  {
   "cell_type": "markdown",
   "metadata": {
    "id": "EvtZQ6Fteb9M"
   },
   "source": [
    "# SimMS\n",
    "\n",
    "This notebook closely follows the original [matchms tutorial](https://blog.esciencecenter.nl/build-your-own-mass-spectrometry-analysis-pipeline-in-python-using-matchms-part-i-d96c718c68ee), but uses our custom CUDA kernel to calculate the CosineGreedy similarity between given pesticide spectra.\n",
    "\n",
    "For convenience, we are using a colab environment - so that you can run everything in browser."
   ]
  },
  {
   "cell_type": "markdown",
   "metadata": {
    "id": "PNXcqS2NpqwH"
   },
   "source": [
    "## Note\n",
    "\n",
    "Due to [Numba requirements](https://numba.readthedocs.io/en/stable/user/installing.html#version-support-information), you *might* need to do the follow these steps:\n",
    "\n",
    "1. run **`pip install \"numpy>=1.22,<1.27\"`**\n",
    "1. From the top panel, use `Runtime` → `Restart Session` to load the changes.\n",
    "1. Make sure you can run `from numba import cuda`"
   ]
  },
  {
   "cell_type": "markdown",
   "metadata": {
    "id": "N1tavw4AtyIX"
   },
   "source": [
    "# Selecting the correct runtime to access CUDA-enabled GPU"
   ]
  },
  {
   "cell_type": "markdown",
   "metadata": {
    "id": "IbG2sS2ieb9N"
   },
   "source": [
    "\n",
    "To compile and use the CUDA kernel, you **need to use a GPU**. To request a free GPU from colab, follow these steps:\n",
    "\n",
    "In the top right click the black triangle:\n",
    "\n",
    "\n",
    "![Step 1](https://github.com/PangeAI/simms/blob/main/assets/samples/colab_tutorial_pesticide/step1.png?raw=true)\n",
    "\n",
    "- Click \"Change runtime type\"\n",
    "\n",
    "![Step 2](https://github.com/PangeAI/simms/blob/main/assets/samples/colab_tutorial_pesticide/step2.png?raw=true)\n",
    "\n",
    "- Click \"T4 GPU\":\n",
    "\n",
    "![Step 3](https://github.com/PangeAI/simms/blob/main/assets/samples/colab_tutorial_pesticide/step3.png?raw=true)\n",
    "\n",
    "- Click \"OK\" on \"Disconnect and delete runtime\" (we haven't done much yet, so this is OK)\n",
    "\n",
    "![Step 4](https://github.com/PangeAI/simms/blob/main/assets/samples/colab_tutorial_pesticide/step4.png?raw=true)\n",
    "\n",
    "- Click \"Save\"\n",
    "\n",
    "![Step 5](https://github.com/PangeAI/simms/blob/main/assets/samples/colab_tutorial_pesticide/step5.png?raw=true)\n",
    "\n",
    "- Now you can run the cuda cosine similarity!"
   ]
  },
  {
   "cell_type": "markdown",
   "metadata": {
    "id": "Pad6zmr7t1iK"
   },
   "source": [
    "# SimMS walkthrough"
   ]
  },
  {
   "cell_type": "code",
   "execution_count": 1,
   "metadata": {
    "colab": {
     "base_uri": "https://localhost:8080/"
    },
    "id": "usCzWu3-eb9O",
    "outputId": "2f2be528-571d-40d2-a816-e57b0b67032f"
   },
   "outputs": [
    {
     "name": "stdout",
     "output_type": "stream",
     "text": [
      "Thu Jan 16 22:34:59 2025       \n",
      "+---------------------------------------------------------------------------------------+\n",
      "| NVIDIA-SMI 535.104.05             Driver Version: 535.104.05   CUDA Version: 12.2     |\n",
      "|-----------------------------------------+----------------------+----------------------+\n",
      "| GPU  Name                 Persistence-M | Bus-Id        Disp.A | Volatile Uncorr. ECC |\n",
      "| Fan  Temp   Perf          Pwr:Usage/Cap |         Memory-Usage | GPU-Util  Compute M. |\n",
      "|                                         |                      |               MIG M. |\n",
      "|=========================================+======================+======================|\n",
      "|   0  Tesla T4                       Off | 00000000:00:04.0 Off |                    0 |\n",
      "| N/A   39C    P8               9W /  70W |      0MiB / 15360MiB |      0%      Default |\n",
      "|                                         |                      |                  N/A |\n",
      "+-----------------------------------------+----------------------+----------------------+\n",
      "                                                                                         \n",
      "+---------------------------------------------------------------------------------------+\n",
      "| Processes:                                                                            |\n",
      "|  GPU   GI   CI        PID   Type   Process name                            GPU Memory |\n",
      "|        ID   ID                                                             Usage      |\n",
      "|=======================================================================================|\n",
      "|  No running processes found                                                           |\n",
      "+---------------------------------------------------------------------------------------+\n"
     ]
    }
   ],
   "source": [
    "gpu = ! nvidia-smi\n",
    "assert \"Tesla T4\" in \"\\n\".join(\n",
    "    gpu\n",
    "), \"You need a GPU. Select the above section on how to use one.\"\n",
    "print(\"\\n\".join(gpu))"
   ]
  },
  {
   "cell_type": "markdown",
   "metadata": {
    "id": "h6aQwE3Jeb9P"
   },
   "source": [
    "Install the `simms` package from github. This can take 2-3 minutes."
   ]
  },
  {
   "cell_type": "code",
   "execution_count": 2,
   "metadata": {
    "colab": {
     "base_uri": "https://localhost:8080/"
    },
    "id": "D4YB5_4nfwiX",
    "outputId": "33714419-ff93-499e-8101-0e5fed10ad81"
   },
   "outputs": [
    {
     "name": "stdout",
     "output_type": "stream",
     "text": [
      "  Installing build dependencies ... \u001b[?25l\u001b[?25hdone\n",
      "  Getting requirements to build wheel ... \u001b[?25l\u001b[?25hdone\n",
      "  Preparing metadata (pyproject.toml) ... \u001b[?25l\u001b[?25hdone\n",
      "\u001b[2K     \u001b[90m━━━━━━━━━━━━━━━━━━━━━━━━━━━━━━━━━━━━━━━━\u001b[0m \u001b[32m57.6/57.6 kB\u001b[0m \u001b[31m4.0 MB/s\u001b[0m eta \u001b[36m0:00:00\u001b[0m\n",
      "\u001b[2K   \u001b[90m━━━━━━━━━━━━━━━━━━━━━━━━━━━━━━━━━━━━━━━━\u001b[0m \u001b[32m301.8/301.8 kB\u001b[0m \u001b[31m12.6 MB/s\u001b[0m eta \u001b[36m0:00:00\u001b[0m\n",
      "\u001b[2K   \u001b[90m━━━━━━━━━━━━━━━━━━━━━━━━━━━━━━━━━━━━━━━━\u001b[0m \u001b[32m64.6/64.6 kB\u001b[0m \u001b[31m7.0 MB/s\u001b[0m eta \u001b[36m0:00:00\u001b[0m\n",
      "\u001b[2K   \u001b[90m━━━━━━━━━━━━━━━━━━━━━━━━━━━━━━━━━━━━━━━━\u001b[0m \u001b[32m78.3/78.3 kB\u001b[0m \u001b[31m8.3 MB/s\u001b[0m eta \u001b[36m0:00:00\u001b[0m\n",
      "\u001b[?25h  Building wheel for simms (pyproject.toml) ... \u001b[?25l\u001b[?25hdone\n"
     ]
    }
   ],
   "source": [
    "import warnings\n",
    "\n",
    "\n",
    "warnings.filterwarnings(\"ignore\")\n",
    "warnings.simplefilter(\"ignore\")\n",
    "\n",
    "! pip uninstall simms -q -y\n",
    "! pip install -q git+https://github.com/PangeAI/simms.git\n",
    "! pip install -q -U ipykernel"
   ]
  },
  {
   "cell_type": "code",
   "execution_count": 3,
   "metadata": {
    "id": "T3ydy1w3eb9P"
   },
   "outputs": [],
   "source": [
    "from IPython.display import Latex, Markdown, display\n",
    "\n",
    "\n",
    "try:\n",
    "    from numba import cuda\n",
    "\n",
    "    assert (\n",
    "        cuda.is_available()\n",
    "    ), \"Change the colab instance type to T4. See guide above ^^^\"\n",
    "except ImportError as e:\n",
    "    display(\n",
    "        Markdown(\n",
    "            f\"\"\"\n",
    "**The very first run on Colab requires a restart.**\n",
    "**In upper left bar, click `Runtime` -> `Restart Session And Run All`**.\n",
    "**When prompted, select `Yes`**.\n",
    "\n",
    "**Shutting down now.**\n",
    "\"\"\"\n",
    "        )\n",
    "    )\n",
    "    exit(0)"
   ]
  },
  {
   "cell_type": "markdown",
   "metadata": {
    "id": "_ye_xouLeb9Q"
   },
   "source": [
    "Import relevant methods and libraries.\n"
   ]
  },
  {
   "cell_type": "code",
   "execution_count": 4,
   "metadata": {
    "id": "APddNC4veb9Q"
   },
   "outputs": [],
   "source": [
    "import warnings\n",
    "\n",
    "\n",
    "warnings.filterwarnings(\"ignore\")\n",
    "from pathlib import Path\n",
    "import numpy as np\n",
    "from matchms import calculate_scores\n",
    "from matchms.filtering import (\n",
    "    default_filters,\n",
    "    normalize_intensities,\n",
    "    reduce_to_number_of_peaks,\n",
    ")\n",
    "from matchms.importing import load_from_mgf\n",
    "from matchms.similarity import CosineGreedy\n",
    "from numba import cuda\n",
    "from simms.similarity import CudaCosineGreedy\n",
    "from simms.utils import download"
   ]
  },
  {
   "cell_type": "markdown",
   "metadata": {
    "id": "Vxbzk9VhjAZj"
   },
   "source": [
    "We now use `download` function to download the sample `pesticides.mgf` file. You are free to instead upload your own MGF file and use it."
   ]
  },
  {
   "cell_type": "code",
   "execution_count": 5,
   "metadata": {
    "colab": {
     "base_uri": "https://localhost:8080/"
    },
    "id": "8rEQ0KILeb9R",
    "outputId": "ffb261f0-16c5-4e98-bbfc-790e04b82ba4"
   },
   "outputs": [
    {
     "name": "stderr",
     "output_type": "stream",
     "text": [
      "Downloading data from 'https://github.com/PangeAI/simms/releases/download/sample-files/pesticides.mgf' to file '/root/.cache/pooch/cb67ca8941a517437d8028749292d1c9-pesticides.mgf'.\n",
      "100%|████████████████████████████████████████| 153k/153k [00:00<00:00, 197MB/s]\n",
      "SHA256 hash of downloaded file: 0adc186e519167f297f8809877183a49a26b478485c89e8b8a7da6f959bb5a17\n",
      "Use this value as the 'known_hash' argument of 'pooch.retrieve' to ensure that the file hasn't changed if it is downloaded again in the future.\n"
     ]
    },
    {
     "data": {
      "text/plain": [
       "[Spectrum(precursor m/z=183.06, 53 fragments between 70.8 and 202.3),\n",
       " Spectrum(precursor m/z=208.15, 56 fragments between 71.9 and 218.6),\n",
       " Spectrum(precursor m/z=370.07, 30 fragments between 71.5 and 358.4),\n",
       " Spectrum(precursor m/z=231.07, 66 fragments between 74.1 and 231.1),\n",
       " Spectrum(precursor m/z=246.04, 37 fragments between 70.3 and 260.1),\n",
       " Spectrum(precursor m/z=282.02, 38 fragments between 77.3 and 288.4),\n",
       " Spectrum(precursor m/z=292.05, 43 fragments between 76.9 and 298.6),\n",
       " Spectrum(precursor m/z=211.06, 77 fragments between 73.0 and 225.3),\n",
       " Spectrum(precursor m/z=231.01, 53 fragments between 70.4 and 239.7),\n",
       " Spectrum(precursor m/z=309.02, 34 fragments between 70.5 and 309.2),\n",
       " Spectrum(precursor m/z=273.06, 30 fragments between 78.6 and 273.2),\n",
       " Spectrum(precursor m/z=357.03, 47 fragments between 72.8 and 357.0),\n",
       " Spectrum(precursor m/z=458.98, 71 fragments between 72.5 and 459.0),\n",
       " Spectrum(precursor m/z=491.00, 86 fragments between 71.2 and 491.0),\n",
       " Spectrum(precursor m/z=472.99, 82 fragments between 72.8 and 473.3),\n",
       " Spectrum(precursor m/z=526.98, 81 fragments between 70.1 and 554.9),\n",
       " Spectrum(precursor m/z=378.97, 55 fragments between 70.5 and 379.0),\n",
       " Spectrum(precursor m/z=508.97, 82 fragments between 70.5 and 489.0),\n",
       " Spectrum(precursor m/z=458.98, 37 fragments between 97.0 and 459.0),\n",
       " Spectrum(precursor m/z=487.03, 59 fragments between 70.8 and 487.0),\n",
       " Spectrum(precursor m/z=491.00, 34 fragments between 113.0 and 499.5),\n",
       " Spectrum(precursor m/z=526.98, 26 fragments between 85.0 and 491.0),\n",
       " Spectrum(precursor m/z=537.96, 59 fragments between 75.8 and 545.7),\n",
       " Spectrum(precursor m/z=508.97, 41 fragments between 75.7 and 489.0),\n",
       " Spectrum(precursor m/z=182.00, 51 fragments between 75.1 and 188.8),\n",
       " Spectrum(precursor m/z=487.03, 30 fragments between 104.0 and 487.0),\n",
       " Spectrum(precursor m/z=201.10, 46 fragments between 71.0 and 211.0),\n",
       " Spectrum(precursor m/z=537.96, 42 fragments between 78.6 and 518.0),\n",
       " Spectrum(precursor m/z=228.04, 21 fragments between 71.5 and 228.0),\n",
       " Spectrum(precursor m/z=384.98, 21 fragments between 151.0 and 387.0),\n",
       " Spectrum(precursor m/z=269.08, 66 fragments between 75.5 and 279.3),\n",
       " Spectrum(precursor m/z=254.04, 41 fragments between 70.0 and 254.0),\n",
       " Spectrum(precursor m/z=434.93, 45 fragments between 93.5 and 462.5),\n",
       " Spectrum(precursor m/z=470.91, 19 fragments between 150.6 and 975.8),\n",
       " Spectrum(precursor m/z=681.02, 84 fragments between 72.3 and 814.8),\n",
       " Spectrum(precursor m/z=235.11, 36 fragments between 72.0 and 259.2),\n",
       " Spectrum(precursor m/z=716.99, 65 fragments between 94.3 and 682.0),\n",
       " Spectrum(precursor m/z=479.96, 58 fragments between 70.2 and 483.7),\n",
       " Spectrum(precursor m/z=329.11, 42 fragments between 71.2 and 340.6),\n",
       " Spectrum(precursor m/z=365.08, 55 fragments between 73.0 and 382.9),\n",
       " Spectrum(precursor m/z=367.20, 17 fragments between 82.5 and 367.2),\n",
       " Spectrum(precursor m/z=247.03, 47 fragments between 71.0 and 269.8),\n",
       " Spectrum(precursor m/z=322.11, 38 fragments between 83.3 and 322.1),\n",
       " Spectrum(precursor m/z=397.21, 16 fragments between 75.6 and 352.2),\n",
       " Spectrum(precursor m/z=462.94, 37 fragments between 123.0 and 462.9),\n",
       " Spectrum(precursor m/z=341.03, 100 fragments between 70.2 and 353.2),\n",
       " Spectrum(precursor m/z=505.11, 51 fragments between 83.7 and 387.9),\n",
       " Spectrum(precursor m/z=367.20, 70 fragments between 75.2 and 393.2),\n",
       " Spectrum(precursor m/z=541.09, 67 fragments between 102.0 and 630.7),\n",
       " Spectrum(precursor m/z=300.06, 68 fragments between 70.3 and 300.2),\n",
       " Spectrum(precursor m/z=551.12, 55 fragments between 102.0 and 775.6),\n",
       " Spectrum(precursor m/z=917.49, 123 fragments between 81.0 and 917.2),\n",
       " Spectrum(precursor m/z=351.21, 56 fragments between 70.4 and 373.8),\n",
       " Spectrum(precursor m/z=943.51, 159 fragments between 83.0 and 943.0),\n",
       " Spectrum(precursor m/z=387.18, 34 fragments between 70.5 and 408.4),\n",
       " Spectrum(precursor m/z=462.94, 61 fragments between 71.4 and 487.7),\n",
       " Spectrum(precursor m/z=919.51, 69 fragments between 85.0 and 919.0),\n",
       " Spectrum(precursor m/z=505.11, 90 fragments between 70.0 and 500.8),\n",
       " Spectrum(precursor m/z=493.18, 94 fragments between 89.1 and 496.8),\n",
       " Spectrum(precursor m/z=541.09, 71 fragments between 71.9 and 542.8),\n",
       " Spectrum(precursor m/z=912.51, 103 fragments between 70.5 and 916.7),\n",
       " Spectrum(precursor m/z=897.50, 92 fragments between 76.1 and 925.1),\n",
       " Spectrum(precursor m/z=943.51, 66 fragments between 71.1 and 925.4),\n",
       " Spectrum(precursor m/z=219.03, 43 fragments between 71.0 and 231.1),\n",
       " Spectrum(precursor m/z=255.01, 50 fragments between 71.0 and 276.6),\n",
       " Spectrum(precursor m/z=341.04, 86 fragments between 72.2 and 364.7),\n",
       " Spectrum(precursor m/z=493.18, 247 fragments between 78.0 and 493.5),\n",
       " Spectrum(precursor m/z=529.16, 65 fragments between 72.2 and 493.2),\n",
       " Spectrum(precursor m/z=248.00, 59 fragments between 70.5 and 248.0),\n",
       " Spectrum(precursor m/z=384.98, 103 fragments between 71.0 and 409.1),\n",
       " Spectrum(precursor m/z=394.98, 93 fragments between 71.5 and 401.6),\n",
       " Spectrum(precursor m/z=430.95, 126 fragments between 70.7 and 431.0),\n",
       " Spectrum(precursor m/z=434.93, 85 fragments between 71.1 and 434.9),\n",
       " Spectrum(precursor m/z=681.02, 57 fragments between 70.7 and 649.7),\n",
       " Spectrum(precursor m/z=716.99, 54 fragments between 79.0 and 681.0),\n",
       " Spectrum(precursor m/z=342.02, 70 fragments between 72.0 and 342.2)]"
      ]
     },
     "execution_count": 5,
     "metadata": {},
     "output_type": "execute_result"
    }
   ],
   "source": [
    "# Download the pesticide.mgf file\n",
    "mgf_file_path = download(\"pesticides.mgf\")\n",
    "# Or upload your own file from left panel and use\n",
    "# mgf_file_path = 'my_uploaded_file.mgf'\n",
    "\n",
    "\n",
    "file = list(load_from_mgf(mgf_file_path))\n",
    "\n",
    "# Apply filters to clean and enhance each spectrum\n",
    "spectrums = []\n",
    "\n",
    "for spectrum in file:\n",
    "    # Apply default filter to standardize ion mode, correct charge and more.\n",
    "    # Default filter is fully explained at https://matchms.readthedocs.io/en/latest/api/matchms.filtering.html .\n",
    "    spectrum = default_filters(spectrum)\n",
    "    # Scale peak intensities to maximum of 1\n",
    "    spectrum = normalize_intensities(spectrum)\n",
    "    # To avoid crashing CUDA memory, we must limit max number of peaks in all spectra\n",
    "    spectrum = reduce_to_number_of_peaks(spectrum, n_max=1024)\n",
    "    spectrums.append(spectrum)\n",
    "\n",
    "spectrums"
   ]
  },
  {
   "cell_type": "markdown",
   "metadata": {
    "id": "oCn2UIk1eb9S"
   },
   "source": [
    "Perform calculations using the using original `matchms` functions."
   ]
  },
  {
   "cell_type": "code",
   "execution_count": 6,
   "metadata": {
    "colab": {
     "base_uri": "https://localhost:8080/"
    },
    "id": "0nl5aX8Xeb9S",
    "outputId": "0a737d05-c82d-4ca4-903a-cc9082d1866e"
   },
   "outputs": [
    {
     "name": "stdout",
     "output_type": "stream",
     "text": [
      "Size of matrix of computed similarities: (76, 76, 2)\n",
      "Reference scan id: 613\n",
      "Query scan id: 2161\n",
      "Score: 0.8646\n",
      "Number of matching peaks: 14\n",
      "----------------------------\n",
      "Reference scan id: 603\n",
      "Query scan id: 2161\n",
      "Score: 0.8237\n",
      "Number of matching peaks: 14\n",
      "----------------------------\n",
      "Reference scan id: 2160\n",
      "Query scan id: 2161\n",
      "Score: 0.8015\n",
      "Number of matching peaks: 25\n",
      "----------------------------\n",
      "Reference scan id: 2362\n",
      "Query scan id: 2161\n",
      "Score: 0.2923\n",
      "Number of matching peaks: 7\n",
      "----------------------------\n",
      "Reference scan id: 2598\n",
      "Query scan id: 2161\n",
      "Score: 0.2231\n",
      "Number of matching peaks: 5\n",
      "----------------------------\n",
      "Reference scan id: 2594\n",
      "Query scan id: 2161\n",
      "Score: 0.1761\n",
      "Number of matching peaks: 3\n",
      "----------------------------\n",
      "Reference scan id: 1944\n",
      "Query scan id: 2161\n",
      "Score: 0.1396\n",
      "Number of matching peaks: 5\n",
      "----------------------------\n",
      "Reference scan id: 1772\n",
      "Query scan id: 2161\n",
      "Score: 0.1037\n",
      "Number of matching peaks: 4\n",
      "----------------------------\n",
      "Reference scan id: 2284\n",
      "Query scan id: 2161\n",
      "Score: 0.0675\n",
      "Number of matching peaks: 9\n",
      "----------------------------\n"
     ]
    }
   ],
   "source": [
    "scores = calculate_scores(\n",
    "    references=spectrums,\n",
    "    queries=spectrums,\n",
    "    similarity_function=CosineGreedy(),\n",
    "    is_symmetric=True,\n",
    ")\n",
    "print(f\"Size of matrix of computed similarities: {scores.scores.shape}\")\n",
    "\n",
    "# Matchms allows to get the best matches for any query using scores_by_query\n",
    "query = spectrums[15]  # just an example\n",
    "best_matches = scores.scores_by_query(query, \"CosineGreedy_score\", sort=True)\n",
    "\n",
    "# Print the calculated scores for each spectrum pair\n",
    "for reference, (score, matches) in best_matches[:10]:\n",
    "    # Ignore scores between same spectrum\n",
    "    if reference is not query:\n",
    "        print(f\"Reference scan id: {reference.metadata['scans']}\")\n",
    "        print(f\"Query scan id: {query.metadata['scans']}\")\n",
    "        print(f\"Score: {score:.4f}\")\n",
    "        print(f\"Number of matching peaks: {matches}\")\n",
    "        print(\"----------------------------\")"
   ]
  },
  {
   "cell_type": "code",
   "execution_count": 7,
   "metadata": {
    "id": "oKKq1_p9eb9T"
   },
   "outputs": [],
   "source": [
    "# Default tolerance and other arguments are the same\n",
    "\n",
    "cosine_greedy_kernel = CudaCosineGreedy(\n",
    "    tolerance=0.1,  # Same parameters as CosineGreedy\n",
    "    mz_power=0,\n",
    "    intensity_power=1,\n",
    "    shift=0,\n",
    "    ## CUDA-specific parameters!\n",
    "    ## Controls the number of reference/queries to process in one step\n",
    "    # larger batch sizes might speed up processing if GPU has enough memory\n",
    "    batch_size=512,\n",
    "    # We need to trim any spectra with many peaks to maximum of `n_max_peaks`\n",
    "    # shorter spectra aren't affected.\n",
    "    n_max_peaks=1024,\n",
    "    # Match limit is the number of possible pairs we accumulate before peak deduplication\n",
    "    # In practice, match limits over 2k have negligible accuracy improvement.\n",
    "    match_limit=2048,\n",
    "    # Only used when array_type is 'sparse'. With sparse, we discard all scores\n",
    "    # that are smaller than `sparse_threshold`. This allows us to save RAM memory\n",
    "    # from overflowing when processing pairs on the order of ~1e+10.\n",
    "    sparse_threshold=0.75,\n",
    ")\n",
    "\n",
    "\n",
    "## Calculate scores as a dense output matrix...\n",
    "scores_cu = calculate_scores(\n",
    "    references=spectrums,\n",
    "    queries=spectrums,\n",
    "    similarity_function=cosine_greedy_kernel,\n",
    ")\n",
    "\n",
    "## Or if you have way too many spectra, use sparse implementation!\n",
    "sparse_scores_cu = calculate_scores(\n",
    "    references=spectrums,\n",
    "    queries=spectrums,\n",
    "    similarity_function=cosine_greedy_kernel,\n",
    "    array_type=\"sparse\",\n",
    ")"
   ]
  },
  {
   "cell_type": "code",
   "execution_count": 8,
   "metadata": {
    "colab": {
     "base_uri": "https://localhost:8080/",
     "height": 330
    },
    "id": "O6NR69ugoMfO",
    "outputId": "9209b03c-ba8f-4713-bc70-3a8061eb635f"
   },
   "outputs": [
    {
     "data": {
      "image/png": "[encoded data removed]",
      "text/plain": [
       "<Figure size 1000x500 with 3 Axes>"
      ]
     },
     "metadata": {},
     "output_type": "display_data"
    }
   ],
   "source": [
    "import matplotlib.pyplot as plt\n",
    "\n",
    "\n",
    "fig, (a, b, c) = plt.subplots(1, 3, figsize=(10, 5), sharey=True)\n",
    "\n",
    "a.imshow(scores_cu.to_array(\"CudaCosineGreedy_score\"))\n",
    "a.set_title(\"CUDA score\")\n",
    "\n",
    "b.imshow(sparse_scores_cu.to_array(\"CudaCosineGreedy_sparse_score\"))\n",
    "b.set_title(\"CUDA sparse score (discard <.75)\")\n",
    "\n",
    "c.imshow(scores.to_array(\"CosineGreedy_score\"))\n",
    "c.set_title(\"Matchms score\")\n",
    "\n",
    "for ax in (a, b, c):\n",
    "    ax.set_xlabel(\"Query\")\n",
    "    ax.set_ylabel(\"Reference\")"
   ]
  },
  {
   "cell_type": "markdown",
   "metadata": {
    "id": "9EssySfaeb9T"
   },
   "source": [
    "We use the CUDA-calculated results in the same fashion:"
   ]
  },
  {
   "cell_type": "code",
   "execution_count": 9,
   "metadata": {
    "colab": {
     "base_uri": "https://localhost:8080/"
    },
    "id": "Iqp8EoP9eb9T",
    "outputId": "1055d730-e5fb-4ffb-f6dd-f1b488d1fd5d"
   },
   "outputs": [
    {
     "name": "stdout",
     "output_type": "stream",
     "text": [
      "Size of matrix of computed similarities: (76, 76, 3)\n"
     ]
    }
   ],
   "source": [
    "# This computed all-vs-all similarity scores, the array of which can be accessed as scores.scores\n",
    "print(f\"Size of matrix of computed similarities: {scores_cu.scores.shape}\")\n",
    "\n",
    "# Matchms allows to get the best matches for any query using scores_by_query\n",
    "query = spectrums[15]  # just an example\n",
    "best_matches_cu = scores_cu.scores_by_query(query, \"CudaCosineGreedy_score\", sort=True)"
   ]
  },
  {
   "cell_type": "code",
   "execution_count": 12,
   "metadata": {
    "colab": {
     "base_uri": "https://localhost:8080/"
    },
    "id": "rU94rL_geb9U",
    "outputId": "c4b7313e-0047-48ce-be4f-a09391450244"
   },
   "outputs": [
    {
     "name": "stdout",
     "output_type": "stream",
     "text": [
      "Reference scan id: 613\n",
      "Query scan id: 2161\n",
      "Score: 0.8646\n",
      "Number of matching peaks: 14\n",
      "Did GPU overflow at this pair: False\n",
      "----------------------------\n",
      "Reference scan id: 603\n",
      "Query scan id: 2161\n",
      "Score: 0.8237\n",
      "Number of matching peaks: 14\n",
      "Did GPU overflow at this pair: False\n",
      "----------------------------\n",
      "Reference scan id: 2160\n",
      "Query scan id: 2161\n",
      "Score: 0.8015\n",
      "Number of matching peaks: 25\n",
      "Did GPU overflow at this pair: False\n",
      "----------------------------\n",
      "Reference scan id: 2362\n",
      "Query scan id: 2161\n",
      "Score: 0.2923\n",
      "Number of matching peaks: 7\n",
      "Did GPU overflow at this pair: False\n",
      "----------------------------\n",
      "Reference scan id: 2598\n",
      "Query scan id: 2161\n",
      "Score: 0.2231\n",
      "Number of matching peaks: 5\n",
      "Did GPU overflow at this pair: False\n",
      "----------------------------\n",
      "Reference scan id: 2594\n",
      "Query scan id: 2161\n",
      "Score: 0.1761\n",
      "Number of matching peaks: 3\n",
      "Did GPU overflow at this pair: False\n",
      "----------------------------\n",
      "Reference scan id: 1944\n",
      "Query scan id: 2161\n",
      "Score: 0.1396\n",
      "Number of matching peaks: 5\n",
      "Did GPU overflow at this pair: False\n",
      "----------------------------\n",
      "Reference scan id: 1772\n",
      "Query scan id: 2161\n",
      "Score: 0.1037\n",
      "Number of matching peaks: 4\n",
      "Did GPU overflow at this pair: False\n",
      "----------------------------\n",
      "Reference scan id: 2284\n",
      "Query scan id: 2161\n",
      "Score: 0.0675\n",
      "Number of matching peaks: 9\n",
      "Did GPU overflow at this pair: False\n",
      "----------------------------\n"
     ]
    }
   ],
   "source": [
    "# Print the calculated scores_cu for each spectrum pair\n",
    "for reference, (score, matches, overflow) in best_matches_cu[:10]:\n",
    "    # Ignore scores_cu between same spectrum\n",
    "    if reference != query:\n",
    "        print(f\"Reference scan id: {reference.metadata['scans']}\")\n",
    "        print(f\"Query scan id: {query.metadata['scans']}\")\n",
    "        print(f\"Score: {score:.4f}\")\n",
    "        print(f\"Number of matching peaks: {matches}\")\n",
    "        print(f\"Did GPU overflow at this pair: {overflow}\")\n",
    "        print(\"----------------------------\")"
   ]
  },
  {
   "cell_type": "markdown",
   "metadata": {
    "id": "3q3l4_uHeb9U"
   },
   "source": [
    "We make sure that results from both matchms and CudaCosineGreedy are equal."
   ]
  },
  {
   "cell_type": "code",
   "execution_count": 11,
   "metadata": {
    "id": "CtCv6qGPeb9U"
   },
   "outputs": [],
   "source": [
    "for a, b in zip(best_matches[:10], best_matches_cu[:10]):\n",
    "    reference, (score_a, matches_a) = a\n",
    "    reference, (score_b, matches_b, overflow_b) = b\n",
    "    if reference != query:\n",
    "        # If we didn't overflow\n",
    "        if not overflow_b:\n",
    "            assert np.isclose(score_a, score_b), (\"score error\", score_a, score_b)\n",
    "            assert np.isclose(matches_a, matches_b), (\n",
    "                \"match error\",\n",
    "                matches_a,\n",
    "                matches_b,\n",
    "            )\n",
    "        # If overflow, score must be leq\n",
    "        else:\n",
    "            assert score_a >= score_b\n",
    "            assert matches_a >= matches_b"
   ]
  }
 ],
 "metadata": {
  "accelerator": "GPU",
  "colab": {
   "gpuType": "T4",
   "provenance": []
  },
  "kernelspec": {
   "display_name": "Python 3",
   "name": "python3"
  },
  "language_info": {
   "codemirror_mode": {
    "name": "ipython",
    "version": 3
   },
   "file_extension": ".py",
   "mimetype": "text/x-python",
   "name": "python",
   "nbconvert_exporter": "python",
   "pygments_lexer": "ipython3",
   "version": "3.10.11"
  }
 },
 "nbformat": 4,
 "nbformat_minor": 0
}
