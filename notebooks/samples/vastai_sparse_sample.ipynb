{
 "cells": [
  {
   "cell_type": "code",
   "execution_count": 17,
   "metadata": {},
   "outputs": [
    {
     "name": "stdout",
     "output_type": "stream",
     "text": [
      "The autoreload extension is already loaded. To reload it, use:\n",
      "  %reload_ext autoreload\n",
      "env: PYTHONWARNINGS=ignore\n"
     ]
    }
   ],
   "source": [
    "%load_ext autoreload\n",
    "%autoreload 2\n",
    "%env PYTHONWARNINGS ignore"
   ]
  },
  {
   "cell_type": "code",
   "execution_count": 5,
   "metadata": {},
   "outputs": [
    {
     "name": "stdout",
     "output_type": "stream",
     "text": [
      "\u001b[33mWARNING: Skipping simms as it is not installed.\u001b[0m\u001b[33m\n",
      "\u001b[0mCollecting git+https://github.com/PangeAI/simms.git@dev\n",
      "  Cloning https://github.com/PangeAI/simms.git (to revision dev) to /tmp/pip-req-build-cmzzvn94\n",
      "  Running command git clone --filter=blob:none --quiet https://github.com/PangeAI/simms.git /tmp/pip-req-build-cmzzvn94\n",
      "  Running command git checkout -b dev --track origin/dev\n",
      "  Switched to a new branch 'dev'\n",
      "  branch 'dev' set up to track 'origin/dev'.\n",
      "  Resolved https://github.com/PangeAI/simms.git to commit bcc415cd79d9891ffe4643f407b115bcfd943bdc\n",
      "  Installing build dependencies ... \u001b[?25ldone\n",
      "\u001b[?25h  Getting requirements to build wheel ... \u001b[?25ldone\n",
      "\u001b[?25h  Installing backend dependencies ... \u001b[?25ldone\n",
      "\u001b[?25h  Preparing metadata (pyproject.toml) ... \u001b[?25ldone\n",
      "\u001b[?25hRequirement already satisfied: matchms>=0.24.0 in /home/PangeAI/micromamba/envs/pb2/lib/python3.11/site-packages (from simms==0.0.1) (0.24.2)\n",
      "Requirement already satisfied: torch in /home/PangeAI/micromamba/envs/pb2/lib/python3.11/site-packages (from simms==0.0.1) (2.2.1)\n",
      "Requirement already satisfied: rdkit in /home/PangeAI/micromamba/envs/pb2/lib/python3.11/site-packages (from simms==0.0.1) (2023.9.5)\n",
      "Requirement already satisfied: h5py in /home/PangeAI/micromamba/envs/pb2/lib/python3.11/site-packages (from simms==0.0.1) (3.10.0)\n",
      "Requirement already satisfied: pydantic in /home/PangeAI/micromamba/envs/pb2/lib/python3.11/site-packages (from simms==0.0.1) (2.6.3)\n",
      "Requirement already satisfied: numba in /home/PangeAI/micromamba/envs/pb2/lib/python3.11/site-packages (from simms==0.0.1) (0.57.1)\n",
      "Requirement already satisfied: pandas in /home/PangeAI/micromamba/envs/pb2/lib/python3.11/site-packages (from simms==0.0.1) (2.2.1)\n",
      "Requirement already satisfied: joblib in /home/PangeAI/micromamba/envs/pb2/lib/python3.11/site-packages (from simms==0.0.1) (1.3.2)\n",
      "Requirement already satisfied: tqdm in /home/PangeAI/micromamba/envs/pb2/lib/python3.11/site-packages (from simms==0.0.1) (4.66.2)\n",
      "Requirement already satisfied: requests in /home/PangeAI/micromamba/envs/pb2/lib/python3.11/site-packages (from simms==0.0.1) (2.31.0)\n",
      "Requirement already satisfied: pooch in /home/PangeAI/micromamba/envs/pb2/lib/python3.11/site-packages (from simms==0.0.1) (1.8.1)\n",
      "Requirement already satisfied: deprecated<2.0.0,>=1.2.14 in /home/PangeAI/micromamba/envs/pb2/lib/python3.11/site-packages (from matchms>=0.24.0->simms==0.0.1) (1.2.14)\n",
      "Requirement already satisfied: lxml<5.0.0,>=4.9.3 in /home/PangeAI/micromamba/envs/pb2/lib/python3.11/site-packages (from matchms>=0.24.0->simms==0.0.1) (4.9.4)\n",
      "Requirement already satisfied: matplotlib<4.0.0,>=3.7.2 in /home/PangeAI/micromamba/envs/pb2/lib/python3.11/site-packages (from matchms>=0.24.0->simms==0.0.1) (3.8.3)\n",
      "Requirement already satisfied: networkx<4.0,>=3.1 in /home/PangeAI/micromamba/envs/pb2/lib/python3.11/site-packages (from matchms>=0.24.0->simms==0.0.1) (3.2.1)\n",
      "Requirement already satisfied: numpy<1.25 in /home/PangeAI/micromamba/envs/pb2/lib/python3.11/site-packages (from matchms>=0.24.0->simms==0.0.1) (1.24.4)\n",
      "Requirement already satisfied: pickydict<0.5.0,>=0.4.0 in /home/PangeAI/micromamba/envs/pb2/lib/python3.11/site-packages (from matchms>=0.24.0->simms==0.0.1) (0.4.0)\n",
      "Requirement already satisfied: pillow!=9.4.0 in /home/PangeAI/micromamba/envs/pb2/lib/python3.11/site-packages (from matchms>=0.24.0->simms==0.0.1) (10.2.0)\n",
      "Requirement already satisfied: pubchempy in /home/PangeAI/micromamba/envs/pb2/lib/python3.11/site-packages (from matchms>=0.24.0->simms==0.0.1) (1.0.4)\n",
      "Requirement already satisfied: pyteomics<5.0,>=4.6 in /home/PangeAI/micromamba/envs/pb2/lib/python3.11/site-packages (from matchms>=0.24.0->simms==0.0.1) (4.7.1)\n",
      "Requirement already satisfied: pyyaml<7.0.0,>=6.0.1 in /home/PangeAI/micromamba/envs/pb2/lib/python3.11/site-packages (from matchms>=0.24.0->simms==0.0.1) (6.0.1)\n",
      "Requirement already satisfied: scipy<1.11 in /home/PangeAI/micromamba/envs/pb2/lib/python3.11/site-packages (from matchms>=0.24.0->simms==0.0.1) (1.10.1)\n",
      "Requirement already satisfied: sparsestack<0.5.0,>=0.4.1 in /home/PangeAI/micromamba/envs/pb2/lib/python3.11/site-packages (from matchms>=0.24.0->simms==0.0.1) (0.4.1)\n",
      "Requirement already satisfied: llvmlite<0.41,>=0.40.0dev0 in /home/PangeAI/micromamba/envs/pb2/lib/python3.11/site-packages (from numba->simms==0.0.1) (0.40.1)\n",
      "Requirement already satisfied: python-dateutil>=2.8.2 in /home/PangeAI/micromamba/envs/pb2/lib/python3.11/site-packages (from pandas->simms==0.0.1) (2.8.2)\n",
      "Requirement already satisfied: pytz>=2020.1 in /home/PangeAI/micromamba/envs/pb2/lib/python3.11/site-packages (from pandas->simms==0.0.1) (2024.1)\n",
      "Requirement already satisfied: tzdata>=2022.7 in /home/PangeAI/micromamba/envs/pb2/lib/python3.11/site-packages (from pandas->simms==0.0.1) (2024.1)\n",
      "Requirement already satisfied: charset-normalizer<4,>=2 in /home/PangeAI/micromamba/envs/pb2/lib/python3.11/site-packages (from requests->simms==0.0.1) (3.3.2)\n",
      "Requirement already satisfied: idna<4,>=2.5 in /home/PangeAI/micromamba/envs/pb2/lib/python3.11/site-packages (from requests->simms==0.0.1) (3.6)\n",
      "Requirement already satisfied: urllib3<3,>=1.21.1 in /home/PangeAI/micromamba/envs/pb2/lib/python3.11/site-packages (from requests->simms==0.0.1) (2.0.7)\n",
      "Requirement already satisfied: certifi>=2017.4.17 in /home/PangeAI/micromamba/envs/pb2/lib/python3.11/site-packages (from requests->simms==0.0.1) (2024.2.2)\n",
      "Requirement already satisfied: platformdirs>=2.5.0 in /home/PangeAI/micromamba/envs/pb2/lib/python3.11/site-packages (from pooch->simms==0.0.1) (4.2.0)\n",
      "Requirement already satisfied: packaging>=20.0 in /home/PangeAI/micromamba/envs/pb2/lib/python3.11/site-packages (from pooch->simms==0.0.1) (23.2)\n",
      "Requirement already satisfied: annotated-types>=0.4.0 in /home/PangeAI/micromamba/envs/pb2/lib/python3.11/site-packages (from pydantic->simms==0.0.1) (0.6.0)\n",
      "Requirement already satisfied: pydantic-core==2.16.3 in /home/PangeAI/micromamba/envs/pb2/lib/python3.11/site-packages (from pydantic->simms==0.0.1) (2.16.3)\n",
      "Requirement already satisfied: typing-extensions>=4.6.1 in /home/PangeAI/micromamba/envs/pb2/lib/python3.11/site-packages (from pydantic->simms==0.0.1) (4.10.0)\n",
      "Requirement already satisfied: filelock in /home/PangeAI/micromamba/envs/pb2/lib/python3.11/site-packages (from torch->simms==0.0.1) (3.13.1)\n",
      "Requirement already satisfied: sympy in /home/PangeAI/micromamba/envs/pb2/lib/python3.11/site-packages (from torch->simms==0.0.1) (1.12)\n",
      "Requirement already satisfied: jinja2 in /home/PangeAI/micromamba/envs/pb2/lib/python3.11/site-packages (from torch->simms==0.0.1) (3.1.3)\n",
      "Requirement already satisfied: fsspec in /home/PangeAI/micromamba/envs/pb2/lib/python3.11/site-packages (from torch->simms==0.0.1) (2024.2.0)\n",
      "Requirement already satisfied: wrapt<2,>=1.10 in /home/PangeAI/micromamba/envs/pb2/lib/python3.11/site-packages (from deprecated<2.0.0,>=1.2.14->matchms>=0.24.0->simms==0.0.1) (1.16.0)\n",
      "Requirement already satisfied: contourpy>=1.0.1 in /home/PangeAI/micromamba/envs/pb2/lib/python3.11/site-packages (from matplotlib<4.0.0,>=3.7.2->matchms>=0.24.0->simms==0.0.1) (1.2.0)\n",
      "Requirement already satisfied: cycler>=0.10 in /home/PangeAI/micromamba/envs/pb2/lib/python3.11/site-packages (from matplotlib<4.0.0,>=3.7.2->matchms>=0.24.0->simms==0.0.1) (0.12.1)\n",
      "Requirement already satisfied: fonttools>=4.22.0 in /home/PangeAI/micromamba/envs/pb2/lib/python3.11/site-packages (from matplotlib<4.0.0,>=3.7.2->matchms>=0.24.0->simms==0.0.1) (4.49.0)\n",
      "Requirement already satisfied: kiwisolver>=1.3.1 in /home/PangeAI/micromamba/envs/pb2/lib/python3.11/site-packages (from matplotlib<4.0.0,>=3.7.2->matchms>=0.24.0->simms==0.0.1) (1.4.5)\n",
      "Requirement already satisfied: pyparsing>=2.3.1 in /home/PangeAI/micromamba/envs/pb2/lib/python3.11/site-packages (from matplotlib<4.0.0,>=3.7.2->matchms>=0.24.0->simms==0.0.1) (3.1.1)\n",
      "Requirement already satisfied: six>=1.5 in /home/PangeAI/micromamba/envs/pb2/lib/python3.11/site-packages (from python-dateutil>=2.8.2->pandas->simms==0.0.1) (1.16.0)\n",
      "Requirement already satisfied: MarkupSafe>=2.0 in /home/PangeAI/micromamba/envs/pb2/lib/python3.11/site-packages (from jinja2->torch->simms==0.0.1) (2.1.5)\n",
      "Requirement already satisfied: mpmath>=0.19 in /home/PangeAI/micromamba/envs/pb2/lib/python3.11/site-packages (from sympy->torch->simms==0.0.1) (1.3.0)\n",
      "Building wheels for collected packages: simms\n",
      "  Building wheel for simms (pyproject.toml) ... \u001b[?25ldone\n",
      "\u001b[?25h  Created wheel for simms: filename=simms-0.0.1-py3-none-any.whl size=24913 sha256=c4b23cd089228c6a5c285b10cbebbf7dee4e86ae4cc3d3d1104bc422036733bd\n",
      "  Stored in directory: /tmp/pip-ephem-wheel-cache-ppooswx6/wheels/a4/f2/af/c0470cb2244b8ae55558b0a882bed091640dbaadcfdaf73b72\n",
      "Successfully built simms\n",
      "Installing collected packages: simms\n",
      "Successfully installed simms-0.0.1\n"
     ]
    }
   ],
   "source": [
    "! pip uninstall simms -q -y\n",
    "! pip install git+https://github.com/PangeAI/simms.git@main"
   ]
  },
  {
   "cell_type": "markdown",
   "metadata": {},
   "source": [
    "# Load data"
   ]
  },
  {
   "cell_type": "code",
   "execution_count": 118,
   "metadata": {},
   "outputs": [],
   "source": [
    "from pathlib import Path\n",
    "import numpy as np\n",
    "from tqdm import tqdm\n",
    "import torch\n",
    "from numba import cuda\n",
    "assert torch.cuda.is_available()\n",
    "assert cuda.is_available()\n",
    "\n",
    "from simms.utils import download\n",
    "import pickle\n",
    "from pathlib import Path\n",
    "from matchms import calculate_scores\n",
    "\n",
    "gnps = pickle.loads(\n",
    "    Path(\n",
    "        download('GNPS-LIBRARY-default-filter-nmax-2048.pickle')\n",
    "    ).read_bytes()\n",
    ")\n",
    "batch_size = 512"
   ]
  },
  {
   "cell_type": "code",
   "execution_count": 136,
   "metadata": {},
   "outputs": [
    {
     "name": "stdout",
     "output_type": "stream",
     "text": [
      "The autoreload extension is already loaded. To reload it, use:\n",
      "  %reload_ext autoreload\n"
     ]
    },
    {
     "data": {
      "text/plain": [
       "[(Spectrum(precursor m/z=940.25, 335 fragments between 278.0 and 940.9),\n",
       "  (1., 335, False))]"
      ]
     },
     "execution_count": 136,
     "metadata": {},
     "output_type": "execute_result"
    }
   ],
   "source": [
    "%load_ext autoreload\n",
    "%autoreload 2\n",
    "from simms.similarity import CudaCosineGreedy\n",
    "from matchms import calculate_scores\n",
    "\n",
    "kernel = CudaCosineGreedy(\n",
    "    tolerance=.1,\n",
    "    shift=0,\n",
    "    mz_power=0,\n",
    "    intensity_power=1,\n",
    "    match_limit=2048,\n",
    "    batch_size=batch_size,\n",
    "    sparse_threshold=.75\n",
    ")\n",
    "\n",
    "references=gnps[:batch_size]\n",
    "queries=gnps[:batch_size]\n",
    "\n",
    "sparse_results = calculate_scores(\n",
    "    references=references,\n",
    "    queries=queries,\n",
    "    similarity_function=kernel,\n",
    "    array_type='sparse',\n",
    ")\n"
   ]
  },
  {
   "cell_type": "code",
   "execution_count": 122,
   "metadata": {},
   "outputs": [],
   "source": [
    "from matchms.similarity import CosineGreedy\n",
    "\n",
    "expected_results = calculate_scores(\n",
    "    references=references,\n",
    "    queries=queries,\n",
    "    similarity_function=CosineGreedy(),\n",
    ")"
   ]
  },
  {
   "cell_type": "code",
   "execution_count": 125,
   "metadata": {},
   "outputs": [],
   "source": [
    "a = expected_results.to_array('CosineGreedy_score')"
   ]
  },
  {
   "cell_type": "code",
   "execution_count": 130,
   "metadata": {},
   "outputs": [],
   "source": [
    "b = sparse_results.to_array('CudaCosineGreedy_sparse_score')"
   ]
  },
  {
   "cell_type": "code",
   "execution_count": 132,
   "metadata": {},
   "outputs": [
    {
     "data": {
      "text/plain": [
       "0.9999923706054688"
      ]
     },
     "execution_count": 132,
     "metadata": {},
     "output_type": "execute_result"
    }
   ],
   "source": [
    "np.isclose(a, b).mean()"
   ]
  },
  {
   "cell_type": "code",
   "execution_count": null,
   "metadata": {},
   "outputs": [],
   "source": [
    "sparse_results."
   ]
  },
  {
   "cell_type": "code",
   "execution_count": 135,
   "metadata": {},
   "outputs": [
    {
     "name": "stdout",
     "output_type": "stream",
     "text": [
      "('CudaCosineGreedy_sparse_score', 'CudaCosineGreedy_sparse_matches', 'CudaCosineGreedy_sparse_overflow')\n",
      "[(Spectrum(precursor m/z=545.15, 302 fragments between 160.5 and 1955.4), (0.9240435, 18, False))]\n"
     ]
    }
   ],
   "source": [
    "print(sparse_results.score_names)\n",
    "print(sparse_results.scores_by_reference(\n",
    "    reference=references[3],\n",
    "    name='score'\n",
    "))"
   ]
  },
  {
   "cell_type": "code",
   "execution_count": 53,
   "metadata": {},
   "outputs": [
    {
     "ename": "ValueError",
     "evalue": "no field of name CosineGreedy_score",
     "output_type": "error",
     "traceback": [
      "\u001b[0;31m---------------------------------------------------------------------------\u001b[0m",
      "\u001b[0;31mValueError\u001b[0m                                Traceback (most recent call last)",
      "Cell \u001b[0;32mIn[53], line 2\u001b[0m\n\u001b[1;32m      1\u001b[0m query \u001b[38;5;241m=\u001b[39m queries[\u001b[38;5;241m15\u001b[39m]  \u001b[38;5;66;03m# just an example\u001b[39;00m\n\u001b[0;32m----> 2\u001b[0m best_matches \u001b[38;5;241m=\u001b[39m \u001b[43msparse_results\u001b[49m\u001b[38;5;241;43m.\u001b[39;49m\u001b[43mscores_by_query\u001b[49m\u001b[43m(\u001b[49m\u001b[43mquery\u001b[49m\u001b[43m,\u001b[49m\u001b[43m \u001b[49m\n\u001b[1;32m      3\u001b[0m \u001b[43m                                      \u001b[49m\u001b[38;5;124;43m\"\u001b[39;49m\u001b[38;5;124;43mCosineGreedy_score\u001b[39;49m\u001b[38;5;124;43m\"\u001b[39;49m\u001b[43m,\u001b[49m\u001b[43m \u001b[49m\n\u001b[1;32m      4\u001b[0m \u001b[43m                                      \u001b[49m\u001b[43msort\u001b[49m\u001b[38;5;241;43m=\u001b[39;49m\u001b[38;5;28;43;01mTrue\u001b[39;49;00m\u001b[43m)\u001b[49m\n",
      "File \u001b[0;32m/opt/conda/lib/python3.10/site-packages/matchms/Scores.py:281\u001b[0m, in \u001b[0;36mScores.scores_by_query\u001b[0;34m(self, query, name, sort)\u001b[0m\n\u001b[1;32m    279\u001b[0m \u001b[38;5;66;03m# TODO: add option to use other sorting algorithm\u001b[39;00m\n\u001b[1;32m    280\u001b[0m \u001b[38;5;28;01mif\u001b[39;00m scores_for_query\u001b[38;5;241m.\u001b[39mdtype\u001b[38;5;241m.\u001b[39mtype \u001b[38;5;241m==\u001b[39m np\u001b[38;5;241m.\u001b[39mvoid:\n\u001b[0;32m--> 281\u001b[0m     references_idx_sorted \u001b[38;5;241m=\u001b[39m np\u001b[38;5;241m.\u001b[39margsort(\u001b[43mscores_for_query\u001b[49m\u001b[43m[\u001b[49m\u001b[43mname\u001b[49m\u001b[43m]\u001b[49m)[::\u001b[38;5;241m-\u001b[39m\u001b[38;5;241m1\u001b[39m]\n\u001b[1;32m    282\u001b[0m \u001b[38;5;28;01melse\u001b[39;00m:\n\u001b[1;32m    283\u001b[0m     references_idx_sorted \u001b[38;5;241m=\u001b[39m np\u001b[38;5;241m.\u001b[39margsort(scores_for_query)[::\u001b[38;5;241m-\u001b[39m\u001b[38;5;241m1\u001b[39m]\n",
      "\u001b[0;31mValueError\u001b[0m: no field of name CosineGreedy_score"
     ]
    }
   ],
   "source": [
    "query = queries[15]  # just an example\n",
    "best_matches = sparse_results.scores_by_query(query, \"CosineGreedy_score\", sort=True)"
   ]
  },
  {
   "cell_type": "code",
   "execution_count": 43,
   "metadata": {},
   "outputs": [
    {
     "data": {
      "text/plain": [
       "<1024x1024x5 stacked sparse array containing scores for ('CudaCosineGreedy_q_idx', 'CudaCosineGreedy_r_idx', 'CudaCosineGreedy_score', 'CudaCosineGreedy_matches', 'CudaCosineGreedy_overflow') with 198 stored elements in COOrdinate format>"
      ]
     },
     "execution_count": 43,
     "metadata": {},
     "output_type": "execute_result"
    }
   ],
   "source": [
    "sparse_results"
   ]
  },
  {
   "cell_type": "markdown",
   "metadata": {},
   "source": [
    "We will run a pairwise cosine similarity on the entirety of the GNPS dataset (around 500_000 spectra).\n",
    "\n",
    "Parsing these many spectra takes a while, so I already have a pickled version of the same dataset ready to go in `ALL_GNPS.pickle`.\n",
    "\n",
    "Alternatively, you can use `ALL_GNPS.mgf` and wait for the parsing to finish."
   ]
  },
  {
   "cell_type": "code",
   "execution_count": 8,
   "metadata": {
    "scrolled": true
   },
   "outputs": [
    {
     "name": "stderr",
     "output_type": "stream",
     "text": [
      " 14%|█▍        | 2028/14244 [00:03<00:06, 1911.97it/s]"
     ]
    },
    {
     "name": "stdout",
     "output_type": "stream",
     "text": [
      "2024-02-29 16:29:22,483:WARNING:matchms:correct_charge:Changed sign of given charge: -1 to match positive ionmode\n",
      "2024-02-29 16:29:22,490:WARNING:matchms:correct_charge:Changed sign of given charge: -1 to match positive ionmode\n",
      "2024-02-29 16:29:22,575:WARNING:matchms:correct_charge:Changed sign of given charge: -1 to match positive ionmode\n"
     ]
    },
    {
     "name": "stderr",
     "output_type": "stream",
     "text": [
      " 25%|██▌       | 3564/14244 [00:03<00:05, 1860.61it/s]"
     ]
    },
    {
     "name": "stdout",
     "output_type": "stream",
     "text": [
      "2024-02-29 16:29:23,333:WARNING:matchms:interpret_unknown_adduct:Charge was found 0 times in adduct [M+Fe-2H]\n",
      "2024-02-29 16:29:23,343:WARNING:matchms:interpret_unknown_adduct:Charge was found 0 times in adduct [M+Fe-2H]\n",
      "2024-02-29 16:29:23,349:WARNING:matchms:interpret_unknown_adduct:Charge was found 0 times in adduct [M+Fe-2H]\n",
      "2024-02-29 16:29:23,359:WARNING:matchms:interpret_unknown_adduct:Charge was found 0 times in adduct [M+Fe-2H]\n",
      "2024-02-29 16:29:23,370:WARNING:matchms:interpret_unknown_adduct:Charge was found 0 times in adduct [M+Fe-2H]\n",
      "2024-02-29 16:29:23,377:WARNING:matchms:interpret_unknown_adduct:Charge was found 0 times in adduct [M+Fe-2H]\n",
      "2024-02-29 16:29:23,387:WARNING:matchms:interpret_unknown_adduct:Charge was found 0 times in adduct [M+Fe-2H]\n",
      "2024-02-29 16:29:23,399:WARNING:matchms:interpret_unknown_adduct:Charge was found 0 times in adduct [M+Fe-2H]\n",
      "2024-02-29 16:29:23,404:WARNING:matchms:interpret_unknown_adduct:Charge was found 0 times in adduct [M+Fe-2H]\n",
      "2024-02-29 16:29:23,408:WARNING:matchms:interpret_unknown_adduct:Charge was found 0 times in adduct [M+Cr-2H]\n",
      "2024-02-29 16:29:23,413:WARNING:matchms:interpret_unknown_adduct:Charge was found 0 times in adduct [M+Al-2H]\n",
      "2024-02-29 16:29:23,414:WARNING:matchms:interpret_unknown_adduct:Charge was found 0 times in adduct [M+Fe-2H]\n",
      "2024-02-29 16:29:23,419:WARNING:matchms:interpret_unknown_adduct:Charge was found 0 times in adduct [M+Al-2H]\n",
      "2024-02-29 16:29:23,424:WARNING:matchms:interpret_unknown_adduct:Charge was found 0 times in adduct [M+Al-2H]\n",
      "2024-02-29 16:29:23,426:WARNING:matchms:interpret_unknown_adduct:Charge was found 0 times in adduct [M+Fe-2H]\n",
      "2024-02-29 16:29:23,439:WARNING:matchms:interpret_unknown_adduct:Charge was found 0 times in adduct [M+Al-2H]\n"
     ]
    },
    {
     "name": "stderr",
     "output_type": "stream",
     "text": [
      " 28%|██▊       | 3948/14244 [00:04<00:05, 1869.48it/s]"
     ]
    },
    {
     "name": "stdout",
     "output_type": "stream",
     "text": [
      "2024-02-29 16:29:23,590:WARNING:matchms:derive_adduct_from_name:Two potential adducts were found in the compound name that are both valid adducts. The first adduct is used. The adducts found are: ['[M+H]+', '[2M+H]+']\n",
      "2024-02-29 16:29:23,742:WARNING:matchms:interpret_unknown_adduct:Charge was found 0 times in adduct [M+Na+]\n"
     ]
    },
    {
     "name": "stderr",
     "output_type": "stream",
     "text": [
      " 33%|███▎      | 4716/14244 [00:04<00:05, 1800.49it/s]"
     ]
    },
    {
     "name": "stdout",
     "output_type": "stream",
     "text": [
      "2024-02-29 16:29:23,869:WARNING:matchms:interpret_unknown_adduct:Charge was found 0 times in adduct [M+H+]\n",
      "2024-02-29 16:29:23,875:WARNING:matchms:interpret_unknown_adduct:Charge was found 0 times in adduct [M+Na+]\n",
      "2024-02-29 16:29:23,990:WARNING:matchms:interpret_unknown_adduct:Charge was found 0 times in adduct [M+H+]\n",
      "2024-02-29 16:29:23,995:WARNING:matchms:interpret_unknown_adduct:Charge was found 0 times in adduct [M+Na+]\n"
     ]
    },
    {
     "name": "stderr",
     "output_type": "stream",
     "text": [
      " 36%|███▌      | 5100/14244 [00:04<00:05, 1814.45it/s]"
     ]
    },
    {
     "name": "stdout",
     "output_type": "stream",
     "text": [
      "2024-02-29 16:29:24,210:WARNING:matchms:interpret_unknown_adduct:Charge was found 0 times in adduct [M+NH4;]\n",
      "2024-02-29 16:29:24,279:WARNING:matchms:interpret_unknown_adduct:Charge was found 0 times in adduct [M+H-CO]\n",
      "2024-02-29 16:29:24,284:WARNING:matchms:interpret_unknown_adduct:Charge was found 0 times in adduct [M-CO+Hputative]\n",
      "2024-02-29 16:29:24,299:WARNING:matchms:interpret_unknown_adduct:Charge was found 0 times in adduct [M-CO+H]\n",
      "2024-02-29 16:29:24,346:WARNING:matchms:interpret_unknown_adduct:Charge was found 0 times in adduct [M-H2\n",
      "2024-02-29 16:29:24,396:WARNING:matchms:interpret_unknown_adduct:Charge was found 0 times in adduct [M-H2+Fe]\n",
      "2024-02-29 16:29:24,406:WARNING:matchms:interpret_unknown_adduct:Charge was found 0 times in adduct [M-H2+Fe]\n"
     ]
    },
    {
     "name": "stderr",
     "output_type": "stream",
     "text": [
      " 39%|███▊      | 5484/14244 [00:04<00:04, 1768.34it/s]"
     ]
    },
    {
     "name": "stdout",
     "output_type": "stream",
     "text": [
      "2024-02-29 16:29:24,416:WARNING:matchms:interpret_unknown_adduct:Charge was found 0 times in adduct [M-H2+Fe]\n",
      "2024-02-29 16:29:24,421:WARNING:matchms:interpret_unknown_adduct:Charge was found 0 times in adduct [M-H2+Fe]\n",
      "2024-02-29 16:29:24,426:WARNING:matchms:interpret_unknown_adduct:Charge was found 0 times in adduct [M-H2+Fe]\n",
      "2024-02-29 16:29:24,431:WARNING:matchms:interpret_unknown_adduct:Charge was found 0 times in adduct [M-H2+Fe]\n",
      "2024-02-29 16:29:24,466:WARNING:matchms:interpret_unknown_adduct:Charge was found 0 times in adduct [M-3H+Fe+Na]\n",
      "2024-02-29 16:29:24,471:WARNING:matchms:interpret_unknown_adduct:Charge was found 0 times in adduct [M-3H+Fe+Na]\n"
     ]
    },
    {
     "name": "stderr",
     "output_type": "stream",
     "text": [
      " 47%|████▋     | 6636/14244 [00:05<00:03, 1948.01it/s]"
     ]
    },
    {
     "name": "stdout",
     "output_type": "stream",
     "text": [
      "2024-02-29 16:29:24,897:WARNING:matchms:correct_charge:Changed sign of given charge: -1 to match positive ionmode\n",
      "2024-02-29 16:29:24,902:WARNING:matchms:correct_charge:Changed sign of given charge: -1 to match positive ionmode\n"
     ]
    },
    {
     "name": "stderr",
     "output_type": "stream",
     "text": [
      " 55%|█████▍    | 7788/14244 [00:06<00:03, 1666.07it/s]"
     ]
    },
    {
     "name": "stdout",
     "output_type": "stream",
     "text": [
      "2024-02-29 16:29:25,497:WARNING:matchms:derive_adduct_from_name:Two potential adducts were found in the compound name that are both valid adducts. The first adduct is used. The adducts found are: ['[M+H]+', '[M+Al]+']\n"
     ]
    },
    {
     "name": "stderr",
     "output_type": "stream",
     "text": [
      " 84%|████████▍ | 12012/14244 [00:08<00:01, 1838.91it/s]"
     ]
    },
    {
     "name": "stdout",
     "output_type": "stream",
     "text": [
      "2024-02-29 16:29:28,101:WARNING:matchms:derive_adduct_from_name:Two potential adducts were found in the compound name that are both valid adducts. The first adduct is used. The adducts found are: ['[M+Na]+', '[M+H]+']\n",
      "2024-02-29 16:29:28,107:WARNING:matchms:derive_adduct_from_name:Two potential adducts were found in the compound name that are both valid adducts. The first adduct is used. The adducts found are: ['[M+Na]+', '[M+H]+']\n",
      "2024-02-29 16:29:28,171:WARNING:matchms:correct_charge:Changed sign of given charge: -1 to match positive ionmode\n",
      "2024-02-29 16:29:28,186:WARNING:matchms:correct_charge:Changed sign of given charge: -1 to match positive ionmode\n",
      "2024-02-29 16:29:28,223:WARNING:matchms:interpret_unknown_adduct:Charge was found 0 times in adduct [M+2H+]\n"
     ]
    },
    {
     "name": "stderr",
     "output_type": "stream",
     "text": [
      " 95%|█████████▌| 13548/14244 [00:09<00:00, 1837.41it/s]"
     ]
    },
    {
     "name": "stdout",
     "output_type": "stream",
     "text": [
      "2024-02-29 16:29:29,002:WARNING:matchms:correct_charge:Changed sign of given charge: -1 to match positive ionmode\n"
     ]
    },
    {
     "name": "stderr",
     "output_type": "stream",
     "text": [
      "100%|██████████| 14244/14244 [00:09<00:00, 1463.88it/s]\n"
     ]
    }
   ],
   "source": [
    "from simms.utils import download\n",
    "from pathlib import Path\n",
    "from joblib import Parallel, delayed\n",
    "from matchms.filtering import default_filters, normalize_intensities, reduce_to_number_of_peaks\n",
    "from matchms.importing import load_from_mgf\n",
    "import pickle\n",
    "\n",
    "spectra_file = download('ALL_GNPS.mgf')\n",
    "def parse_spectrum(spectrum):\n",
    "    ## Uncomment if you want default filters enabled - add more if you need them.\n",
    "    # spectrum = default_filters(spectrum)\n",
    "    spectrum = reduce_to_number_of_peaks(spectrum, n_max=max_peaks)\n",
    "    # spectrum = normalize_intensities(spectrum)\n",
    "    return spectrum\n",
    "\n",
    "limit = 200_000\n",
    "spectrums = tuple(s for _, s in zip(range(limit), load_from_mgf(spectra_file)))\n",
    "spectrums = Parallel(-1)(delayed(parse_spectrum)(spec) for spec in tqdm(spectrums))\n",
    "spectrums = [spe for spe in spectrums if spe is not None]\n",
    "## Download and read prepared pickle\n",
    "# spectra_file = download('ALL_GNPS.pickle')\n",
    "# spectrums = tuple(pickle.load(open(spectra_file, 'rb')))"
   ]
  },
  {
   "cell_type": "code",
   "execution_count": 50,
   "metadata": {},
   "outputs": [
    {
     "name": "stdout",
     "output_type": "stream",
     "text": [
      "We have 2.000e+05 spectra\n",
      "Pairwise comparisons have 1.000e+10 pairs in total\n"
     ]
    }
   ],
   "source": [
    "# Pairwise similarity between all\n",
    "references, queries = spectrums[:100_000], spectrums[100_000:]\n",
    "\n",
    "print(f\"We have {len(references) + len(queries):.3e} spectra\")\n",
    "print(f\"Pairwise comparisons have {len(references)*len(queries):.3e} pairs in total\")"
   ]
  },
  {
   "cell_type": "code",
   "execution_count": 51,
   "metadata": {},
   "outputs": [
    {
     "name": "stderr",
     "output_type": "stream",
     "text": [
      "Batch all references: 13it [00:01,  6.88it/s]                        \n",
      "Batch all queries: 13it [00:02,  5.27it/s]                        \n"
     ]
    }
   ],
   "source": [
    "from simms.utils import spectra_peaks_to_tensor\n",
    "from itertools import product\n",
    "dtype = np.float32\n",
    "padding = None\n",
    "\n",
    "batches_r = []\n",
    "for bstart, bend in tqdm(\n",
    "    argbatch(references, batch_size), desc=\"Batch all references\",\n",
    "    total=len(references)//batch_size\n",
    "):\n",
    "    rbatch = references[bstart:bend]\n",
    "    rspec, rlen = spectra_peaks_to_tensor(rbatch, dtype=dtype)\n",
    "    batches_r.append([rspec, rlen, bstart, bend])\n",
    "\n",
    "batches_q = []\n",
    "for bstart, bend in tqdm(\n",
    "    argbatch(queries, batch_size), desc=\"Batch all queries\",\n",
    "    total=len(queries)//batch_size\n",
    "):\n",
    "    qbatch = queries[bstart:bend]\n",
    "    qspec, qlen = spectra_peaks_to_tensor(qbatch, dtype=dtype)\n",
    "    batches_q.append([qspec, qlen, bstart, bend])\n",
    "    \n",
    "batched_inputs = tuple(product(batches_r, batches_q))"
   ]
  },
  {
   "cell_type": "code",
   "execution_count": 52,
   "metadata": {},
   "outputs": [
    {
     "name": "stderr",
     "output_type": "stream",
     "text": [
      "  1%|          | 1/169 [00:01<02:54,  1.04s/it]"
     ]
    },
    {
     "name": "stdout",
     "output_type": "stream",
     "text": [
      "tensor(0.0006, device='cuda:0') tensor(0.0033)\n"
     ]
    },
    {
     "name": "stderr",
     "output_type": "stream",
     "text": [
      "  1%|          | 2/169 [00:01<01:52,  1.48it/s]"
     ]
    },
    {
     "name": "stdout",
     "output_type": "stream",
     "text": [
      "tensor(0.0006, device='cuda:0') tensor(0.0038)\n"
     ]
    },
    {
     "name": "stderr",
     "output_type": "stream",
     "text": [
      "  2%|▏         | 3/169 [00:02<01:56,  1.43it/s]"
     ]
    },
    {
     "name": "stdout",
     "output_type": "stream",
     "text": [
      "tensor(0.0005, device='cuda:0') tensor(0.0034)\n"
     ]
    },
    {
     "name": "stderr",
     "output_type": "stream",
     "text": [
      "  2%|▏         | 4/169 [00:03<03:11,  1.16s/it]"
     ]
    },
    {
     "name": "stdout",
     "output_type": "stream",
     "text": [
      "tensor(0.0005, device='cuda:0') tensor(0.0087)\n"
     ]
    },
    {
     "name": "stderr",
     "output_type": "stream",
     "text": [
      "  3%|▎         | 5/169 [00:04<03:26,  1.26s/it]"
     ]
    },
    {
     "name": "stdout",
     "output_type": "stream",
     "text": [
      "tensor(0.0003, device='cuda:0') tensor(0.0046)\n"
     ]
    },
    {
     "name": "stderr",
     "output_type": "stream",
     "text": [
      "  4%|▎         | 6/169 [00:06<03:31,  1.30s/it]"
     ]
    },
    {
     "name": "stdout",
     "output_type": "stream",
     "text": [
      "tensor(0.0003, device='cuda:0') tensor(0.0045)\n"
     ]
    },
    {
     "name": "stderr",
     "output_type": "stream",
     "text": [
      "  4%|▍         | 7/169 [00:07<03:26,  1.27s/it]"
     ]
    },
    {
     "name": "stdout",
     "output_type": "stream",
     "text": [
      "tensor(0.0004, device='cuda:0') tensor(0.0097)\n"
     ]
    },
    {
     "name": "stderr",
     "output_type": "stream",
     "text": [
      "  5%|▍         | 8/169 [00:08<03:31,  1.31s/it]"
     ]
    },
    {
     "name": "stdout",
     "output_type": "stream",
     "text": [
      "tensor(0.0005, device='cuda:0') tensor(0.0072)\n"
     ]
    },
    {
     "name": "stderr",
     "output_type": "stream",
     "text": [
      "  5%|▌         | 9/169 [00:10<03:49,  1.44s/it]"
     ]
    },
    {
     "name": "stdout",
     "output_type": "stream",
     "text": [
      "tensor(0.0004, device='cuda:0') tensor(0.0066)\n"
     ]
    },
    {
     "name": "stderr",
     "output_type": "stream",
     "text": [
      "  6%|▌         | 10/169 [00:11<03:52,  1.46s/it]"
     ]
    },
    {
     "name": "stdout",
     "output_type": "stream",
     "text": [
      "tensor(0.0007, device='cuda:0') tensor(0.0108)\n"
     ]
    },
    {
     "name": "stderr",
     "output_type": "stream",
     "text": [
      "  7%|▋         | 11/169 [00:13<03:50,  1.46s/it]"
     ]
    },
    {
     "name": "stdout",
     "output_type": "stream",
     "text": [
      "tensor(0.0007, device='cuda:0') tensor(0.0109)\n"
     ]
    },
    {
     "name": "stderr",
     "output_type": "stream",
     "text": [
      "  7%|▋         | 12/169 [00:14<03:27,  1.32s/it]"
     ]
    },
    {
     "name": "stdout",
     "output_type": "stream",
     "text": [
      "tensor(0.0007, device='cuda:0') tensor(0.0102)\n"
     ]
    },
    {
     "name": "stderr",
     "output_type": "stream",
     "text": [
      "  8%|▊         | 13/169 [00:14<00:41,  3.76it/s]"
     ]
    },
    {
     "name": "stdout",
     "output_type": "stream",
     "text": [
      "tensor(0.0001, device='cuda:0') tensor(0.0019)\n"
     ]
    },
    {
     "name": "stderr",
     "output_type": "stream",
     "text": [
      "  8%|▊         | 14/169 [00:15<01:31,  1.70it/s]"
     ]
    },
    {
     "name": "stdout",
     "output_type": "stream",
     "text": [
      "tensor(0.0008, device='cuda:0') tensor(0.0054)\n"
     ]
    },
    {
     "name": "stderr",
     "output_type": "stream",
     "text": [
      "  9%|▉         | 15/169 [00:15<01:49,  1.41it/s]"
     ]
    },
    {
     "name": "stdout",
     "output_type": "stream",
     "text": [
      "tensor(0.0008, device='cuda:0') tensor(0.0067)\n"
     ]
    },
    {
     "name": "stderr",
     "output_type": "stream",
     "text": [
      "  9%|▉         | 16/169 [00:16<01:49,  1.39it/s]"
     ]
    },
    {
     "name": "stdout",
     "output_type": "stream",
     "text": [
      "tensor(0.0009, device='cuda:0') tensor(0.0074)\n"
     ]
    },
    {
     "name": "stderr",
     "output_type": "stream",
     "text": [
      " 10%|█         | 17/169 [00:17<03:01,  1.19s/it]"
     ]
    },
    {
     "name": "stdout",
     "output_type": "stream",
     "text": [
      "tensor(0.0013, device='cuda:0') tensor(0.0210)\n"
     ]
    },
    {
     "name": "stderr",
     "output_type": "stream",
     "text": [
      " 11%|█         | 18/169 [00:19<03:05,  1.23s/it]"
     ]
    },
    {
     "name": "stdout",
     "output_type": "stream",
     "text": [
      "tensor(0.0003, device='cuda:0') tensor(0.0045)\n"
     ]
    },
    {
     "name": "stderr",
     "output_type": "stream",
     "text": [
      " 11%|█         | 19/169 [00:20<03:14,  1.29s/it]"
     ]
    },
    {
     "name": "stdout",
     "output_type": "stream",
     "text": [
      "tensor(0.0003, device='cuda:0') tensor(0.0047)\n"
     ]
    },
    {
     "name": "stderr",
     "output_type": "stream",
     "text": [
      " 12%|█▏        | 20/169 [00:21<03:08,  1.26s/it]"
     ]
    },
    {
     "name": "stdout",
     "output_type": "stream",
     "text": [
      "tensor(0.0005, device='cuda:0') tensor(0.0076)\n"
     ]
    },
    {
     "name": "stderr",
     "output_type": "stream",
     "text": [
      " 12%|█▏        | 21/169 [00:22<03:11,  1.29s/it]"
     ]
    },
    {
     "name": "stdout",
     "output_type": "stream",
     "text": [
      "tensor(0.0007, device='cuda:0') tensor(0.0107)\n"
     ]
    },
    {
     "name": "stderr",
     "output_type": "stream",
     "text": [
      " 13%|█▎        | 22/169 [00:24<03:13,  1.31s/it]"
     ]
    },
    {
     "name": "stdout",
     "output_type": "stream",
     "text": [
      "tensor(0.0006, device='cuda:0') tensor(0.0100)\n"
     ]
    },
    {
     "name": "stderr",
     "output_type": "stream",
     "text": [
      " 14%|█▎        | 23/169 [00:25<03:30,  1.45s/it]"
     ]
    },
    {
     "name": "stdout",
     "output_type": "stream",
     "text": [
      "tensor(0.0010, device='cuda:0') tensor(0.0173)\n"
     ]
    },
    {
     "name": "stderr",
     "output_type": "stream",
     "text": [
      " 14%|█▍        | 24/169 [00:27<03:29,  1.45s/it]"
     ]
    },
    {
     "name": "stdout",
     "output_type": "stream",
     "text": [
      "tensor(0.0008, device='cuda:0') tensor(0.0135)\n"
     ]
    },
    {
     "name": "stderr",
     "output_type": "stream",
     "text": [
      " 15%|█▍        | 25/169 [00:28<03:06,  1.30s/it]"
     ]
    },
    {
     "name": "stdout",
     "output_type": "stream",
     "text": [
      "tensor(0.0006, device='cuda:0') tensor(0.0081)\n"
     ]
    },
    {
     "name": "stderr",
     "output_type": "stream",
     "text": [
      " 15%|█▌        | 26/169 [00:28<00:39,  3.58it/s]"
     ]
    },
    {
     "name": "stdout",
     "output_type": "stream",
     "text": [
      "tensor(0.0002, device='cuda:0') tensor(0.0025)\n"
     ]
    },
    {
     "name": "stderr",
     "output_type": "stream",
     "text": [
      " 16%|█▌        | 27/169 [00:29<02:52,  1.22s/it]"
     ]
    },
    {
     "name": "stdout",
     "output_type": "stream",
     "text": [
      "tensor(0.0009, device='cuda:0') tensor(0.0097)\n"
     ]
    },
    {
     "name": "stderr",
     "output_type": "stream",
     "text": [
      " 17%|█▋        | 28/169 [00:31<03:20,  1.42s/it]"
     ]
    },
    {
     "name": "stdout",
     "output_type": "stream",
     "text": [
      "tensor(0.0009, device='cuda:0') tensor(0.0121)\n"
     ]
    },
    {
     "name": "stderr",
     "output_type": "stream",
     "text": [
      " 17%|█▋        | 29/169 [00:32<03:21,  1.44s/it]"
     ]
    },
    {
     "name": "stdout",
     "output_type": "stream",
     "text": [
      "tensor(0.0007, device='cuda:0') tensor(0.0109)\n"
     ]
    },
    {
     "name": "stderr",
     "output_type": "stream",
     "text": [
      " 18%|█▊        | 30/169 [00:34<04:34,  1.98s/it]"
     ]
    },
    {
     "name": "stdout",
     "output_type": "stream",
     "text": [
      "tensor(0.0004, device='cuda:0') tensor(0.0075)\n"
     ]
    },
    {
     "name": "stderr",
     "output_type": "stream",
     "text": [
      " 18%|█▊        | 31/169 [00:36<04:53,  2.13s/it]"
     ]
    },
    {
     "name": "stdout",
     "output_type": "stream",
     "text": [
      "tensor(0.0003, device='cuda:0') tensor(0.0057)\n"
     ]
    },
    {
     "name": "stderr",
     "output_type": "stream",
     "text": [
      " 19%|█▉        | 32/169 [00:39<04:59,  2.19s/it]"
     ]
    },
    {
     "name": "stdout",
     "output_type": "stream",
     "text": [
      "tensor(0.0003, device='cuda:0') tensor(0.0081)\n"
     ]
    },
    {
     "name": "stderr",
     "output_type": "stream",
     "text": [
      " 20%|█▉        | 33/169 [00:41<04:55,  2.17s/it]"
     ]
    },
    {
     "name": "stdout",
     "output_type": "stream",
     "text": [
      "tensor(0.0005, device='cuda:0') tensor(0.0112)\n"
     ]
    },
    {
     "name": "stderr",
     "output_type": "stream",
     "text": [
      " 20%|██        | 34/169 [00:43<04:52,  2.17s/it]"
     ]
    },
    {
     "name": "stdout",
     "output_type": "stream",
     "text": [
      "tensor(0.0006, device='cuda:0') tensor(0.0156)\n"
     ]
    },
    {
     "name": "stderr",
     "output_type": "stream",
     "text": [
      " 21%|██        | 35/169 [00:45<04:54,  2.20s/it]"
     ]
    },
    {
     "name": "stdout",
     "output_type": "stream",
     "text": [
      "tensor(0.0006, device='cuda:0') tensor(0.0156)\n"
     ]
    },
    {
     "name": "stderr",
     "output_type": "stream",
     "text": [
      " 21%|██▏       | 36/169 [00:48<05:18,  2.40s/it]"
     ]
    },
    {
     "name": "stdout",
     "output_type": "stream",
     "text": [
      "tensor(0.0016, device='cuda:0') tensor(0.0420)\n"
     ]
    },
    {
     "name": "stderr",
     "output_type": "stream",
     "text": [
      " 22%|██▏       | 37/169 [00:50<05:14,  2.39s/it]"
     ]
    },
    {
     "name": "stdout",
     "output_type": "stream",
     "text": [
      "tensor(0.0011, device='cuda:0') tensor(0.0310)\n"
     ]
    },
    {
     "name": "stderr",
     "output_type": "stream",
     "text": [
      " 22%|██▏       | 38/169 [00:52<04:41,  2.15s/it]"
     ]
    },
    {
     "name": "stdout",
     "output_type": "stream",
     "text": [
      "tensor(0.0003, device='cuda:0') tensor(0.0064)\n"
     ]
    },
    {
     "name": "stderr",
     "output_type": "stream",
     "text": [
      " 23%|██▎       | 39/169 [00:53<00:59,  2.19it/s]"
     ]
    },
    {
     "name": "stdout",
     "output_type": "stream",
     "text": [
      "tensor(0.0002, device='cuda:0') tensor(0.0045)\n"
     ]
    },
    {
     "name": "stderr",
     "output_type": "stream",
     "text": [
      " 24%|██▎       | 40/169 [00:53<01:30,  1.42it/s]"
     ]
    },
    {
     "name": "stdout",
     "output_type": "stream",
     "text": [
      "tensor(0.0009, device='cuda:0') tensor(0.0052)\n"
     ]
    },
    {
     "name": "stderr",
     "output_type": "stream",
     "text": [
      " 24%|██▍       | 41/169 [00:54<01:46,  1.21it/s]"
     ]
    },
    {
     "name": "stdout",
     "output_type": "stream",
     "text": [
      "tensor(0.0009, device='cuda:0') tensor(0.0067)\n"
     ]
    },
    {
     "name": "stderr",
     "output_type": "stream",
     "text": [
      " 25%|██▍       | 42/169 [00:55<01:46,  1.20it/s]"
     ]
    },
    {
     "name": "stdout",
     "output_type": "stream",
     "text": [
      "tensor(0.0008, device='cuda:0') tensor(0.0062)\n"
     ]
    },
    {
     "name": "stderr",
     "output_type": "stream",
     "text": [
      " 25%|██▌       | 43/169 [00:56<02:39,  1.27s/it]"
     ]
    },
    {
     "name": "stdout",
     "output_type": "stream",
     "text": [
      "tensor(0.0006, device='cuda:0') tensor(0.0084)\n"
     ]
    },
    {
     "name": "stderr",
     "output_type": "stream",
     "text": [
      " 26%|██▌       | 44/169 [00:58<02:49,  1.35s/it]"
     ]
    },
    {
     "name": "stdout",
     "output_type": "stream",
     "text": [
      "tensor(0.0003, device='cuda:0') tensor(0.0046)\n"
     ]
    },
    {
     "name": "stderr",
     "output_type": "stream",
     "text": [
      " 27%|██▋       | 45/169 [00:59<02:52,  1.39s/it]"
     ]
    },
    {
     "name": "stdout",
     "output_type": "stream",
     "text": [
      "tensor(0.0003, device='cuda:0') tensor(0.0051)\n"
     ]
    },
    {
     "name": "stderr",
     "output_type": "stream",
     "text": [
      " 27%|██▋       | 46/169 [01:00<02:50,  1.38s/it]"
     ]
    },
    {
     "name": "stdout",
     "output_type": "stream",
     "text": [
      "tensor(0.0005, device='cuda:0') tensor(0.0081)\n"
     ]
    },
    {
     "name": "stderr",
     "output_type": "stream",
     "text": [
      " 28%|██▊       | 47/169 [01:02<02:49,  1.39s/it]"
     ]
    },
    {
     "name": "stdout",
     "output_type": "stream",
     "text": [
      "tensor(0.0006, device='cuda:0') tensor(0.0084)\n"
     ]
    },
    {
     "name": "stderr",
     "output_type": "stream",
     "text": [
      " 28%|██▊       | 48/169 [01:03<02:53,  1.43s/it]"
     ]
    },
    {
     "name": "stdout",
     "output_type": "stream",
     "text": [
      "tensor(0.0005, device='cuda:0') tensor(0.0065)\n"
     ]
    },
    {
     "name": "stderr",
     "output_type": "stream",
     "text": [
      " 29%|██▉       | 49/169 [01:05<03:06,  1.56s/it]"
     ]
    },
    {
     "name": "stdout",
     "output_type": "stream",
     "text": [
      "tensor(0.0011, device='cuda:0') tensor(0.0171)\n"
     ]
    },
    {
     "name": "stderr",
     "output_type": "stream",
     "text": [
      " 30%|██▉       | 50/169 [01:06<03:04,  1.55s/it]"
     ]
    },
    {
     "name": "stdout",
     "output_type": "stream",
     "text": [
      "tensor(0.0009, device='cuda:0') tensor(0.0140)\n"
     ]
    },
    {
     "name": "stderr",
     "output_type": "stream",
     "text": [
      " 30%|███       | 51/169 [01:08<02:44,  1.39s/it]"
     ]
    },
    {
     "name": "stdout",
     "output_type": "stream",
     "text": [
      "tensor(0.0006, device='cuda:0') tensor(0.0086)\n"
     ]
    },
    {
     "name": "stderr",
     "output_type": "stream",
     "text": [
      " 31%|███       | 52/169 [01:08<00:35,  3.31it/s]"
     ]
    },
    {
     "name": "stdout",
     "output_type": "stream",
     "text": [
      "tensor(0.0002, device='cuda:0') tensor(0.0027)\n"
     ]
    },
    {
     "name": "stderr",
     "output_type": "stream",
     "text": [
      " 31%|███▏      | 53/169 [01:08<00:57,  2.01it/s]"
     ]
    },
    {
     "name": "stdout",
     "output_type": "stream",
     "text": [
      "tensor(0.0008, device='cuda:0') tensor(0.0052)\n"
     ]
    },
    {
     "name": "stderr",
     "output_type": "stream",
     "text": [
      " 32%|███▏      | 54/169 [01:09<01:10,  1.63it/s]"
     ]
    },
    {
     "name": "stdout",
     "output_type": "stream",
     "text": [
      "tensor(0.0008, device='cuda:0') tensor(0.0068)\n"
     ]
    },
    {
     "name": "stderr",
     "output_type": "stream",
     "text": [
      " 33%|███▎      | 55/169 [01:10<01:10,  1.61it/s]"
     ]
    },
    {
     "name": "stdout",
     "output_type": "stream",
     "text": [
      "tensor(0.0009, device='cuda:0') tensor(0.0069)\n"
     ]
    },
    {
     "name": "stderr",
     "output_type": "stream",
     "text": [
      " 33%|███▎      | 56/169 [01:11<02:00,  1.07s/it]"
     ]
    },
    {
     "name": "stdout",
     "output_type": "stream",
     "text": [
      "tensor(0.0023, device='cuda:0') tensor(0.0371)\n"
     ]
    },
    {
     "name": "stderr",
     "output_type": "stream",
     "text": [
      " 34%|███▎      | 57/169 [01:12<02:07,  1.14s/it]"
     ]
    },
    {
     "name": "stdout",
     "output_type": "stream",
     "text": [
      "tensor(0.0019, device='cuda:0') tensor(0.0372)\n"
     ]
    },
    {
     "name": "stderr",
     "output_type": "stream",
     "text": [
      " 34%|███▍      | 58/169 [01:13<02:06,  1.14s/it]"
     ]
    },
    {
     "name": "stdout",
     "output_type": "stream",
     "text": [
      "tensor(0.0009, device='cuda:0') tensor(0.0205)\n"
     ]
    },
    {
     "name": "stderr",
     "output_type": "stream",
     "text": [
      " 35%|███▍      | 59/169 [01:14<02:05,  1.14s/it]"
     ]
    },
    {
     "name": "stdout",
     "output_type": "stream",
     "text": [
      "tensor(0.0013, device='cuda:0') tensor(0.0378)\n"
     ]
    },
    {
     "name": "stderr",
     "output_type": "stream",
     "text": [
      " 36%|███▌      | 60/169 [01:15<02:02,  1.13s/it]"
     ]
    },
    {
     "name": "stdout",
     "output_type": "stream",
     "text": [
      "tensor(0.0013, device='cuda:0') tensor(0.0264)\n"
     ]
    },
    {
     "name": "stderr",
     "output_type": "stream",
     "text": [
      " 36%|███▌      | 61/169 [01:16<01:59,  1.11s/it]"
     ]
    },
    {
     "name": "stdout",
     "output_type": "stream",
     "text": [
      "tensor(0.0013, device='cuda:0') tensor(0.0185)\n"
     ]
    },
    {
     "name": "stderr",
     "output_type": "stream",
     "text": [
      " 37%|███▋      | 62/169 [01:18<02:16,  1.27s/it]"
     ]
    },
    {
     "name": "stdout",
     "output_type": "stream",
     "text": [
      "tensor(0.0015, device='cuda:0') tensor(0.0266)\n"
     ]
    },
    {
     "name": "stderr",
     "output_type": "stream",
     "text": [
      " 37%|███▋      | 63/169 [01:19<02:17,  1.29s/it]"
     ]
    },
    {
     "name": "stdout",
     "output_type": "stream",
     "text": [
      "tensor(0.0021, device='cuda:0') tensor(0.0359)\n",
      "tensor(0.0074, device='cuda:0') tensor(0.0928)\n"
     ]
    },
    {
     "name": "stderr",
     "output_type": "stream",
     "text": [
      " 38%|███▊      | 65/169 [01:21<00:27,  3.73it/s]"
     ]
    },
    {
     "name": "stdout",
     "output_type": "stream",
     "text": [
      "tensor(0.0007, device='cuda:0') tensor(0.0135)\n"
     ]
    },
    {
     "name": "stderr",
     "output_type": "stream",
     "text": [
      " 39%|███▉      | 66/169 [01:21<01:15,  1.36it/s]"
     ]
    },
    {
     "name": "stdout",
     "output_type": "stream",
     "text": [
      "tensor(0.0003, device='cuda:0') tensor(0.0018)\n"
     ]
    },
    {
     "name": "stderr",
     "output_type": "stream",
     "text": [
      " 40%|███▉      | 67/169 [01:22<01:28,  1.16it/s]"
     ]
    },
    {
     "name": "stdout",
     "output_type": "stream",
     "text": [
      "tensor(0.0003, device='cuda:0') tensor(0.0015)\n"
     ]
    },
    {
     "name": "stderr",
     "output_type": "stream",
     "text": [
      " 40%|████      | 68/169 [01:23<01:29,  1.13it/s]"
     ]
    },
    {
     "name": "stdout",
     "output_type": "stream",
     "text": [
      "tensor(0.0003, device='cuda:0') tensor(0.0017)\n"
     ]
    },
    {
     "name": "stderr",
     "output_type": "stream",
     "text": [
      " 41%|████      | 69/169 [01:25<02:38,  1.59s/it]"
     ]
    },
    {
     "name": "stdout",
     "output_type": "stream",
     "text": [
      "tensor(0.0045, device='cuda:0') tensor(0.0633)\n"
     ]
    },
    {
     "name": "stderr",
     "output_type": "stream",
     "text": [
      " 41%|████▏     | 70/169 [01:26<02:50,  1.72s/it]"
     ]
    },
    {
     "name": "stdout",
     "output_type": "stream",
     "text": [
      "tensor(0.0039, device='cuda:0') tensor(0.0290)\n"
     ]
    },
    {
     "name": "stderr",
     "output_type": "stream",
     "text": [
      " 42%|████▏     | 71/169 [01:28<02:44,  1.68s/it]"
     ]
    },
    {
     "name": "stdout",
     "output_type": "stream",
     "text": [
      "tensor(0.0008, device='cuda:0') tensor(0.0153)\n"
     ]
    },
    {
     "name": "stderr",
     "output_type": "stream",
     "text": [
      " 43%|████▎     | 72/169 [01:30<02:35,  1.60s/it]"
     ]
    },
    {
     "name": "stdout",
     "output_type": "stream",
     "text": [
      "tensor(0.0004, device='cuda:0') tensor(0.0096)\n"
     ]
    },
    {
     "name": "stderr",
     "output_type": "stream",
     "text": [
      " 43%|████▎     | 73/169 [01:31<02:35,  1.62s/it]"
     ]
    },
    {
     "name": "stdout",
     "output_type": "stream",
     "text": [
      "tensor(0.0004, device='cuda:0') tensor(0.0078)\n"
     ]
    },
    {
     "name": "stderr",
     "output_type": "stream",
     "text": [
      " 44%|████▍     | 74/169 [01:33<02:52,  1.82s/it]"
     ]
    },
    {
     "name": "stdout",
     "output_type": "stream",
     "text": [
      "tensor(0.0021, device='cuda:0') tensor(0.0192)\n"
     ]
    },
    {
     "name": "stderr",
     "output_type": "stream",
     "text": [
      " 44%|████▍     | 75/169 [01:35<02:44,  1.75s/it]"
     ]
    },
    {
     "name": "stdout",
     "output_type": "stream",
     "text": [
      "tensor(0.0003, device='cuda:0') tensor(0.0059)\n"
     ]
    },
    {
     "name": "stderr",
     "output_type": "stream",
     "text": [
      " 45%|████▍     | 76/169 [01:37<02:54,  1.88s/it]"
     ]
    },
    {
     "name": "stdout",
     "output_type": "stream",
     "text": [
      "tensor(0.0045, device='cuda:0') tensor(0.0372)\n",
      "tensor(0.0286, device='cuda:0') tensor(0.1823)\n"
     ]
    },
    {
     "name": "stderr",
     "output_type": "stream",
     "text": [
      " 46%|████▌     | 78/169 [01:39<00:33,  2.76it/s]"
     ]
    },
    {
     "name": "stdout",
     "output_type": "stream",
     "text": [
      "tensor(0.0012, device='cuda:0') tensor(0.0059)\n"
     ]
    },
    {
     "name": "stderr",
     "output_type": "stream",
     "text": [
      " 47%|████▋     | 79/169 [01:40<00:33,  2.66it/s]"
     ]
    },
    {
     "name": "stdout",
     "output_type": "stream",
     "text": [
      "tensor(0.0005, device='cuda:0') tensor(0.0011)\n"
     ]
    },
    {
     "name": "stderr",
     "output_type": "stream",
     "text": [
      " 47%|████▋     | 80/169 [01:40<00:39,  2.25it/s]"
     ]
    },
    {
     "name": "stdout",
     "output_type": "stream",
     "text": [
      "tensor(0.0006, device='cuda:0') tensor(0.0011)\n"
     ]
    },
    {
     "name": "stderr",
     "output_type": "stream",
     "text": [
      " 48%|████▊     | 81/169 [01:41<00:41,  2.14it/s]"
     ]
    },
    {
     "name": "stdout",
     "output_type": "stream",
     "text": [
      "tensor(0.0004, device='cuda:0') tensor(0.0009)\n",
      "tensor(0.0097, device='cuda:0') tensor(0.0892)\n"
     ]
    },
    {
     "name": "stderr",
     "output_type": "stream",
     "text": [
      " 49%|████▊     | 82/169 [01:42<01:56,  1.34s/it]"
     ]
    },
    {
     "name": "stdout",
     "output_type": "stream",
     "text": [
      "tensor(0.0101, device='cuda:0') tensor(0.0481)\n"
     ]
    },
    {
     "name": "stderr",
     "output_type": "stream",
     "text": [
      " 50%|████▉     | 84/169 [01:45<01:48,  1.28s/it]"
     ]
    },
    {
     "name": "stdout",
     "output_type": "stream",
     "text": [
      "tensor(0.0016, device='cuda:0') tensor(0.0171)\n"
     ]
    },
    {
     "name": "stderr",
     "output_type": "stream",
     "text": [
      " 50%|█████     | 85/169 [01:46<01:34,  1.13s/it]"
     ]
    },
    {
     "name": "stdout",
     "output_type": "stream",
     "text": [
      "tensor(0.0003, device='cuda:0') tensor(0.0039)\n"
     ]
    },
    {
     "name": "stderr",
     "output_type": "stream",
     "text": [
      " 51%|█████     | 86/169 [01:47<01:39,  1.20s/it]"
     ]
    },
    {
     "name": "stdout",
     "output_type": "stream",
     "text": [
      "tensor(0.0004, device='cuda:0') tensor(0.0034)\n"
     ]
    },
    {
     "name": "stderr",
     "output_type": "stream",
     "text": [
      " 51%|█████▏    | 87/169 [01:49<02:09,  1.58s/it]"
     ]
    },
    {
     "name": "stdout",
     "output_type": "stream",
     "text": [
      "tensor(0.0053, device='cuda:0') tensor(0.0360)\n"
     ]
    },
    {
     "name": "stderr",
     "output_type": "stream",
     "text": [
      " 52%|█████▏    | 88/169 [01:50<01:45,  1.31s/it]"
     ]
    },
    {
     "name": "stdout",
     "output_type": "stream",
     "text": [
      "tensor(0.0002, device='cuda:0') tensor(0.0026)\n",
      "tensor(0.0120, device='cuda:0') tensor(0.0909)\n"
     ]
    },
    {
     "name": "stderr",
     "output_type": "stream",
     "text": [
      " 53%|█████▎    | 89/169 [01:52<02:12,  1.66s/it]"
     ]
    },
    {
     "name": "stdout",
     "output_type": "stream",
     "text": [
      "tensor(0.0797, device='cuda:0') tensor(0.4846)\n"
     ]
    },
    {
     "name": "stderr",
     "output_type": "stream",
     "text": [
      " 54%|█████▍    | 91/169 [01:56<00:27,  2.84it/s]"
     ]
    },
    {
     "name": "stdout",
     "output_type": "stream",
     "text": [
      "tensor(0.0034, device='cuda:0') tensor(0.0145)\n"
     ]
    },
    {
     "name": "stderr",
     "output_type": "stream",
     "text": [
      " 54%|█████▍    | 92/169 [01:56<00:25,  2.96it/s]"
     ]
    },
    {
     "name": "stdout",
     "output_type": "stream",
     "text": [
      "tensor(0.0007, device='cuda:0') tensor(0.0015)\n"
     ]
    },
    {
     "name": "stderr",
     "output_type": "stream",
     "text": [
      " 55%|█████▌    | 93/169 [01:56<00:30,  2.49it/s]"
     ]
    },
    {
     "name": "stdout",
     "output_type": "stream",
     "text": [
      "tensor(0.0007, device='cuda:0') tensor(0.0014)\n"
     ]
    },
    {
     "name": "stderr",
     "output_type": "stream",
     "text": [
      " 56%|█████▌    | 94/169 [01:57<00:31,  2.38it/s]"
     ]
    },
    {
     "name": "stdout",
     "output_type": "stream",
     "text": [
      "tensor(0.0005, device='cuda:0') tensor(0.0011)\n",
      "tensor(0.0119, device='cuda:0') tensor(0.1043)\n"
     ]
    },
    {
     "name": "stderr",
     "output_type": "stream",
     "text": [
      " 56%|█████▌    | 95/169 [01:58<01:34,  1.28s/it]"
     ]
    },
    {
     "name": "stdout",
     "output_type": "stream",
     "text": [
      "tensor(0.0125, device='cuda:0') tensor(0.0584)\n"
     ]
    },
    {
     "name": "stderr",
     "output_type": "stream",
     "text": [
      " 57%|█████▋    | 97/169 [02:01<01:20,  1.12s/it]"
     ]
    },
    {
     "name": "stdout",
     "output_type": "stream",
     "text": [
      "tensor(0.0018, device='cuda:0') tensor(0.0167)\n"
     ]
    },
    {
     "name": "stderr",
     "output_type": "stream",
     "text": [
      " 58%|█████▊    | 98/169 [02:02<01:10,  1.00it/s]"
     ]
    },
    {
     "name": "stdout",
     "output_type": "stream",
     "text": [
      "tensor(0.0004, device='cuda:0') tensor(0.0047)\n"
     ]
    },
    {
     "name": "stderr",
     "output_type": "stream",
     "text": [
      " 59%|█████▊    | 99/169 [02:03<01:15,  1.08s/it]"
     ]
    },
    {
     "name": "stdout",
     "output_type": "stream",
     "text": [
      "tensor(0.0005, device='cuda:0') tensor(0.0036)\n"
     ]
    },
    {
     "name": "stderr",
     "output_type": "stream",
     "text": [
      " 59%|█████▉    | 100/169 [02:04<01:41,  1.47s/it]"
     ]
    },
    {
     "name": "stdout",
     "output_type": "stream",
     "text": [
      "tensor(0.0065, device='cuda:0') tensor(0.0434)\n"
     ]
    },
    {
     "name": "stderr",
     "output_type": "stream",
     "text": [
      " 60%|█████▉    | 101/169 [02:05<01:19,  1.17s/it]"
     ]
    },
    {
     "name": "stdout",
     "output_type": "stream",
     "text": [
      "tensor(0.0003, device='cuda:0') tensor(0.0040)\n",
      "tensor(0.0149, device='cuda:0') tensor(0.1079)\n"
     ]
    },
    {
     "name": "stderr",
     "output_type": "stream",
     "text": [
      " 60%|██████    | 102/169 [02:07<01:47,  1.60s/it]"
     ]
    },
    {
     "name": "stdout",
     "output_type": "stream",
     "text": [
      "tensor(0.0986, device='cuda:0') tensor(0.5895)\n"
     ]
    },
    {
     "name": "stderr",
     "output_type": "stream",
     "text": [
      " 62%|██████▏   | 104/169 [02:11<00:22,  2.87it/s]"
     ]
    },
    {
     "name": "stdout",
     "output_type": "stream",
     "text": [
      "tensor(0.0042, device='cuda:0') tensor(0.0178)\n"
     ]
    },
    {
     "name": "stderr",
     "output_type": "stream",
     "text": [
      " 62%|██████▏   | 105/169 [02:12<00:20,  3.17it/s]"
     ]
    },
    {
     "name": "stdout",
     "output_type": "stream",
     "text": [
      "tensor(0.0006, device='cuda:0') tensor(0.0014)\n"
     ]
    },
    {
     "name": "stderr",
     "output_type": "stream",
     "text": [
      " 63%|██████▎   | 106/169 [02:12<00:23,  2.66it/s]"
     ]
    },
    {
     "name": "stdout",
     "output_type": "stream",
     "text": [
      "tensor(0.0007, device='cuda:0') tensor(0.0013)\n"
     ]
    },
    {
     "name": "stderr",
     "output_type": "stream",
     "text": [
      " 63%|██████▎   | 107/169 [02:12<00:24,  2.54it/s]"
     ]
    },
    {
     "name": "stdout",
     "output_type": "stream",
     "text": [
      "tensor(0.0005, device='cuda:0') tensor(0.0010)\n",
      "tensor(0.0119, device='cuda:0') tensor(0.0986)\n"
     ]
    },
    {
     "name": "stderr",
     "output_type": "stream",
     "text": [
      " 64%|██████▍   | 108/169 [02:14<01:14,  1.22s/it]"
     ]
    },
    {
     "name": "stdout",
     "output_type": "stream",
     "text": [
      "tensor(0.0124, device='cuda:0') tensor(0.0562)\n"
     ]
    },
    {
     "name": "stderr",
     "output_type": "stream",
     "text": [
      " 65%|██████▌   | 110/169 [02:16<01:02,  1.07s/it]"
     ]
    },
    {
     "name": "stdout",
     "output_type": "stream",
     "text": [
      "tensor(0.0018, device='cuda:0') tensor(0.0171)\n"
     ]
    },
    {
     "name": "stderr",
     "output_type": "stream",
     "text": [
      " 66%|██████▌   | 111/169 [02:17<00:54,  1.06it/s]"
     ]
    },
    {
     "name": "stdout",
     "output_type": "stream",
     "text": [
      "tensor(0.0005, device='cuda:0') tensor(0.0063)\n"
     ]
    },
    {
     "name": "stderr",
     "output_type": "stream",
     "text": [
      " 66%|██████▋   | 112/169 [02:18<00:58,  1.02s/it]"
     ]
    },
    {
     "name": "stdout",
     "output_type": "stream",
     "text": [
      "tensor(0.0005, device='cuda:0') tensor(0.0037)\n"
     ]
    },
    {
     "name": "stderr",
     "output_type": "stream",
     "text": [
      " 67%|██████▋   | 113/169 [02:19<01:18,  1.40s/it]"
     ]
    },
    {
     "name": "stdout",
     "output_type": "stream",
     "text": [
      "tensor(0.0065, device='cuda:0') tensor(0.0416)\n"
     ]
    },
    {
     "name": "stderr",
     "output_type": "stream",
     "text": [
      " 67%|██████▋   | 114/169 [02:20<01:01,  1.12s/it]"
     ]
    },
    {
     "name": "stdout",
     "output_type": "stream",
     "text": [
      "tensor(0.0005, device='cuda:0') tensor(0.0063)\n",
      "tensor(0.0148, device='cuda:0') tensor(0.1012)\n"
     ]
    },
    {
     "name": "stderr",
     "output_type": "stream",
     "text": [
      " 68%|██████▊   | 115/169 [02:22<01:22,  1.53s/it]"
     ]
    },
    {
     "name": "stdout",
     "output_type": "stream",
     "text": [
      "tensor(0.0978, device='cuda:0') tensor(0.5581)\n"
     ]
    },
    {
     "name": "stderr",
     "output_type": "stream",
     "text": [
      " 69%|██████▉   | 117/169 [02:26<00:17,  2.93it/s]"
     ]
    },
    {
     "name": "stdout",
     "output_type": "stream",
     "text": [
      "tensor(0.0041, device='cuda:0') tensor(0.0170)\n"
     ]
    },
    {
     "name": "stderr",
     "output_type": "stream",
     "text": [
      " 70%|██████▉   | 118/169 [02:26<00:12,  3.99it/s]"
     ]
    },
    {
     "name": "stdout",
     "output_type": "stream",
     "text": [
      "tensor(0.0003, device='cuda:0') tensor(0.0007)\n"
     ]
    },
    {
     "name": "stderr",
     "output_type": "stream",
     "text": [
      " 70%|███████   | 119/169 [02:27<00:15,  3.33it/s]"
     ]
    },
    {
     "name": "stdout",
     "output_type": "stream",
     "text": [
      "tensor(0.0003, device='cuda:0') tensor(0.0006)\n"
     ]
    },
    {
     "name": "stderr",
     "output_type": "stream",
     "text": [
      " 71%|███████   | 120/169 [02:27<00:15,  3.14it/s]"
     ]
    },
    {
     "name": "stdout",
     "output_type": "stream",
     "text": [
      "tensor(0.0002, device='cuda:0') tensor(0.0004)\n"
     ]
    },
    {
     "name": "stderr",
     "output_type": "stream",
     "text": [
      " 72%|███████▏  | 121/169 [02:28<00:41,  1.16it/s]"
     ]
    },
    {
     "name": "stdout",
     "output_type": "stream",
     "text": [
      "tensor(0.0042, device='cuda:0') tensor(0.0348)\n"
     ]
    },
    {
     "name": "stderr",
     "output_type": "stream",
     "text": [
      " 72%|███████▏  | 122/169 [02:29<00:43,  1.09it/s]"
     ]
    },
    {
     "name": "stdout",
     "output_type": "stream",
     "text": [
      "tensor(0.0041, device='cuda:0') tensor(0.0190)\n"
     ]
    },
    {
     "name": "stderr",
     "output_type": "stream",
     "text": [
      " 73%|███████▎  | 123/169 [02:30<00:40,  1.14it/s]"
     ]
    },
    {
     "name": "stdout",
     "output_type": "stream",
     "text": [
      "tensor(0.0010, device='cuda:0') tensor(0.0062)\n"
     ]
    },
    {
     "name": "stderr",
     "output_type": "stream",
     "text": [
      " 73%|███████▎  | 124/169 [02:31<00:36,  1.24it/s]"
     ]
    },
    {
     "name": "stdout",
     "output_type": "stream",
     "text": [
      "tensor(0.0004, device='cuda:0') tensor(0.0039)\n"
     ]
    },
    {
     "name": "stderr",
     "output_type": "stream",
     "text": [
      " 74%|███████▍  | 125/169 [02:31<00:39,  1.11it/s]"
     ]
    },
    {
     "name": "stdout",
     "output_type": "stream",
     "text": [
      "tensor(0.0004, device='cuda:0') tensor(0.0035)\n"
     ]
    },
    {
     "name": "stderr",
     "output_type": "stream",
     "text": [
      " 75%|███████▍  | 126/169 [02:33<00:51,  1.20s/it]"
     ]
    },
    {
     "name": "stdout",
     "output_type": "stream",
     "text": [
      "tensor(0.0031, device='cuda:0') tensor(0.0252)\n"
     ]
    },
    {
     "name": "stderr",
     "output_type": "stream",
     "text": [
      " 75%|███████▌  | 127/169 [02:34<00:41,  1.02it/s]"
     ]
    },
    {
     "name": "stdout",
     "output_type": "stream",
     "text": [
      "tensor(0.0005, device='cuda:0') tensor(0.0061)\n"
     ]
    },
    {
     "name": "stderr",
     "output_type": "stream",
     "text": [
      " 76%|███████▌  | 128/169 [02:35<00:45,  1.11s/it]"
     ]
    },
    {
     "name": "stdout",
     "output_type": "stream",
     "text": [
      "tensor(0.0049, device='cuda:0') tensor(0.0326)\n",
      "tensor(0.0316, device='cuda:0') tensor(0.1844)\n"
     ]
    },
    {
     "name": "stderr",
     "output_type": "stream",
     "text": [
      " 77%|███████▋  | 130/169 [02:37<00:08,  4.72it/s]"
     ]
    },
    {
     "name": "stdout",
     "output_type": "stream",
     "text": [
      "tensor(0.0013, device='cuda:0') tensor(0.0055)\n"
     ]
    },
    {
     "name": "stderr",
     "output_type": "stream",
     "text": [
      " 78%|███████▊  | 131/169 [02:37<00:08,  4.29it/s]"
     ]
    },
    {
     "name": "stdout",
     "output_type": "stream",
     "text": [
      "tensor(0.0001, device='cuda:0') tensor(0.0004)\n"
     ]
    },
    {
     "name": "stderr",
     "output_type": "stream",
     "text": [
      " 78%|███████▊  | 132/169 [02:37<00:10,  3.62it/s]"
     ]
    },
    {
     "name": "stdout",
     "output_type": "stream",
     "text": [
      "tensor(0.0001, device='cuda:0') tensor(0.0004)\n"
     ]
    },
    {
     "name": "stderr",
     "output_type": "stream",
     "text": [
      " 79%|███████▊  | 133/169 [02:38<00:10,  3.36it/s]"
     ]
    },
    {
     "name": "stdout",
     "output_type": "stream",
     "text": [
      "tensor(6.3419e-05, device='cuda:0') tensor(0.0001)\n"
     ]
    },
    {
     "name": "stderr",
     "output_type": "stream",
     "text": [
      " 79%|███████▉  | 134/169 [02:38<00:24,  1.41it/s]"
     ]
    },
    {
     "name": "stdout",
     "output_type": "stream",
     "text": [
      "tensor(0.0003, device='cuda:0') tensor(0.0025)\n"
     ]
    },
    {
     "name": "stderr",
     "output_type": "stream",
     "text": [
      " 80%|███████▉  | 135/169 [02:39<00:27,  1.26it/s]"
     ]
    },
    {
     "name": "stdout",
     "output_type": "stream",
     "text": [
      "tensor(0.0004, device='cuda:0') tensor(0.0020)\n"
     ]
    },
    {
     "name": "stderr",
     "output_type": "stream",
     "text": [
      " 80%|████████  | 136/169 [02:40<00:27,  1.20it/s]"
     ]
    },
    {
     "name": "stdout",
     "output_type": "stream",
     "text": [
      "tensor(0.0005, device='cuda:0') tensor(0.0024)\n"
     ]
    },
    {
     "name": "stderr",
     "output_type": "stream",
     "text": [
      " 81%|████████  | 137/169 [02:41<00:24,  1.31it/s]"
     ]
    },
    {
     "name": "stdout",
     "output_type": "stream",
     "text": [
      "tensor(0.0002, device='cuda:0') tensor(0.0010)\n"
     ]
    },
    {
     "name": "stderr",
     "output_type": "stream",
     "text": [
      " 82%|████████▏ | 138/169 [02:42<00:27,  1.14it/s]"
     ]
    },
    {
     "name": "stdout",
     "output_type": "stream",
     "text": [
      "tensor(0.0003, device='cuda:0') tensor(0.0038)\n"
     ]
    },
    {
     "name": "stderr",
     "output_type": "stream",
     "text": [
      " 82%|████████▏ | 139/169 [02:43<00:35,  1.17s/it]"
     ]
    },
    {
     "name": "stdout",
     "output_type": "stream",
     "text": [
      "tensor(0.0013, device='cuda:0') tensor(0.0163)\n"
     ]
    },
    {
     "name": "stderr",
     "output_type": "stream",
     "text": [
      " 83%|████████▎ | 140/169 [02:44<00:27,  1.06it/s]"
     ]
    },
    {
     "name": "stdout",
     "output_type": "stream",
     "text": [
      "tensor(0.0002, device='cuda:0') tensor(0.0023)\n"
     ]
    },
    {
     "name": "stderr",
     "output_type": "stream",
     "text": [
      " 83%|████████▎ | 141/169 [02:45<00:26,  1.06it/s]"
     ]
    },
    {
     "name": "stdout",
     "output_type": "stream",
     "text": [
      "tensor(0.0002, device='cuda:0') tensor(0.0019)\n"
     ]
    },
    {
     "name": "stderr",
     "output_type": "stream",
     "text": [
      " 85%|████████▍ | 143/169 [02:46<00:04,  6.10it/s]"
     ]
    },
    {
     "name": "stdout",
     "output_type": "stream",
     "text": [
      "tensor(0.0008, device='cuda:0') tensor(0.0068)\n",
      "tensor(6.1274e-05, device='cuda:0') tensor(0.0003)\n"
     ]
    },
    {
     "name": "stderr",
     "output_type": "stream",
     "text": [
      " 85%|████████▌ | 144/169 [02:46<00:08,  3.08it/s]"
     ]
    },
    {
     "name": "stdout",
     "output_type": "stream",
     "text": [
      "tensor(0.0007, device='cuda:0') tensor(0.0022)\n"
     ]
    },
    {
     "name": "stderr",
     "output_type": "stream",
     "text": [
      " 86%|████████▌ | 145/169 [02:46<00:09,  2.60it/s]"
     ]
    },
    {
     "name": "stdout",
     "output_type": "stream",
     "text": [
      "tensor(0.0008, device='cuda:0') tensor(0.0030)\n"
     ]
    },
    {
     "name": "stderr",
     "output_type": "stream",
     "text": [
      " 86%|████████▋ | 146/169 [02:47<00:09,  2.52it/s]"
     ]
    },
    {
     "name": "stdout",
     "output_type": "stream",
     "text": [
      "tensor(0.0007, device='cuda:0') tensor(0.0029)\n"
     ]
    },
    {
     "name": "stderr",
     "output_type": "stream",
     "text": [
      " 87%|████████▋ | 147/169 [02:47<00:16,  1.35it/s]"
     ]
    },
    {
     "name": "stdout",
     "output_type": "stream",
     "text": [
      "tensor(0.0009, device='cuda:0') tensor(0.0090)\n"
     ]
    },
    {
     "name": "stderr",
     "output_type": "stream",
     "text": [
      " 88%|████████▊ | 148/169 [02:48<00:16,  1.28it/s]"
     ]
    },
    {
     "name": "stdout",
     "output_type": "stream",
     "text": [
      "tensor(0.0004, device='cuda:0') tensor(0.0048)\n"
     ]
    },
    {
     "name": "stderr",
     "output_type": "stream",
     "text": [
      " 88%|████████▊ | 149/169 [02:49<00:16,  1.22it/s]"
     ]
    },
    {
     "name": "stdout",
     "output_type": "stream",
     "text": [
      "tensor(0.0005, device='cuda:0') tensor(0.0043)\n"
     ]
    },
    {
     "name": "stderr",
     "output_type": "stream",
     "text": [
      " 89%|████████▉ | 150/169 [02:50<00:14,  1.27it/s]"
     ]
    },
    {
     "name": "stdout",
     "output_type": "stream",
     "text": [
      "tensor(0.0005, device='cuda:0') tensor(0.0038)\n"
     ]
    },
    {
     "name": "stderr",
     "output_type": "stream",
     "text": [
      " 89%|████████▉ | 151/169 [02:51<00:15,  1.19it/s]"
     ]
    },
    {
     "name": "stdout",
     "output_type": "stream",
     "text": [
      "tensor(0.0006, device='cuda:0') tensor(0.0046)\n"
     ]
    },
    {
     "name": "stderr",
     "output_type": "stream",
     "text": [
      " 90%|████████▉ | 152/169 [02:52<00:15,  1.08it/s]"
     ]
    },
    {
     "name": "stdout",
     "output_type": "stream",
     "text": [
      "tensor(0.0009, device='cuda:0') tensor(0.0083)\n"
     ]
    },
    {
     "name": "stderr",
     "output_type": "stream",
     "text": [
      " 91%|█████████ | 153/169 [02:53<00:14,  1.07it/s]"
     ]
    },
    {
     "name": "stdout",
     "output_type": "stream",
     "text": [
      "tensor(0.0009, device='cuda:0') tensor(0.0066)\n"
     ]
    },
    {
     "name": "stderr",
     "output_type": "stream",
     "text": [
      " 91%|█████████ | 154/169 [02:54<00:14,  1.07it/s]"
     ]
    },
    {
     "name": "stdout",
     "output_type": "stream",
     "text": [
      "tensor(0.0009, device='cuda:0') tensor(0.0071)\n"
     ]
    },
    {
     "name": "stderr",
     "output_type": "stream",
     "text": [
      " 92%|█████████▏| 155/169 [02:54<00:11,  1.18it/s]"
     ]
    },
    {
     "name": "stdout",
     "output_type": "stream",
     "text": [
      "tensor(0.0012, device='cuda:0') tensor(0.0131)\n"
     ]
    },
    {
     "name": "stderr",
     "output_type": "stream",
     "text": [
      " 93%|█████████▎| 158/169 [02:55<00:00, 13.09it/s]"
     ]
    },
    {
     "name": "stdout",
     "output_type": "stream",
     "text": [
      "tensor(0.0002, device='cuda:0') tensor(0.0015)\n",
      "tensor(0.0002, device='cuda:0') tensor(0.0008)\n",
      "tensor(0.0002, device='cuda:0') tensor(0.0009)\n"
     ]
    },
    {
     "name": "stderr",
     "output_type": "stream",
     "text": [
      " 95%|█████████▍| 160/169 [02:55<00:00,  9.61it/s]"
     ]
    },
    {
     "name": "stdout",
     "output_type": "stream",
     "text": [
      "tensor(0.0003, device='cuda:0') tensor(0.0012)\n",
      "tensor(0.0003, device='cuda:0') tensor(0.0018)\n"
     ]
    },
    {
     "name": "stderr",
     "output_type": "stream",
     "text": [
      " 96%|█████████▌| 162/169 [02:55<00:00,  7.90it/s]"
     ]
    },
    {
     "name": "stdout",
     "output_type": "stream",
     "text": [
      "tensor(6.4760e-05, device='cuda:0') tensor(0.0007)\n",
      "tensor(7.0766e-05, device='cuda:0') tensor(0.0004)\n"
     ]
    },
    {
     "name": "stderr",
     "output_type": "stream",
     "text": [
      " 97%|█████████▋| 164/169 [02:55<00:00,  7.94it/s]"
     ]
    },
    {
     "name": "stdout",
     "output_type": "stream",
     "text": [
      "tensor(0.0001, device='cuda:0') tensor(0.0007)\n",
      "tensor(0.0001, device='cuda:0') tensor(0.0007)\n"
     ]
    },
    {
     "name": "stderr",
     "output_type": "stream",
     "text": [
      " 98%|█████████▊| 166/169 [02:56<00:00,  6.97it/s]"
     ]
    },
    {
     "name": "stdout",
     "output_type": "stream",
     "text": [
      "tensor(0.0001, device='cuda:0') tensor(0.0006)\n",
      "tensor(0.0002, device='cuda:0') tensor(0.0008)\n"
     ]
    },
    {
     "name": "stderr",
     "output_type": "stream",
     "text": [
      "100%|██████████| 169/169 [02:56<00:00,  1.04s/it]"
     ]
    },
    {
     "name": "stdout",
     "output_type": "stream",
     "text": [
      "tensor(0.0002, device='cuda:0') tensor(0.0007)\n",
      "tensor(0.0002, device='cuda:0') tensor(0.0008)\n",
      "tensor(3.8624e-05, device='cuda:0') tensor(0.0002)\n"
     ]
    },
    {
     "name": "stderr",
     "output_type": "stream",
     "text": [
      "\n"
     ]
    }
   ],
   "source": [
    "device = torch.device('cuda')\n",
    "host = torch.device('cpu')\n",
    "\n",
    "! rm -rf data/output\n",
    "! mkdir -p data/output\n",
    "\n",
    "with torch.no_grad():\n",
    "    for batch_i in tqdm(range(len(batched_inputs)), smoothing=1):\n",
    "        (rspec, rlen, rstart, rend), (qspec, qlen, qstart, qend) = batched_inputs[\n",
    "            batch_i\n",
    "        ]\n",
    "        \n",
    "        lens = torch.zeros(2, batch_size, dtype=torch.int32)\n",
    "        lens[0, :len(rlen)] = torch.from_numpy(rlen)\n",
    "        lens[1, :len(qlen)] = torch.from_numpy(qlen)\n",
    "        \n",
    "        lens = lens.to(device)\n",
    "        \n",
    "        rspec = torch.from_numpy(rspec).to(device)\n",
    "        qspec = torch.from_numpy(qspec).to(device)\n",
    "    \n",
    "        rspec = cuda.as_cuda_array(rspec)\n",
    "        qspec = cuda.as_cuda_array(qspec)\n",
    "        lens = cuda.as_cuda_array(lens)\n",
    "            \n",
    "        out = torch.empty(3, batch_size, batch_size, dtype=torch.float32, device=device)\n",
    "        out = cuda.as_cuda_array(out)\n",
    "        \n",
    "        kernel(rspec, qspec, lens, out)\n",
    "        \n",
    "        out = torch.as_tensor(out, device=device)\n",
    "        mask = out[0] >= threshold\n",
    "        \n",
    "        row, col = torch.nonzero(mask, as_tuple=True)\n",
    "        rabs = rstart + row\n",
    "        qabs = qstart + col\n",
    "        score, matches, overflow = out[:, mask].to(host)\n",
    "        \n",
    "        np.savez_compressed(\n",
    "            f'data/output/{rstart}-{rend}-{qstart}-{qend}.npz', \n",
    "            rabs=rabs.int().to(host), \n",
    "            qabs=qabs.int().to(host), \n",
    "            score=score.float(),\n",
    "            matches=matches.int(),\n",
    "            overflow=overflow.bool()\n",
    "        )"
   ]
  },
  {
   "cell_type": "code",
   "execution_count": 53,
   "metadata": {},
   "outputs": [
    {
     "name": "stdout",
     "output_type": "stream",
     "text": [
      "159M\tdata/output/\n"
     ]
    }
   ],
   "source": [
    "! du -hs data/output/"
   ]
  },
  {
   "cell_type": "code",
   "execution_count": 54,
   "metadata": {},
   "outputs": [
    {
     "name": "stdout",
     "output_type": "stream",
     "text": [
      "159M\tdata/output/\n",
      "Total file size 0.166 GB\n"
     ]
    }
   ],
   "source": [
    "from pathlib import Path\n",
    "\n",
    "! du -hs data/output/\n",
    "\n",
    "total_size = sum(f.stat().st_size for f in Path('data/output').glob('**/*') if f.is_file())\n",
    "print(f'Total file size {total_size/1e9:.3f} GB')"
   ]
  },
  {
   "cell_type": "code",
   "execution_count": 55,
   "metadata": {},
   "outputs": [
    {
     "name": "stderr",
     "output_type": "stream",
     "text": [
      "169it [00:01, 93.24it/s] \n"
     ]
    }
   ],
   "source": [
    "qabs = []\n",
    "rabs = []\n",
    "score = []\n",
    "matches = []\n",
    "overflow = []\n",
    "for file in tqdm(Path('data/output').glob('*.npz')):\n",
    "    bunch = np.load(file)\n",
    "    qabs += [bunch['qabs']]\n",
    "    rabs += [bunch['rabs']]\n",
    "    score += [bunch['score']]\n",
    "    matches += [bunch['matches']]\n",
    "    overflow += [bunch['overflow']]"
   ]
  },
  {
   "cell_type": "code",
   "execution_count": 56,
   "metadata": {},
   "outputs": [],
   "source": [
    "qabs = np.concatenate(qabs)\n",
    "rabs = np.concatenate(rabs)\n",
    "score = np.concatenate(score)\n",
    "matches = np.concatenate(matches)\n",
    "overflow = np.concatenate(overflow)"
   ]
  },
  {
   "cell_type": "code",
   "execution_count": 57,
   "metadata": {},
   "outputs": [],
   "source": [
    "# Suppose we want to query these absolute query IDs, and sort their results\n",
    "query = np.array([1, 42, 121, 99_999])"
   ]
  },
  {
   "cell_type": "code",
   "execution_count": 58,
   "metadata": {},
   "outputs": [
    {
     "name": "stdout",
     "output_type": "stream",
     "text": [
      "Similarity for chemical with QueryID=1\n"
     ]
    },
    {
     "data": {
      "text/html": [
       "<div>\n",
       "<style scoped>\n",
       "    .dataframe tbody tr th:only-of-type {\n",
       "        vertical-align: middle;\n",
       "    }\n",
       "\n",
       "    .dataframe tbody tr th {\n",
       "        vertical-align: top;\n",
       "    }\n",
       "\n",
       "    .dataframe thead th {\n",
       "        text-align: right;\n",
       "    }\n",
       "</style>\n",
       "<table border=\"1\" class=\"dataframe\">\n",
       "  <thead>\n",
       "    <tr style=\"text-align: right;\">\n",
       "      <th></th>\n",
       "      <th>ReferenceID</th>\n",
       "      <th>Score</th>\n",
       "      <th>Matches</th>\n",
       "      <th>Overflow</th>\n",
       "    </tr>\n",
       "  </thead>\n",
       "  <tbody>\n",
       "    <tr>\n",
       "      <th>0</th>\n",
       "      <td>1071.0</td>\n",
       "      <td>0.774170</td>\n",
       "      <td>12.0</td>\n",
       "      <td>0.0</td>\n",
       "    </tr>\n",
       "    <tr>\n",
       "      <th>1</th>\n",
       "      <td>1671.0</td>\n",
       "      <td>0.793073</td>\n",
       "      <td>3.0</td>\n",
       "      <td>0.0</td>\n",
       "    </tr>\n",
       "    <tr>\n",
       "      <th>2</th>\n",
       "      <td>4898.0</td>\n",
       "      <td>0.770358</td>\n",
       "      <td>1.0</td>\n",
       "      <td>0.0</td>\n",
       "    </tr>\n",
       "    <tr>\n",
       "      <th>3</th>\n",
       "      <td>4900.0</td>\n",
       "      <td>0.788730</td>\n",
       "      <td>1.0</td>\n",
       "      <td>0.0</td>\n",
       "    </tr>\n",
       "    <tr>\n",
       "      <th>4</th>\n",
       "      <td>5200.0</td>\n",
       "      <td>0.784787</td>\n",
       "      <td>2.0</td>\n",
       "      <td>0.0</td>\n",
       "    </tr>\n",
       "    <tr>\n",
       "      <th>...</th>\n",
       "      <td>...</td>\n",
       "      <td>...</td>\n",
       "      <td>...</td>\n",
       "      <td>...</td>\n",
       "    </tr>\n",
       "    <tr>\n",
       "      <th>11727</th>\n",
       "      <td>98233.0</td>\n",
       "      <td>0.756576</td>\n",
       "      <td>1.0</td>\n",
       "      <td>0.0</td>\n",
       "    </tr>\n",
       "    <tr>\n",
       "      <th>11728</th>\n",
       "      <td>98238.0</td>\n",
       "      <td>0.786356</td>\n",
       "      <td>1.0</td>\n",
       "      <td>0.0</td>\n",
       "    </tr>\n",
       "    <tr>\n",
       "      <th>11729</th>\n",
       "      <td>98567.0</td>\n",
       "      <td>0.754935</td>\n",
       "      <td>1.0</td>\n",
       "      <td>0.0</td>\n",
       "    </tr>\n",
       "    <tr>\n",
       "      <th>11730</th>\n",
       "      <td>98569.0</td>\n",
       "      <td>0.790264</td>\n",
       "      <td>1.0</td>\n",
       "      <td>0.0</td>\n",
       "    </tr>\n",
       "    <tr>\n",
       "      <th>11731</th>\n",
       "      <td>99593.0</td>\n",
       "      <td>0.763605</td>\n",
       "      <td>1.0</td>\n",
       "      <td>0.0</td>\n",
       "    </tr>\n",
       "  </tbody>\n",
       "</table>\n",
       "<p>11732 rows × 4 columns</p>\n",
       "</div>"
      ],
      "text/plain": [
       "       ReferenceID     Score  Matches  Overflow\n",
       "0           1071.0  0.774170     12.0       0.0\n",
       "1           1671.0  0.793073      3.0       0.0\n",
       "2           4898.0  0.770358      1.0       0.0\n",
       "3           4900.0  0.788730      1.0       0.0\n",
       "4           5200.0  0.784787      2.0       0.0\n",
       "...            ...       ...      ...       ...\n",
       "11727      98233.0  0.756576      1.0       0.0\n",
       "11728      98238.0  0.786356      1.0       0.0\n",
       "11729      98567.0  0.754935      1.0       0.0\n",
       "11730      98569.0  0.790264      1.0       0.0\n",
       "11731      99593.0  0.763605      1.0       0.0\n",
       "\n",
       "[11732 rows x 4 columns]"
      ]
     },
     "metadata": {},
     "output_type": "display_data"
    },
    {
     "name": "stdout",
     "output_type": "stream",
     "text": [
      "Similarity for chemical with QueryID=42\n"
     ]
    },
    {
     "data": {
      "text/html": [
       "<div>\n",
       "<style scoped>\n",
       "    .dataframe tbody tr th:only-of-type {\n",
       "        vertical-align: middle;\n",
       "    }\n",
       "\n",
       "    .dataframe tbody tr th {\n",
       "        vertical-align: top;\n",
       "    }\n",
       "\n",
       "    .dataframe thead th {\n",
       "        text-align: right;\n",
       "    }\n",
       "</style>\n",
       "<table border=\"1\" class=\"dataframe\">\n",
       "  <thead>\n",
       "    <tr style=\"text-align: right;\">\n",
       "      <th></th>\n",
       "      <th>ReferenceID</th>\n",
       "      <th>Score</th>\n",
       "      <th>Matches</th>\n",
       "      <th>Overflow</th>\n",
       "    </tr>\n",
       "  </thead>\n",
       "  <tbody>\n",
       "    <tr>\n",
       "      <th>0</th>\n",
       "      <td>1524.0</td>\n",
       "      <td>0.975595</td>\n",
       "      <td>1.0</td>\n",
       "      <td>0.0</td>\n",
       "    </tr>\n",
       "    <tr>\n",
       "      <th>1</th>\n",
       "      <td>2112.0</td>\n",
       "      <td>0.977732</td>\n",
       "      <td>1.0</td>\n",
       "      <td>0.0</td>\n",
       "    </tr>\n",
       "    <tr>\n",
       "      <th>2</th>\n",
       "      <td>3188.0</td>\n",
       "      <td>0.954756</td>\n",
       "      <td>2.0</td>\n",
       "      <td>0.0</td>\n",
       "    </tr>\n",
       "    <tr>\n",
       "      <th>3</th>\n",
       "      <td>3531.0</td>\n",
       "      <td>0.829793</td>\n",
       "      <td>22.0</td>\n",
       "      <td>0.0</td>\n",
       "    </tr>\n",
       "    <tr>\n",
       "      <th>4</th>\n",
       "      <td>3534.0</td>\n",
       "      <td>0.950818</td>\n",
       "      <td>14.0</td>\n",
       "      <td>0.0</td>\n",
       "    </tr>\n",
       "    <tr>\n",
       "      <th>...</th>\n",
       "      <td>...</td>\n",
       "      <td>...</td>\n",
       "      <td>...</td>\n",
       "      <td>...</td>\n",
       "    </tr>\n",
       "    <tr>\n",
       "      <th>120</th>\n",
       "      <td>92470.0</td>\n",
       "      <td>0.951438</td>\n",
       "      <td>4.0</td>\n",
       "      <td>0.0</td>\n",
       "    </tr>\n",
       "    <tr>\n",
       "      <th>121</th>\n",
       "      <td>92518.0</td>\n",
       "      <td>0.979738</td>\n",
       "      <td>2.0</td>\n",
       "      <td>0.0</td>\n",
       "    </tr>\n",
       "    <tr>\n",
       "      <th>122</th>\n",
       "      <td>92706.0</td>\n",
       "      <td>0.916761</td>\n",
       "      <td>1.0</td>\n",
       "      <td>0.0</td>\n",
       "    </tr>\n",
       "    <tr>\n",
       "      <th>123</th>\n",
       "      <td>96856.0</td>\n",
       "      <td>0.973249</td>\n",
       "      <td>1.0</td>\n",
       "      <td>0.0</td>\n",
       "    </tr>\n",
       "    <tr>\n",
       "      <th>124</th>\n",
       "      <td>98358.0</td>\n",
       "      <td>0.806484</td>\n",
       "      <td>3.0</td>\n",
       "      <td>0.0</td>\n",
       "    </tr>\n",
       "  </tbody>\n",
       "</table>\n",
       "<p>125 rows × 4 columns</p>\n",
       "</div>"
      ],
      "text/plain": [
       "     ReferenceID     Score  Matches  Overflow\n",
       "0         1524.0  0.975595      1.0       0.0\n",
       "1         2112.0  0.977732      1.0       0.0\n",
       "2         3188.0  0.954756      2.0       0.0\n",
       "3         3531.0  0.829793     22.0       0.0\n",
       "4         3534.0  0.950818     14.0       0.0\n",
       "..           ...       ...      ...       ...\n",
       "120      92470.0  0.951438      4.0       0.0\n",
       "121      92518.0  0.979738      2.0       0.0\n",
       "122      92706.0  0.916761      1.0       0.0\n",
       "123      96856.0  0.973249      1.0       0.0\n",
       "124      98358.0  0.806484      3.0       0.0\n",
       "\n",
       "[125 rows x 4 columns]"
      ]
     },
     "metadata": {},
     "output_type": "display_data"
    },
    {
     "name": "stdout",
     "output_type": "stream",
     "text": [
      "Similarity for chemical with QueryID=121\n"
     ]
    },
    {
     "data": {
      "text/html": [
       "<div>\n",
       "<style scoped>\n",
       "    .dataframe tbody tr th:only-of-type {\n",
       "        vertical-align: middle;\n",
       "    }\n",
       "\n",
       "    .dataframe tbody tr th {\n",
       "        vertical-align: top;\n",
       "    }\n",
       "\n",
       "    .dataframe thead th {\n",
       "        text-align: right;\n",
       "    }\n",
       "</style>\n",
       "<table border=\"1\" class=\"dataframe\">\n",
       "  <thead>\n",
       "    <tr style=\"text-align: right;\">\n",
       "      <th></th>\n",
       "      <th>ReferenceID</th>\n",
       "      <th>Score</th>\n",
       "      <th>Matches</th>\n",
       "      <th>Overflow</th>\n",
       "    </tr>\n",
       "  </thead>\n",
       "  <tbody>\n",
       "    <tr>\n",
       "      <th>0</th>\n",
       "      <td>2306.0</td>\n",
       "      <td>0.859755</td>\n",
       "      <td>17.0</td>\n",
       "      <td>0.0</td>\n",
       "    </tr>\n",
       "    <tr>\n",
       "      <th>1</th>\n",
       "      <td>35221.0</td>\n",
       "      <td>0.796745</td>\n",
       "      <td>2.0</td>\n",
       "      <td>0.0</td>\n",
       "    </tr>\n",
       "    <tr>\n",
       "      <th>2</th>\n",
       "      <td>38910.0</td>\n",
       "      <td>0.834682</td>\n",
       "      <td>1.0</td>\n",
       "      <td>0.0</td>\n",
       "    </tr>\n",
       "    <tr>\n",
       "      <th>3</th>\n",
       "      <td>60718.0</td>\n",
       "      <td>0.895202</td>\n",
       "      <td>5.0</td>\n",
       "      <td>0.0</td>\n",
       "    </tr>\n",
       "    <tr>\n",
       "      <th>4</th>\n",
       "      <td>74810.0</td>\n",
       "      <td>0.943186</td>\n",
       "      <td>3.0</td>\n",
       "      <td>0.0</td>\n",
       "    </tr>\n",
       "    <tr>\n",
       "      <th>5</th>\n",
       "      <td>93089.0</td>\n",
       "      <td>0.975652</td>\n",
       "      <td>14.0</td>\n",
       "      <td>0.0</td>\n",
       "    </tr>\n",
       "  </tbody>\n",
       "</table>\n",
       "</div>"
      ],
      "text/plain": [
       "   ReferenceID     Score  Matches  Overflow\n",
       "0       2306.0  0.859755     17.0       0.0\n",
       "1      35221.0  0.796745      2.0       0.0\n",
       "2      38910.0  0.834682      1.0       0.0\n",
       "3      60718.0  0.895202      5.0       0.0\n",
       "4      74810.0  0.943186      3.0       0.0\n",
       "5      93089.0  0.975652     14.0       0.0"
      ]
     },
     "metadata": {},
     "output_type": "display_data"
    },
    {
     "name": "stdout",
     "output_type": "stream",
     "text": [
      "Similarity for chemical with QueryID=99999\n"
     ]
    },
    {
     "data": {
      "text/html": [
       "<div>\n",
       "<style scoped>\n",
       "    .dataframe tbody tr th:only-of-type {\n",
       "        vertical-align: middle;\n",
       "    }\n",
       "\n",
       "    .dataframe tbody tr th {\n",
       "        vertical-align: top;\n",
       "    }\n",
       "\n",
       "    .dataframe thead th {\n",
       "        text-align: right;\n",
       "    }\n",
       "</style>\n",
       "<table border=\"1\" class=\"dataframe\">\n",
       "  <thead>\n",
       "    <tr style=\"text-align: right;\">\n",
       "      <th></th>\n",
       "      <th>ReferenceID</th>\n",
       "      <th>Score</th>\n",
       "      <th>Matches</th>\n",
       "      <th>Overflow</th>\n",
       "    </tr>\n",
       "  </thead>\n",
       "  <tbody>\n",
       "    <tr>\n",
       "      <th>0</th>\n",
       "      <td>5510.0</td>\n",
       "      <td>0.772368</td>\n",
       "      <td>3.0</td>\n",
       "      <td>0.0</td>\n",
       "    </tr>\n",
       "    <tr>\n",
       "      <th>1</th>\n",
       "      <td>11319.0</td>\n",
       "      <td>0.776063</td>\n",
       "      <td>11.0</td>\n",
       "      <td>0.0</td>\n",
       "    </tr>\n",
       "    <tr>\n",
       "      <th>2</th>\n",
       "      <td>14269.0</td>\n",
       "      <td>0.756477</td>\n",
       "      <td>2.0</td>\n",
       "      <td>0.0</td>\n",
       "    </tr>\n",
       "    <tr>\n",
       "      <th>3</th>\n",
       "      <td>14856.0</td>\n",
       "      <td>0.781213</td>\n",
       "      <td>2.0</td>\n",
       "      <td>0.0</td>\n",
       "    </tr>\n",
       "    <tr>\n",
       "      <th>4</th>\n",
       "      <td>14857.0</td>\n",
       "      <td>0.776356</td>\n",
       "      <td>2.0</td>\n",
       "      <td>0.0</td>\n",
       "    </tr>\n",
       "    <tr>\n",
       "      <th>5</th>\n",
       "      <td>15047.0</td>\n",
       "      <td>0.781366</td>\n",
       "      <td>8.0</td>\n",
       "      <td>0.0</td>\n",
       "    </tr>\n",
       "    <tr>\n",
       "      <th>6</th>\n",
       "      <td>15048.0</td>\n",
       "      <td>0.775313</td>\n",
       "      <td>6.0</td>\n",
       "      <td>0.0</td>\n",
       "    </tr>\n",
       "    <tr>\n",
       "      <th>7</th>\n",
       "      <td>16079.0</td>\n",
       "      <td>0.774708</td>\n",
       "      <td>2.0</td>\n",
       "      <td>0.0</td>\n",
       "    </tr>\n",
       "    <tr>\n",
       "      <th>8</th>\n",
       "      <td>20837.0</td>\n",
       "      <td>0.768895</td>\n",
       "      <td>7.0</td>\n",
       "      <td>0.0</td>\n",
       "    </tr>\n",
       "    <tr>\n",
       "      <th>9</th>\n",
       "      <td>23569.0</td>\n",
       "      <td>0.774484</td>\n",
       "      <td>20.0</td>\n",
       "      <td>0.0</td>\n",
       "    </tr>\n",
       "    <tr>\n",
       "      <th>10</th>\n",
       "      <td>30106.0</td>\n",
       "      <td>0.760821</td>\n",
       "      <td>23.0</td>\n",
       "      <td>0.0</td>\n",
       "    </tr>\n",
       "    <tr>\n",
       "      <th>11</th>\n",
       "      <td>31039.0</td>\n",
       "      <td>0.776910</td>\n",
       "      <td>3.0</td>\n",
       "      <td>0.0</td>\n",
       "    </tr>\n",
       "    <tr>\n",
       "      <th>12</th>\n",
       "      <td>37814.0</td>\n",
       "      <td>0.775421</td>\n",
       "      <td>4.0</td>\n",
       "      <td>0.0</td>\n",
       "    </tr>\n",
       "    <tr>\n",
       "      <th>13</th>\n",
       "      <td>38191.0</td>\n",
       "      <td>0.766029</td>\n",
       "      <td>19.0</td>\n",
       "      <td>0.0</td>\n",
       "    </tr>\n",
       "    <tr>\n",
       "      <th>14</th>\n",
       "      <td>98396.0</td>\n",
       "      <td>0.781547</td>\n",
       "      <td>3.0</td>\n",
       "      <td>0.0</td>\n",
       "    </tr>\n",
       "    <tr>\n",
       "      <th>15</th>\n",
       "      <td>98397.0</td>\n",
       "      <td>0.781459</td>\n",
       "      <td>3.0</td>\n",
       "      <td>0.0</td>\n",
       "    </tr>\n",
       "  </tbody>\n",
       "</table>\n",
       "</div>"
      ],
      "text/plain": [
       "    ReferenceID     Score  Matches  Overflow\n",
       "0        5510.0  0.772368      3.0       0.0\n",
       "1       11319.0  0.776063     11.0       0.0\n",
       "2       14269.0  0.756477      2.0       0.0\n",
       "3       14856.0  0.781213      2.0       0.0\n",
       "4       14857.0  0.776356      2.0       0.0\n",
       "5       15047.0  0.781366      8.0       0.0\n",
       "6       15048.0  0.775313      6.0       0.0\n",
       "7       16079.0  0.774708      2.0       0.0\n",
       "8       20837.0  0.768895      7.0       0.0\n",
       "9       23569.0  0.774484     20.0       0.0\n",
       "10      30106.0  0.760821     23.0       0.0\n",
       "11      31039.0  0.776910      3.0       0.0\n",
       "12      37814.0  0.775421      4.0       0.0\n",
       "13      38191.0  0.766029     19.0       0.0\n",
       "14      98396.0  0.781547      3.0       0.0\n",
       "15      98397.0  0.781459      3.0       0.0"
      ]
     },
     "metadata": {},
     "output_type": "display_data"
    }
   ],
   "source": [
    "import pandas as pd\n",
    "from IPython.display import display\n",
    "for q in query:\n",
    "    idx = qabs == q\n",
    "    res = np.stack([rabs[idx], score[idx], matches[idx], overflow[idx]],axis=1)\n",
    "    res = pd.DataFrame(res, columns='ReferenceID Score Matches Overflow'.split())\n",
    "    print(f\"Similarity for chemical with QueryID={q}\")\n",
    "    display(res)"
   ]
  },
  {
   "cell_type": "code",
   "execution_count": null,
   "metadata": {},
   "outputs": [],
   "source": []
  }
 ],
 "metadata": {
  "kernelspec": {
   "display_name": "Python 3 (ipykernel)",
   "language": "python",
   "name": "python3"
  },
  "language_info": {
   "codemirror_mode": {
    "name": "ipython",
    "version": 3
   },
   "file_extension": ".py",
   "mimetype": "text/x-python",
   "name": "python",
   "nbconvert_exporter": "python",
   "pygments_lexer": "ipython3",
   "version": "3.1.-1"
  }
 },
 "nbformat": 4,
 "nbformat_minor": 4
}
