{
  "cells": [
    {
      "cell_type": "markdown",
      "metadata": {
        "id": "qPSjkVKLy7r4"
      },
      "source": [
        "# SimMS - bring your own MGF\n",
        "\n",
        "In this notebook, you can upload your own .mgf spectra file to use the colab GPU for fast similarity predictions.\n",
        "\n",
        "You will need to enable a **colab GPU instance* for this to run, refer to [quickstart notebook](https://colab.research.google.com/github/PangeAI/simms/blob/main/notebooks/samples/colab_tutorial_pesticide.ipynb) to learn how to do this."
      ]
    },
    {
      "cell_type": "code",
      "execution_count": 1,
      "metadata": {
        "id": "Ut97p_-8y7r6"
      },
      "outputs": [],
      "source": [
        "import os\n",
        "\n",
        "assert os.system(\"nvidia-smi\") == 0, (\"GPU isn't available. \\n In the upper right, click triangle icon->'Change runtime Type' and select the 'T4 GPU'.\")"
      ]
    },
    {
      "cell_type": "markdown",
      "metadata": {},
      "source": [
        "Upload two `.mgf` files here (we will perform pairwise similarity between those two):"
      ]
    },
    {
      "cell_type": "code",
      "execution_count": 11,
      "metadata": {
        "colab": {
          "base_uri": "https://localhost:8080/",
          "height": 202
        },
        "id": "amsynBOkOYMP",
        "outputId": "c803d87f-89ef-4853-c970-a77db2fff18e"
      },
      "outputs": [
        {
          "name": "stdout",
          "output_type": "stream",
          "text": [
            "Upload an mgf file (as a query)\n"
          ]
        },
        {
          "data": {
            "text/html": [
              "\n",
              "     <input type=\"file\" id=\"files-1a1d188e-3398-45b0-8f4b-d18f2d32e0cc\" name=\"files[]\" multiple disabled\n",
              "        style=\"border:none\" />\n",
              "     <output id=\"result-1a1d188e-3398-45b0-8f4b-d18f2d32e0cc\">\n",
              "      Upload widget is only available when the cell has been executed in the\n",
              "      current browser session. Please rerun this cell to enable.\n",
              "      </output>\n",
              "      <script>// Copyright 2017 Google LLC\n",
              "//\n",
              "// Licensed under the Apache License, Version 2.0 (the \"License\");\n",
              "// you may not use this file except in compliance with the License.\n",
              "// You may obtain a copy of the License at\n",
              "//\n",
              "//      http://www.apache.org/licenses/LICENSE-2.0\n",
              "//\n",
              "// Unless required by applicable law or agreed to in writing, software\n",
              "// distributed under the License is distributed on an \"AS IS\" BASIS,\n",
              "// WITHOUT WARRANTIES OR CONDITIONS OF ANY KIND, either express or implied.\n",
              "// See the License for the specific language governing permissions and\n",
              "// limitations under the License.\n",
              "\n",
              "/**\n",
              " * @fileoverview Helpers for google.colab Python module.\n",
              " */\n",
              "(function(scope) {\n",
              "function span(text, styleAttributes = {}) {\n",
              "  const element = document.createElement('span');\n",
              "  element.textContent = text;\n",
              "  for (const key of Object.keys(styleAttributes)) {\n",
              "    element.style[key] = styleAttributes[key];\n",
              "  }\n",
              "  return element;\n",
              "}\n",
              "\n",
              "// Max number of bytes which will be uploaded at a time.\n",
              "const MAX_PAYLOAD_SIZE = 100 * 1024;\n",
              "\n",
              "function _uploadFiles(inputId, outputId) {\n",
              "  const steps = uploadFilesStep(inputId, outputId);\n",
              "  const outputElement = document.getElementById(outputId);\n",
              "  // Cache steps on the outputElement to make it available for the next call\n",
              "  // to uploadFilesContinue from Python.\n",
              "  outputElement.steps = steps;\n",
              "\n",
              "  return _uploadFilesContinue(outputId);\n",
              "}\n",
              "\n",
              "// This is roughly an async generator (not supported in the browser yet),\n",
              "// where there are multiple asynchronous steps and the Python side is going\n",
              "// to poll for completion of each step.\n",
              "// This uses a Promise to block the python side on completion of each step,\n",
              "// then passes the result of the previous step as the input to the next step.\n",
              "function _uploadFilesContinue(outputId) {\n",
              "  const outputElement = document.getElementById(outputId);\n",
              "  const steps = outputElement.steps;\n",
              "\n",
              "  const next = steps.next(outputElement.lastPromiseValue);\n",
              "  return Promise.resolve(next.value.promise).then((value) => {\n",
              "    // Cache the last promise value to make it available to the next\n",
              "    // step of the generator.\n",
              "    outputElement.lastPromiseValue = value;\n",
              "    return next.value.response;\n",
              "  });\n",
              "}\n",
              "\n",
              "/**\n",
              " * Generator function which is called between each async step of the upload\n",
              " * process.\n",
              " * @param {string} inputId Element ID of the input file picker element.\n",
              " * @param {string} outputId Element ID of the output display.\n",
              " * @return {!Iterable<!Object>} Iterable of next steps.\n",
              " */\n",
              "function* uploadFilesStep(inputId, outputId) {\n",
              "  const inputElement = document.getElementById(inputId);\n",
              "  inputElement.disabled = false;\n",
              "\n",
              "  const outputElement = document.getElementById(outputId);\n",
              "  outputElement.innerHTML = '';\n",
              "\n",
              "  const pickedPromise = new Promise((resolve) => {\n",
              "    inputElement.addEventListener('change', (e) => {\n",
              "      resolve(e.target.files);\n",
              "    });\n",
              "  });\n",
              "\n",
              "  const cancel = document.createElement('button');\n",
              "  inputElement.parentElement.appendChild(cancel);\n",
              "  cancel.textContent = 'Cancel upload';\n",
              "  const cancelPromise = new Promise((resolve) => {\n",
              "    cancel.onclick = () => {\n",
              "      resolve(null);\n",
              "    };\n",
              "  });\n",
              "\n",
              "  // Wait for the user to pick the files.\n",
              "  const files = yield {\n",
              "    promise: Promise.race([pickedPromise, cancelPromise]),\n",
              "    response: {\n",
              "      action: 'starting',\n",
              "    }\n",
              "  };\n",
              "\n",
              "  cancel.remove();\n",
              "\n",
              "  // Disable the input element since further picks are not allowed.\n",
              "  inputElement.disabled = true;\n",
              "\n",
              "  if (!files) {\n",
              "    return {\n",
              "      response: {\n",
              "        action: 'complete',\n",
              "      }\n",
              "    };\n",
              "  }\n",
              "\n",
              "  for (const file of files) {\n",
              "    const li = document.createElement('li');\n",
              "    li.append(span(file.name, {fontWeight: 'bold'}));\n",
              "    li.append(span(\n",
              "        `(${file.type || 'n/a'}) - ${file.size} bytes, ` +\n",
              "        `last modified: ${\n",
              "            file.lastModifiedDate ? file.lastModifiedDate.toLocaleDateString() :\n",
              "                                    'n/a'} - `));\n",
              "    const percent = span('0% done');\n",
              "    li.appendChild(percent);\n",
              "\n",
              "    outputElement.appendChild(li);\n",
              "\n",
              "    const fileDataPromise = new Promise((resolve) => {\n",
              "      const reader = new FileReader();\n",
              "      reader.onload = (e) => {\n",
              "        resolve(e.target.result);\n",
              "      };\n",
              "      reader.readAsArrayBuffer(file);\n",
              "    });\n",
              "    // Wait for the data to be ready.\n",
              "    let fileData = yield {\n",
              "      promise: fileDataPromise,\n",
              "      response: {\n",
              "        action: 'continue',\n",
              "      }\n",
              "    };\n",
              "\n",
              "    // Use a chunked sending to avoid message size limits. See b/62115660.\n",
              "    let position = 0;\n",
              "    do {\n",
              "      const length = Math.min(fileData.byteLength - position, MAX_PAYLOAD_SIZE);\n",
              "      const chunk = new Uint8Array(fileData, position, length);\n",
              "      position += length;\n",
              "\n",
              "      const base64 = btoa(String.fromCharCode.apply(null, chunk));\n",
              "      yield {\n",
              "        response: {\n",
              "          action: 'append',\n",
              "          file: file.name,\n",
              "          data: base64,\n",
              "        },\n",
              "      };\n",
              "\n",
              "      let percentDone = fileData.byteLength === 0 ?\n",
              "          100 :\n",
              "          Math.round((position / fileData.byteLength) * 100);\n",
              "      percent.textContent = `${percentDone}% done`;\n",
              "\n",
              "    } while (position < fileData.byteLength);\n",
              "  }\n",
              "\n",
              "  // All done.\n",
              "  yield {\n",
              "    response: {\n",
              "      action: 'complete',\n",
              "    }\n",
              "  };\n",
              "}\n",
              "\n",
              "scope.google = scope.google || {};\n",
              "scope.google.colab = scope.google.colab || {};\n",
              "scope.google.colab._files = {\n",
              "  _uploadFiles,\n",
              "  _uploadFilesContinue,\n",
              "};\n",
              "})(self);\n",
              "</script> "
            ],
            "text/plain": [
              "<IPython.core.display.HTML object>"
            ]
          },
          "metadata": {},
          "output_type": "display_data"
        },
        {
          "name": "stdout",
          "output_type": "stream",
          "text": [
            "Saving pesticides.mgf to pesticides (5).mgf\n",
            "Uploaded file \"pesticides (5).mgf\" with size 0.000GB\n",
            "Now upload another mgf file (as a reference)\n"
          ]
        },
        {
          "data": {
            "text/html": [
              "\n",
              "     <input type=\"file\" id=\"files-cafe3027-bfcd-45fc-af2d-33a4308c3c70\" name=\"files[]\" multiple disabled\n",
              "        style=\"border:none\" />\n",
              "     <output id=\"result-cafe3027-bfcd-45fc-af2d-33a4308c3c70\">\n",
              "      Upload widget is only available when the cell has been executed in the\n",
              "      current browser session. Please rerun this cell to enable.\n",
              "      </output>\n",
              "      <script>// Copyright 2017 Google LLC\n",
              "//\n",
              "// Licensed under the Apache License, Version 2.0 (the \"License\");\n",
              "// you may not use this file except in compliance with the License.\n",
              "// You may obtain a copy of the License at\n",
              "//\n",
              "//      http://www.apache.org/licenses/LICENSE-2.0\n",
              "//\n",
              "// Unless required by applicable law or agreed to in writing, software\n",
              "// distributed under the License is distributed on an \"AS IS\" BASIS,\n",
              "// WITHOUT WARRANTIES OR CONDITIONS OF ANY KIND, either express or implied.\n",
              "// See the License for the specific language governing permissions and\n",
              "// limitations under the License.\n",
              "\n",
              "/**\n",
              " * @fileoverview Helpers for google.colab Python module.\n",
              " */\n",
              "(function(scope) {\n",
              "function span(text, styleAttributes = {}) {\n",
              "  const element = document.createElement('span');\n",
              "  element.textContent = text;\n",
              "  for (const key of Object.keys(styleAttributes)) {\n",
              "    element.style[key] = styleAttributes[key];\n",
              "  }\n",
              "  return element;\n",
              "}\n",
              "\n",
              "// Max number of bytes which will be uploaded at a time.\n",
              "const MAX_PAYLOAD_SIZE = 100 * 1024;\n",
              "\n",
              "function _uploadFiles(inputId, outputId) {\n",
              "  const steps = uploadFilesStep(inputId, outputId);\n",
              "  const outputElement = document.getElementById(outputId);\n",
              "  // Cache steps on the outputElement to make it available for the next call\n",
              "  // to uploadFilesContinue from Python.\n",
              "  outputElement.steps = steps;\n",
              "\n",
              "  return _uploadFilesContinue(outputId);\n",
              "}\n",
              "\n",
              "// This is roughly an async generator (not supported in the browser yet),\n",
              "// where there are multiple asynchronous steps and the Python side is going\n",
              "// to poll for completion of each step.\n",
              "// This uses a Promise to block the python side on completion of each step,\n",
              "// then passes the result of the previous step as the input to the next step.\n",
              "function _uploadFilesContinue(outputId) {\n",
              "  const outputElement = document.getElementById(outputId);\n",
              "  const steps = outputElement.steps;\n",
              "\n",
              "  const next = steps.next(outputElement.lastPromiseValue);\n",
              "  return Promise.resolve(next.value.promise).then((value) => {\n",
              "    // Cache the last promise value to make it available to the next\n",
              "    // step of the generator.\n",
              "    outputElement.lastPromiseValue = value;\n",
              "    return next.value.response;\n",
              "  });\n",
              "}\n",
              "\n",
              "/**\n",
              " * Generator function which is called between each async step of the upload\n",
              " * process.\n",
              " * @param {string} inputId Element ID of the input file picker element.\n",
              " * @param {string} outputId Element ID of the output display.\n",
              " * @return {!Iterable<!Object>} Iterable of next steps.\n",
              " */\n",
              "function* uploadFilesStep(inputId, outputId) {\n",
              "  const inputElement = document.getElementById(inputId);\n",
              "  inputElement.disabled = false;\n",
              "\n",
              "  const outputElement = document.getElementById(outputId);\n",
              "  outputElement.innerHTML = '';\n",
              "\n",
              "  const pickedPromise = new Promise((resolve) => {\n",
              "    inputElement.addEventListener('change', (e) => {\n",
              "      resolve(e.target.files);\n",
              "    });\n",
              "  });\n",
              "\n",
              "  const cancel = document.createElement('button');\n",
              "  inputElement.parentElement.appendChild(cancel);\n",
              "  cancel.textContent = 'Cancel upload';\n",
              "  const cancelPromise = new Promise((resolve) => {\n",
              "    cancel.onclick = () => {\n",
              "      resolve(null);\n",
              "    };\n",
              "  });\n",
              "\n",
              "  // Wait for the user to pick the files.\n",
              "  const files = yield {\n",
              "    promise: Promise.race([pickedPromise, cancelPromise]),\n",
              "    response: {\n",
              "      action: 'starting',\n",
              "    }\n",
              "  };\n",
              "\n",
              "  cancel.remove();\n",
              "\n",
              "  // Disable the input element since further picks are not allowed.\n",
              "  inputElement.disabled = true;\n",
              "\n",
              "  if (!files) {\n",
              "    return {\n",
              "      response: {\n",
              "        action: 'complete',\n",
              "      }\n",
              "    };\n",
              "  }\n",
              "\n",
              "  for (const file of files) {\n",
              "    const li = document.createElement('li');\n",
              "    li.append(span(file.name, {fontWeight: 'bold'}));\n",
              "    li.append(span(\n",
              "        `(${file.type || 'n/a'}) - ${file.size} bytes, ` +\n",
              "        `last modified: ${\n",
              "            file.lastModifiedDate ? file.lastModifiedDate.toLocaleDateString() :\n",
              "                                    'n/a'} - `));\n",
              "    const percent = span('0% done');\n",
              "    li.appendChild(percent);\n",
              "\n",
              "    outputElement.appendChild(li);\n",
              "\n",
              "    const fileDataPromise = new Promise((resolve) => {\n",
              "      const reader = new FileReader();\n",
              "      reader.onload = (e) => {\n",
              "        resolve(e.target.result);\n",
              "      };\n",
              "      reader.readAsArrayBuffer(file);\n",
              "    });\n",
              "    // Wait for the data to be ready.\n",
              "    let fileData = yield {\n",
              "      promise: fileDataPromise,\n",
              "      response: {\n",
              "        action: 'continue',\n",
              "      }\n",
              "    };\n",
              "\n",
              "    // Use a chunked sending to avoid message size limits. See b/62115660.\n",
              "    let position = 0;\n",
              "    do {\n",
              "      const length = Math.min(fileData.byteLength - position, MAX_PAYLOAD_SIZE);\n",
              "      const chunk = new Uint8Array(fileData, position, length);\n",
              "      position += length;\n",
              "\n",
              "      const base64 = btoa(String.fromCharCode.apply(null, chunk));\n",
              "      yield {\n",
              "        response: {\n",
              "          action: 'append',\n",
              "          file: file.name,\n",
              "          data: base64,\n",
              "        },\n",
              "      };\n",
              "\n",
              "      let percentDone = fileData.byteLength === 0 ?\n",
              "          100 :\n",
              "          Math.round((position / fileData.byteLength) * 100);\n",
              "      percent.textContent = `${percentDone}% done`;\n",
              "\n",
              "    } while (position < fileData.byteLength);\n",
              "  }\n",
              "\n",
              "  // All done.\n",
              "  yield {\n",
              "    response: {\n",
              "      action: 'complete',\n",
              "    }\n",
              "  };\n",
              "}\n",
              "\n",
              "scope.google = scope.google || {};\n",
              "scope.google.colab = scope.google.colab || {};\n",
              "scope.google.colab._files = {\n",
              "  _uploadFiles,\n",
              "  _uploadFilesContinue,\n",
              "};\n",
              "})(self);\n",
              "</script> "
            ],
            "text/plain": [
              "<IPython.core.display.HTML object>"
            ]
          },
          "metadata": {},
          "output_type": "display_data"
        },
        {
          "name": "stdout",
          "output_type": "stream",
          "text": [
            "Saving pesticides.mgf to pesticides (6).mgf\n",
            "Uploaded file \"pesticides (5).mgf\" with size 0.000GB\n"
          ]
        }
      ],
      "source": [
        "from google.colab import files\n",
        "\n",
        "print(\"Upload an mgf file (as a query)\")\n",
        "uploaded = files.upload()\n",
        "# Handle the uploaded file\n",
        "for filename_a, content in uploaded.items():\n",
        "    print(f'Uploaded file \"{filename_a}\" with size {len(content)/1e9:.3f}GB')\n",
        "\n",
        "print(\"Now upload a second mgf file (as a reference)\")\n",
        "uploaded = files.upload()\n",
        "# Handle the uploaded file\n",
        "for filename_b, content in uploaded.items():\n",
        "    print(f'Uploaded file \"{filename_a}\" with size {len(content)/1e9:.3f}GB')"
      ]
    },
    {
      "cell_type": "markdown",
      "metadata": {
        "id": "C_RovNUdy7r9"
      },
      "source": [
        "Install the `simms` package from github"
      ]
    },
    {
      "cell_type": "code",
      "execution_count": 2,
      "metadata": {
        "colab": {
          "base_uri": "https://localhost:8080/"
        },
        "id": "QZf_VZ-zy7r9",
        "outputId": "ba046e03-3113-4794-daf4-e24e30a9cb69"
      },
      "outputs": [
        {
          "name": "stdout",
          "output_type": "stream",
          "text": [
            "  Installing build dependencies ... \u001b[?25l\u001b[?25hdone\n",
            "  Getting requirements to build wheel ... \u001b[?25l\u001b[?25hdone\n",
            "  Preparing metadata (pyproject.toml) ... \u001b[?25l\u001b[?25hdone\n",
            "  Building wheel for simms (pyproject.toml) ... \u001b[?25l\u001b[?25hdone\n"
          ]
        }
      ],
      "source": [
        "! pip uninstall simms -qq -y\n",
        "! pip install -q git+https://github.com/PangeAI/simms.git@main"
      ]
    },
    {
      "cell_type": "markdown",
      "metadata": {
        "id": "D1beTrY0y7r-"
      },
      "source": [
        "Import relevant methods and libraries"
      ]
    },
    {
      "cell_type": "code",
      "execution_count": 3,
      "metadata": {
        "id": "Zjs67xEIy7r-"
      },
      "outputs": [],
      "source": [
        "from matchms.importing import load_from_mgf\n",
        "from matchms.filtering import default_filters\n",
        "from matchms.filtering import normalize_intensities\n",
        "from matchms import calculate_scores\n",
        "from matchms.similarity import CosineGreedy\n",
        "from simms.utils import download\n",
        "from pathlib import Path\n",
        "from simms.similarity import CudaCosineGreedy\n",
        "from numba import cuda\n",
        "import numpy as np\n",
        "assert cuda.is_available()"
      ]
    },
    {
      "cell_type": "code",
      "execution_count": 6,
      "metadata": {
        "id": "UPDYb5_AFud5"
      },
      "outputs": [],
      "source": [
        "# Set reasonable defaults for the kernel\n",
        "# Set default parameters for the kernel\n",
        "match_limit = 1024\n",
        "max_peaks = 1024\n",
        "batch_size = 2048"
      ]
    },
    {
      "cell_type": "code",
      "execution_count": 7,
      "metadata": {
        "id": "OxnfyfyjFTQy"
      },
      "outputs": [],
      "source": [
        "from pathlib import Path\n",
        "from joblib import Parallel, delayed\n",
        "from matchms.filtering import default_filters, normalize_intensities, reduce_to_number_of_peaks\n",
        "from matchms.importing import load_from_mgf\n",
        "import pickle\n",
        "\n",
        "def parse_file(spectra_file):\n",
        "  def parse_spectrum(spectrum):\n",
        "      ## Uncomment if you want default filters enabled - add more if you need them.\n",
        "      # spectrum = default_filters(spectrum)\n",
        "      spectrum = reduce_to_number_of_peaks(spectrum, n_max=max_peaks)\n",
        "      # spectrum = normalize_intensities(spectrum)\n",
        "      return spectrum\n",
        "\n",
        "  spectrums = load_from_mgf(spectra_file)\n",
        "  spectrums = Parallel(-1)(delayed(parse_spectrum)(spec) for spec in spectrums)\n",
        "  spectrums = [spe for spe in spectrums if spe is not None]\n",
        "  return spectrums\n",
        "\n",
        "references = parse_file(filename_a)\n",
        "queries = parse_file(filename_b)"
      ]
    },
    {
      "cell_type": "markdown",
      "metadata": {
        "id": "73PZVayxy7sA"
      },
      "source": [
        "Perform calculations using the using original `matchms` functions."
      ]
    },
    {
      "cell_type": "code",
      "execution_count": 8,
      "metadata": {
        "colab": {
          "base_uri": "https://localhost:8080/"
        },
        "id": "uwHrKD7uy7sA",
        "outputId": "dcac751f-f5d9-4e3f-ad8d-9a266ee93c03"
      },
      "outputs": [
        {
          "name": "stderr",
          "output_type": "stream",
          "text": [
            "100%|██████████| 1/1 [00:01<00:00,  1.55s/it]"
          ]
        },
        {
          "name": "stdout",
          "output_type": "stream",
          "text": [
            "Size of matrix of computed similarities: (76, 76, 3)\n",
            "Reference scan id: 2161\n",
            "Query scan id: 2161\n",
            "Score: 1.0000\n",
            "Number of matching peaks: 81\n",
            "Overflow: False\n",
            "----------------------------\n",
            "Reference scan id: 613\n",
            "Query scan id: 2161\n",
            "Score: 0.8646\n",
            "Number of matching peaks: 14\n",
            "Overflow: False\n",
            "----------------------------\n",
            "Reference scan id: 603\n",
            "Query scan id: 2161\n",
            "Score: 0.8237\n",
            "Number of matching peaks: 14\n",
            "Overflow: False\n",
            "----------------------------\n",
            "Reference scan id: 2160\n",
            "Query scan id: 2161\n",
            "Score: 0.8015\n",
            "Number of matching peaks: 25\n",
            "Overflow: False\n",
            "----------------------------\n",
            "Reference scan id: 2362\n",
            "Query scan id: 2161\n",
            "Score: 0.2923\n",
            "Number of matching peaks: 7\n",
            "Overflow: False\n",
            "----------------------------\n",
            "Reference scan id: 2598\n",
            "Query scan id: 2161\n",
            "Score: 0.2231\n",
            "Number of matching peaks: 5\n",
            "Overflow: False\n",
            "----------------------------\n",
            "Reference scan id: 2594\n",
            "Query scan id: 2161\n",
            "Score: 0.1761\n",
            "Number of matching peaks: 3\n",
            "Overflow: False\n",
            "----------------------------\n",
            "Reference scan id: 1944\n",
            "Query scan id: 2161\n",
            "Score: 0.1396\n",
            "Number of matching peaks: 5\n",
            "Overflow: False\n",
            "----------------------------\n",
            "Reference scan id: 1772\n",
            "Query scan id: 2161\n",
            "Score: 0.1037\n",
            "Number of matching peaks: 4\n",
            "Overflow: False\n",
            "----------------------------\n",
            "Reference scan id: 2284\n",
            "Query scan id: 2161\n",
            "Score: 0.0675\n",
            "Number of matching peaks: 9\n",
            "Overflow: False\n",
            "----------------------------\n"
          ]
        },
        {
          "name": "stderr",
          "output_type": "stream",
          "text": [
            "\n"
          ]
        }
      ],
      "source": [
        "similarity_function=CudaCosineGreedy(\n",
        "    # You can modify the similarity parameters here, just like in matchms.\n",
        "    tolerance=0.1,\n",
        ")\n",
        "\n",
        "scores = calculate_scores(references=references,\n",
        "                          queries=queries,\n",
        "                          similarity_function=similarity_function)\n",
        "print(f\"Size of matrix of computed similarities: {scores.scores.shape}\")\n",
        "\n",
        "# Matchms allows to get the best matches for any query using scores_by_query\n",
        "query = queries[0]  # just an example\n",
        "best_matches = scores.scores_by_query(query, 'CudaCosineGreedy_score', sort=True)\n",
        "\n",
        "# Print the calculated scores for each spectrum pair\n",
        "for (reference, (score, matches, overflow)) in best_matches[:10]:\n",
        "    # Ignore scores between same spectrum\n",
        "    if reference is not query:\n",
        "        print(f\"Reference scan id: {reference.metadata['scans']}\")\n",
        "        print(f\"Query scan id: {query.metadata['scans']}\")\n",
        "        print(f\"Score: {score:.4f}\")\n",
        "        print(f\"Number of matching peaks: {matches}\")\n",
        "        # Overflow means we've reached at least\n",
        "        print(f\"Overflow: {overflow == True}\")\n",
        "        print(\"----------------------------\")"
      ]
    },
    {
      "cell_type": "code",
      "execution_count": 9,
      "metadata": {
        "colab": {
          "base_uri": "https://localhost:8080/",
          "height": 17
        },
        "id": "kthpE50BN01R",
        "outputId": "8269f951-dfab-4db2-b82c-5dc064dcceba"
      },
      "outputs": [
        {
          "data": {
            "application/javascript": "\n    async function download(id, filename, size) {\n      if (!google.colab.kernel.accessAllowed) {\n        return;\n      }\n      const div = document.createElement('div');\n      const label = document.createElement('label');\n      label.textContent = `Downloading \"${filename}\": `;\n      div.appendChild(label);\n      const progress = document.createElement('progress');\n      progress.max = size;\n      div.appendChild(progress);\n      document.body.appendChild(div);\n\n      const buffers = [];\n      let downloaded = 0;\n\n      const channel = await google.colab.kernel.comms.open(id);\n      // Send a message to notify the kernel that we're ready.\n      channel.send({})\n\n      for await (const message of channel.messages) {\n        // Send a message to notify the kernel that we're ready.\n        channel.send({})\n        if (message.buffers) {\n          for (const buffer of message.buffers) {\n            buffers.push(buffer);\n            downloaded += buffer.byteLength;\n            progress.value = downloaded;\n          }\n        }\n      }\n      const blob = new Blob(buffers, {type: 'application/binary'});\n      const a = document.createElement('a');\n      a.href = window.URL.createObjectURL(blob);\n      a.download = filename;\n      div.appendChild(a);\n      a.click();\n      div.remove();\n    }\n  ",
            "text/plain": [
              "<IPython.core.display.Javascript object>"
            ]
          },
          "metadata": {},
          "output_type": "display_data"
        },
        {
          "data": {
            "application/javascript": "download(\"download_29d1d337-752b-419e-b4d7-2532a2dd56a2\", \"scores.npz\", 16334)",
            "text/plain": [
              "<IPython.core.display.Javascript object>"
            ]
          },
          "metadata": {},
          "output_type": "display_data"
        }
      ],
      "source": [
        "np.savez_compressed(\n",
        "        'scores.npz',\n",
        "        score=scores.scores.to_array()['CudaCosineGreedy_score'],\n",
        ")\n",
        "\n",
        "# Trigger file download\n",
        "files.download('scores.npz')"
      ]
    },
    {
      "cell_type": "markdown",
      "metadata": {},
      "source": [
        "You can download a full similarity matrix.\n",
        "\n",
        "You can then use the `scores.npz` as follows:\n",
        "\n",
        "```py\n",
        "import numpy as np\n",
        "\n",
        "score_loaded = np.load('scores.npz')['score']\n",
        "\n",
        "# Get the score between query num. 10 and reference number 21\n",
        "print(score_loaded[10, 21])\n",
        "```\n",
        "\n",
        "Or, you can just use it within this notebook, without downloading it."
      ]
    }
  ],
  "metadata": {
    "accelerator": "GPU",
    "colab": {
      "gpuType": "T4",
      "provenance": []
    },
    "kernelspec": {
      "display_name": "Python 3",
      "name": "python3"
    },
    "language_info": {
      "codemirror_mode": {
        "name": "ipython",
        "version": 3
      },
      "file_extension": ".py",
      "mimetype": "text/x-python",
      "name": "python",
      "nbconvert_exporter": "python",
      "pygments_lexer": "ipython3",
      "version": "3.10.11"
    }
  },
  "nbformat": 4,
  "nbformat_minor": 0
}
